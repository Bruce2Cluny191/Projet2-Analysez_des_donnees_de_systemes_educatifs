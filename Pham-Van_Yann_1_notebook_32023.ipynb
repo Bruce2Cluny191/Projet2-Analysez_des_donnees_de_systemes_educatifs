{
 "cells": [
  {
   "cell_type": "markdown",
   "metadata": {},
   "source": [
    "# Parcours Data Scientist - Yann Pham-Van"
   ]
  },
  {
   "cell_type": "markdown",
   "metadata": {},
   "source": [
    "## Projet 2 : Analysez des données de systèmes éducatifs"
   ]
  },
  {
   "cell_type": "markdown",
   "metadata": {},
   "source": [
    "## Mission\n",
    "Vous êtes Data Scientist dans une **start-up de la EdTech**, nommée ***academy***, qui propose des contenus de formation en ligne pour un public de niveau lycée et université.\n",
    "\n",
    "**Mark**, votre manager, vous a convié à une réunion pour vous présenter le projet d’**expansion à l’international** de l’entreprise. Il vous confie une **première mission d’analyse exploratoire**, pour déterminer si les données sur l’éducation de la banque mondiale permettent d’informer le projet d’expansion.\n",
    "\n",
    "Voici les différentes questions que Mark aimerait explorer, que vous avez notées durant la réunion :\n",
    "\n",
    "- Quels sont les pays avec un fort potentiel de clients pour nos services ?\n",
    "- Pour chacun de ces pays, quelle sera l’évolution de ce potentiel de clients ?\n",
    "- Dans quels pays l'entreprise doit-elle opérer en priorité ?\n",
    "### Votre mission\n",
    "Mark vous a donc demandé de réaliser une analyse pré-exploratoire de ce jeu de données. Il vous a transmis cet email à la suite de la réunion :\n",
    "___\n",
    "\n",
    "Hello,\n",
    "\n",
    "Les données de la Banque mondiale sont disponibles à l’adresse suivante :\n",
    "\n",
    "https://datacatalog.worldbank.org/dataset/education-statistics\n",
    "\n",
    "Ou en téléchargement direct à ce lien.\n",
    "\n",
    "Je te laisse regarder la page d'accueil qui décrit le jeu de données. En résumé, l’organisme “EdStats All Indicator Query” de la Banque mondiale répertorie 4000 indicateurs internationaux décrivant l’accès à l’éducation, l’obtention de diplômes et des informations relatives aux professeurs, aux dépenses liées à l’éducation... Tu trouveras plus d'info sur ce site :\n",
    "\n",
    "http://datatopics.worldbank.org/education/\n",
    "\n",
    "Pour la pré-analyse, pourrais-tu :\n",
    "\n",
    "- Valider la qualité de ce jeu de données (comporte-t-il beaucoup de données manquantes, dupliquées ?)\n",
    "- Décrire les informations contenues dans le jeu de données (nombre de colonnes ? nombre de lignes ?)\n",
    "- Sélectionner les informations qui semblent pertinentes pour répondre à la problématique (quelles sont les colonnes contenant des informations qui peuvent être utiles pour répondre à la problématique de l’entreprise ?)\n",
    "- Déterminer des ordres de grandeurs des indicateurs statistiques classiques pour les différentes zones géographiques et pays du monde (moyenne/médiane/écart-type par pays et par continent ou bloc géographique)\n",
    "\n",
    "Ton travail va nous permettre de déterminer si ce jeu de données peut informer les décisions d'ouverture vers de nouveaux pays. On va partager ton analyse avec le board, alors merci de soigner la présentation et de l'illustrer avec des graphiques pertinents et lisibles !\n",
    "___"
   ]
  },
  {
   "cell_type": "code",
   "execution_count": 1,
   "metadata": {
    "executionInfo": {
     "elapsed": 890,
     "status": "ok",
     "timestamp": 1678722196868,
     "user": {
      "displayName": "Yann Pham-Van",
      "userId": "01566159679714144134"
     },
     "user_tz": -60
    },
    "id": "S5NUn_msdsgY"
   },
   "outputs": [],
   "source": [
    "# Appel des librairies utilisées\n",
    "\n",
    "import numpy as np\n",
    "import pandas as pd\n",
    "import matplotlib.pyplot as plt\n",
    "import seaborn as sns\n",
    "import scipy.stats as st\n",
    "import statsmodels.api as sm"
   ]
  },
  {
   "cell_type": "markdown",
   "metadata": {},
   "source": [
    "# Inspection des données"
   ]
  },
  {
   "cell_type": "code",
   "execution_count": 2,
   "metadata": {
    "executionInfo": {
     "elapsed": 2597,
     "status": "ok",
     "timestamp": 1678723460312,
     "user": {
      "displayName": "Yann Pham-Van",
      "userId": "01566159679714144134"
     },
     "user_tz": -60
    },
    "id": "YACH06VBo24G"
   },
   "outputs": [],
   "source": [
    "edStatsCountry_Series = pd.read_csv('EdStatsCountry-Series.csv', sep=',')\n",
    "edStatsCountry = pd.read_csv('EdStatsCountry.csv', sep=',')\n",
    "edStatsData = pd.read_csv('EdStatsData.csv', sep=',')\n",
    "edStatsFootNote = pd.read_csv('EdStatsFootNote.csv', sep=',')\n",
    "edStatsSeries = pd.read_csv('EdStatsSeries.csv', sep=',')"
   ]
  },
  {
   "cell_type": "markdown",
   "metadata": {},
   "source": [
    "J'affiche les premières lignes des dataframes pour vérifier que les données sont bien chargées, puis leur structure et enfin le type des colonnes, la présence de doublons ou le taux de données manquantes."
   ]
  },
  {
   "cell_type": "code",
   "execution_count": 3,
   "metadata": {
    "colab": {
     "base_uri": "https://localhost:8080/",
     "height": 238
    },
    "executionInfo": {
     "elapsed": 938,
     "status": "ok",
     "timestamp": 1678724580303,
     "user": {
      "displayName": "Yann Pham-Van",
      "userId": "01566159679714144134"
     },
     "user_tz": -60
    },
    "id": "-q1_OnFurwB-",
    "outputId": "02149293-11d3-4fb5-d516-c7629cd2940a",
    "scrolled": false
   },
   "outputs": [
    {
     "data": {
      "text/html": [
       "<div>\n",
       "<style scoped>\n",
       "    .dataframe tbody tr th:only-of-type {\n",
       "        vertical-align: middle;\n",
       "    }\n",
       "\n",
       "    .dataframe tbody tr th {\n",
       "        vertical-align: top;\n",
       "    }\n",
       "\n",
       "    .dataframe thead th {\n",
       "        text-align: right;\n",
       "    }\n",
       "</style>\n",
       "<table border=\"1\" class=\"dataframe\">\n",
       "  <thead>\n",
       "    <tr style=\"text-align: right;\">\n",
       "      <th></th>\n",
       "      <th>CountryCode</th>\n",
       "      <th>SeriesCode</th>\n",
       "      <th>DESCRIPTION</th>\n",
       "      <th>Unnamed: 3</th>\n",
       "    </tr>\n",
       "  </thead>\n",
       "  <tbody>\n",
       "    <tr>\n",
       "      <th>0</th>\n",
       "      <td>ABW</td>\n",
       "      <td>SP.POP.TOTL</td>\n",
       "      <td>Data sources : United Nations World Population...</td>\n",
       "      <td>NaN</td>\n",
       "    </tr>\n",
       "  </tbody>\n",
       "</table>\n",
       "</div>"
      ],
      "text/plain": [
       "  CountryCode   SeriesCode                                        DESCRIPTION  \\\n",
       "0         ABW  SP.POP.TOTL  Data sources : United Nations World Population...   \n",
       "\n",
       "   Unnamed: 3  \n",
       "0         NaN  "
      ]
     },
     "execution_count": 3,
     "metadata": {},
     "output_type": "execute_result"
    }
   ],
   "source": [
    "edStatsCountry_Series.head(1)"
   ]
  },
  {
   "cell_type": "code",
   "execution_count": 4,
   "metadata": {},
   "outputs": [
    {
     "data": {
      "text/plain": [
       "(613, 4)"
      ]
     },
     "execution_count": 4,
     "metadata": {},
     "output_type": "execute_result"
    }
   ],
   "source": [
    "edStatsCountry_Series.shape"
   ]
  },
  {
   "cell_type": "code",
   "execution_count": 5,
   "metadata": {},
   "outputs": [
    {
     "data": {
      "text/plain": [
       "CountryCode     object\n",
       "SeriesCode      object\n",
       "DESCRIPTION     object\n",
       "Unnamed: 3     float64\n",
       "dtype: object"
      ]
     },
     "execution_count": 5,
     "metadata": {},
     "output_type": "execute_result"
    }
   ],
   "source": [
    "edStatsCountry_Series.dtypes"
   ]
  },
  {
   "cell_type": "code",
   "execution_count": 6,
   "metadata": {},
   "outputs": [
    {
     "data": {
      "text/plain": [
       "0"
      ]
     },
     "execution_count": 6,
     "metadata": {},
     "output_type": "execute_result"
    }
   ],
   "source": [
    "edStatsCountry_Series.duplicated().sum()"
   ]
  },
  {
   "cell_type": "code",
   "execution_count": 7,
   "metadata": {},
   "outputs": [
    {
     "data": {
      "text/plain": [
       "CountryCode    0.0\n",
       "SeriesCode     0.0\n",
       "DESCRIPTION    0.0\n",
       "Unnamed: 3     1.0\n",
       "dtype: float64"
      ]
     },
     "execution_count": 7,
     "metadata": {},
     "output_type": "execute_result"
    }
   ],
   "source": [
    "edStatsCountry_Series.isna().mean()"
   ]
  },
  {
   "cell_type": "code",
   "execution_count": 8,
   "metadata": {
    "colab": {
     "base_uri": "https://localhost:8080/",
     "height": 921
    },
    "executionInfo": {
     "elapsed": 243,
     "status": "ok",
     "timestamp": 1678724664335,
     "user": {
      "displayName": "Yann Pham-Van",
      "userId": "01566159679714144134"
     },
     "user_tz": -60
    },
    "id": "AEteEZzruAA3",
    "outputId": "e43cde84-6645-4910-fbf3-ee4e641402a9",
    "scrolled": false
   },
   "outputs": [
    {
     "data": {
      "text/html": [
       "<div>\n",
       "<style scoped>\n",
       "    .dataframe tbody tr th:only-of-type {\n",
       "        vertical-align: middle;\n",
       "    }\n",
       "\n",
       "    .dataframe tbody tr th {\n",
       "        vertical-align: top;\n",
       "    }\n",
       "\n",
       "    .dataframe thead th {\n",
       "        text-align: right;\n",
       "    }\n",
       "</style>\n",
       "<table border=\"1\" class=\"dataframe\">\n",
       "  <thead>\n",
       "    <tr style=\"text-align: right;\">\n",
       "      <th></th>\n",
       "      <th>Country Code</th>\n",
       "      <th>Short Name</th>\n",
       "      <th>Table Name</th>\n",
       "      <th>Long Name</th>\n",
       "      <th>2-alpha code</th>\n",
       "      <th>Currency Unit</th>\n",
       "      <th>Special Notes</th>\n",
       "      <th>Region</th>\n",
       "      <th>Income Group</th>\n",
       "      <th>WB-2 code</th>\n",
       "      <th>...</th>\n",
       "      <th>IMF data dissemination standard</th>\n",
       "      <th>Latest population census</th>\n",
       "      <th>Latest household survey</th>\n",
       "      <th>Source of most recent Income and expenditure data</th>\n",
       "      <th>Vital registration complete</th>\n",
       "      <th>Latest agricultural census</th>\n",
       "      <th>Latest industrial data</th>\n",
       "      <th>Latest trade data</th>\n",
       "      <th>Latest water withdrawal data</th>\n",
       "      <th>Unnamed: 31</th>\n",
       "    </tr>\n",
       "  </thead>\n",
       "  <tbody>\n",
       "    <tr>\n",
       "      <th>0</th>\n",
       "      <td>ABW</td>\n",
       "      <td>Aruba</td>\n",
       "      <td>Aruba</td>\n",
       "      <td>Aruba</td>\n",
       "      <td>AW</td>\n",
       "      <td>Aruban florin</td>\n",
       "      <td>SNA data for 2000-2011 are updated from offici...</td>\n",
       "      <td>Latin America &amp; Caribbean</td>\n",
       "      <td>High income: nonOECD</td>\n",
       "      <td>AW</td>\n",
       "      <td>...</td>\n",
       "      <td>NaN</td>\n",
       "      <td>2010</td>\n",
       "      <td>NaN</td>\n",
       "      <td>NaN</td>\n",
       "      <td>Yes</td>\n",
       "      <td>NaN</td>\n",
       "      <td>NaN</td>\n",
       "      <td>2012.0</td>\n",
       "      <td>NaN</td>\n",
       "      <td>NaN</td>\n",
       "    </tr>\n",
       "  </tbody>\n",
       "</table>\n",
       "<p>1 rows × 32 columns</p>\n",
       "</div>"
      ],
      "text/plain": [
       "  Country Code Short Name Table Name Long Name 2-alpha code  Currency Unit  \\\n",
       "0          ABW      Aruba      Aruba     Aruba           AW  Aruban florin   \n",
       "\n",
       "                                       Special Notes  \\\n",
       "0  SNA data for 2000-2011 are updated from offici...   \n",
       "\n",
       "                      Region          Income Group WB-2 code  ...  \\\n",
       "0  Latin America & Caribbean  High income: nonOECD        AW  ...   \n",
       "\n",
       "  IMF data dissemination standard  Latest population census  \\\n",
       "0                             NaN                      2010   \n",
       "\n",
       "  Latest household survey Source of most recent Income and expenditure data  \\\n",
       "0                     NaN                                               NaN   \n",
       "\n",
       "  Vital registration complete Latest agricultural census  \\\n",
       "0                         Yes                        NaN   \n",
       "\n",
       "  Latest industrial data Latest trade data Latest water withdrawal data  \\\n",
       "0                    NaN            2012.0                          NaN   \n",
       "\n",
       "  Unnamed: 31  \n",
       "0         NaN  \n",
       "\n",
       "[1 rows x 32 columns]"
      ]
     },
     "execution_count": 8,
     "metadata": {},
     "output_type": "execute_result"
    }
   ],
   "source": [
    "edStatsCountry.head(1)"
   ]
  },
  {
   "cell_type": "code",
   "execution_count": 9,
   "metadata": {},
   "outputs": [
    {
     "data": {
      "text/plain": [
       "(241, 32)"
      ]
     },
     "execution_count": 9,
     "metadata": {},
     "output_type": "execute_result"
    }
   ],
   "source": [
    "edStatsCountry.shape"
   ]
  },
  {
   "cell_type": "code",
   "execution_count": 10,
   "metadata": {},
   "outputs": [
    {
     "data": {
      "text/plain": [
       "Country Code                                          object\n",
       "Short Name                                            object\n",
       "Table Name                                            object\n",
       "Long Name                                             object\n",
       "2-alpha code                                          object\n",
       "Currency Unit                                         object\n",
       "Special Notes                                         object\n",
       "Region                                                object\n",
       "Income Group                                          object\n",
       "WB-2 code                                             object\n",
       "National accounts base year                           object\n",
       "National accounts reference year                     float64\n",
       "SNA price valuation                                   object\n",
       "Lending category                                      object\n",
       "Other groups                                          object\n",
       "System of National Accounts                           object\n",
       "Alternative conversion factor                         object\n",
       "PPP survey year                                       object\n",
       "Balance of Payments Manual in use                     object\n",
       "External debt Reporting status                        object\n",
       "System of trade                                       object\n",
       "Government Accounting concept                         object\n",
       "IMF data dissemination standard                       object\n",
       "Latest population census                              object\n",
       "Latest household survey                               object\n",
       "Source of most recent Income and expenditure data     object\n",
       "Vital registration complete                           object\n",
       "Latest agricultural census                            object\n",
       "Latest industrial data                               float64\n",
       "Latest trade data                                    float64\n",
       "Latest water withdrawal data                          object\n",
       "Unnamed: 31                                          float64\n",
       "dtype: object"
      ]
     },
     "execution_count": 10,
     "metadata": {},
     "output_type": "execute_result"
    }
   ],
   "source": [
    "edStatsCountry.dtypes"
   ]
  },
  {
   "cell_type": "code",
   "execution_count": 11,
   "metadata": {},
   "outputs": [
    {
     "data": {
      "text/plain": [
       "0"
      ]
     },
     "execution_count": 11,
     "metadata": {},
     "output_type": "execute_result"
    }
   ],
   "source": [
    "edStatsCountry.duplicated().sum()"
   ]
  },
  {
   "cell_type": "code",
   "execution_count": 12,
   "metadata": {},
   "outputs": [
    {
     "data": {
      "text/plain": [
       "Country Code                                         0.000000\n",
       "Short Name                                           0.000000\n",
       "Table Name                                           0.000000\n",
       "Long Name                                            0.000000\n",
       "WB-2 code                                            0.004149\n",
       "2-alpha code                                         0.012448\n",
       "System of National Accounts                          0.107884\n",
       "Currency Unit                                        0.107884\n",
       "Region                                               0.112033\n",
       "Income Group                                         0.112033\n",
       "Latest population census                             0.116183\n",
       "National accounts base year                          0.149378\n",
       "System of trade                                      0.170124\n",
       "SNA price valuation                                  0.182573\n",
       "Latest trade data                                    0.232365\n",
       "IMF data dissemination standard                      0.248963\n",
       "Balance of Payments Manual in use                    0.248963\n",
       "Latest water withdrawal data                         0.257261\n",
       "Government Accounting concept                        0.331950\n",
       "Source of most recent Income and expenditure data    0.336100\n",
       "Special Notes                                        0.398340\n",
       "PPP survey year                                      0.398340\n",
       "Lending category                                     0.402490\n",
       "Latest agricultural census                           0.410788\n",
       "Latest household survey                              0.414938\n",
       "External debt Reporting status                       0.485477\n",
       "Vital registration complete                          0.539419\n",
       "Latest industrial data                               0.556017\n",
       "Other groups                                         0.759336\n",
       "Alternative conversion factor                        0.804979\n",
       "National accounts reference year                     0.867220\n",
       "Unnamed: 31                                          1.000000\n",
       "dtype: float64"
      ]
     },
     "execution_count": 12,
     "metadata": {},
     "output_type": "execute_result"
    }
   ],
   "source": [
    "edStatsCountry.isna().mean().sort_values()"
   ]
  },
  {
   "cell_type": "code",
   "execution_count": 13,
   "metadata": {
    "colab": {
     "base_uri": "https://localhost:8080/",
     "height": 745
    },
    "executionInfo": {
     "elapsed": 289,
     "status": "ok",
     "timestamp": 1678723912941,
     "user": {
      "displayName": "Yann Pham-Van",
      "userId": "01566159679714144134"
     },
     "user_tz": -60
    },
    "id": "rzB1JOL5uyGk",
    "outputId": "16d26d7a-59a5-4c9c-888a-f5ea7e18e9c4",
    "scrolled": true
   },
   "outputs": [
    {
     "data": {
      "text/html": [
       "<div>\n",
       "<style scoped>\n",
       "    .dataframe tbody tr th:only-of-type {\n",
       "        vertical-align: middle;\n",
       "    }\n",
       "\n",
       "    .dataframe tbody tr th {\n",
       "        vertical-align: top;\n",
       "    }\n",
       "\n",
       "    .dataframe thead th {\n",
       "        text-align: right;\n",
       "    }\n",
       "</style>\n",
       "<table border=\"1\" class=\"dataframe\">\n",
       "  <thead>\n",
       "    <tr style=\"text-align: right;\">\n",
       "      <th></th>\n",
       "      <th>Country Name</th>\n",
       "      <th>Country Code</th>\n",
       "      <th>Indicator Name</th>\n",
       "      <th>Indicator Code</th>\n",
       "      <th>1970</th>\n",
       "      <th>1971</th>\n",
       "      <th>1972</th>\n",
       "      <th>1973</th>\n",
       "      <th>1974</th>\n",
       "      <th>1975</th>\n",
       "      <th>...</th>\n",
       "      <th>2060</th>\n",
       "      <th>2065</th>\n",
       "      <th>2070</th>\n",
       "      <th>2075</th>\n",
       "      <th>2080</th>\n",
       "      <th>2085</th>\n",
       "      <th>2090</th>\n",
       "      <th>2095</th>\n",
       "      <th>2100</th>\n",
       "      <th>Unnamed: 69</th>\n",
       "    </tr>\n",
       "  </thead>\n",
       "  <tbody>\n",
       "    <tr>\n",
       "      <th>0</th>\n",
       "      <td>Arab World</td>\n",
       "      <td>ARB</td>\n",
       "      <td>Adjusted net enrolment rate, lower secondary, ...</td>\n",
       "      <td>UIS.NERA.2</td>\n",
       "      <td>NaN</td>\n",
       "      <td>NaN</td>\n",
       "      <td>NaN</td>\n",
       "      <td>NaN</td>\n",
       "      <td>NaN</td>\n",
       "      <td>NaN</td>\n",
       "      <td>...</td>\n",
       "      <td>NaN</td>\n",
       "      <td>NaN</td>\n",
       "      <td>NaN</td>\n",
       "      <td>NaN</td>\n",
       "      <td>NaN</td>\n",
       "      <td>NaN</td>\n",
       "      <td>NaN</td>\n",
       "      <td>NaN</td>\n",
       "      <td>NaN</td>\n",
       "      <td>NaN</td>\n",
       "    </tr>\n",
       "  </tbody>\n",
       "</table>\n",
       "<p>1 rows × 70 columns</p>\n",
       "</div>"
      ],
      "text/plain": [
       "  Country Name Country Code  \\\n",
       "0   Arab World          ARB   \n",
       "\n",
       "                                      Indicator Name Indicator Code  1970  \\\n",
       "0  Adjusted net enrolment rate, lower secondary, ...     UIS.NERA.2   NaN   \n",
       "\n",
       "   1971  1972  1973  1974  1975  ...  2060  2065  2070  2075  2080  2085  \\\n",
       "0   NaN   NaN   NaN   NaN   NaN  ...   NaN   NaN   NaN   NaN   NaN   NaN   \n",
       "\n",
       "   2090  2095  2100  Unnamed: 69  \n",
       "0   NaN   NaN   NaN          NaN  \n",
       "\n",
       "[1 rows x 70 columns]"
      ]
     },
     "execution_count": 13,
     "metadata": {},
     "output_type": "execute_result"
    }
   ],
   "source": [
    "edStatsData.head(1)"
   ]
  },
  {
   "cell_type": "code",
   "execution_count": 14,
   "metadata": {},
   "outputs": [
    {
     "data": {
      "text/plain": [
       "(886930, 70)"
      ]
     },
     "execution_count": 14,
     "metadata": {},
     "output_type": "execute_result"
    }
   ],
   "source": [
    "edStatsData.shape"
   ]
  },
  {
   "cell_type": "code",
   "execution_count": 15,
   "metadata": {},
   "outputs": [
    {
     "data": {
      "text/plain": [
       "Country Name       object\n",
       "Country Code       object\n",
       "Indicator Name     object\n",
       "Indicator Code     object\n",
       "1970              float64\n",
       "                   ...   \n",
       "2085              float64\n",
       "2090              float64\n",
       "2095              float64\n",
       "2100              float64\n",
       "Unnamed: 69       float64\n",
       "Length: 70, dtype: object"
      ]
     },
     "execution_count": 15,
     "metadata": {},
     "output_type": "execute_result"
    }
   ],
   "source": [
    "edStatsData.dtypes"
   ]
  },
  {
   "cell_type": "code",
   "execution_count": 16,
   "metadata": {},
   "outputs": [
    {
     "data": {
      "text/plain": [
       "0"
      ]
     },
     "execution_count": 16,
     "metadata": {},
     "output_type": "execute_result"
    }
   ],
   "source": [
    "edStatsData.duplicated().sum()"
   ]
  },
  {
   "cell_type": "code",
   "execution_count": 17,
   "metadata": {},
   "outputs": [
    {
     "data": {
      "text/plain": [
       "Country Name      0.000000\n",
       "Country Code      0.000000\n",
       "Indicator Name    0.000000\n",
       "Indicator Code    0.000000\n",
       "2010              0.726650\n",
       "                    ...   \n",
       "1973              0.959924\n",
       "1971              0.959933\n",
       "2016              0.981442\n",
       "2017              0.999839\n",
       "Unnamed: 69       1.000000\n",
       "Length: 70, dtype: float64"
      ]
     },
     "execution_count": 17,
     "metadata": {},
     "output_type": "execute_result"
    }
   ],
   "source": [
    "edStatsData.isna().mean().sort_values()"
   ]
  },
  {
   "cell_type": "code",
   "execution_count": 18,
   "metadata": {
    "colab": {
     "base_uri": "https://localhost:8080/",
     "height": 424
    },
    "executionInfo": {
     "elapsed": 5,
     "status": "ok",
     "timestamp": 1678724148253,
     "user": {
      "displayName": "Yann Pham-Van",
      "userId": "01566159679714144134"
     },
     "user_tz": -60
    },
    "id": "wa88VBHvvg43",
    "outputId": "05a89a15-88e0-4319-bb34-87c29706aa22"
   },
   "outputs": [
    {
     "data": {
      "text/html": [
       "<div>\n",
       "<style scoped>\n",
       "    .dataframe tbody tr th:only-of-type {\n",
       "        vertical-align: middle;\n",
       "    }\n",
       "\n",
       "    .dataframe tbody tr th {\n",
       "        vertical-align: top;\n",
       "    }\n",
       "\n",
       "    .dataframe thead th {\n",
       "        text-align: right;\n",
       "    }\n",
       "</style>\n",
       "<table border=\"1\" class=\"dataframe\">\n",
       "  <thead>\n",
       "    <tr style=\"text-align: right;\">\n",
       "      <th></th>\n",
       "      <th>CountryCode</th>\n",
       "      <th>SeriesCode</th>\n",
       "      <th>Year</th>\n",
       "      <th>DESCRIPTION</th>\n",
       "      <th>Unnamed: 4</th>\n",
       "    </tr>\n",
       "  </thead>\n",
       "  <tbody>\n",
       "    <tr>\n",
       "      <th>0</th>\n",
       "      <td>ABW</td>\n",
       "      <td>SE.PRE.ENRL.FE</td>\n",
       "      <td>YR2001</td>\n",
       "      <td>Country estimation.</td>\n",
       "      <td>NaN</td>\n",
       "    </tr>\n",
       "  </tbody>\n",
       "</table>\n",
       "</div>"
      ],
      "text/plain": [
       "  CountryCode      SeriesCode    Year          DESCRIPTION  Unnamed: 4\n",
       "0         ABW  SE.PRE.ENRL.FE  YR2001  Country estimation.         NaN"
      ]
     },
     "execution_count": 18,
     "metadata": {},
     "output_type": "execute_result"
    }
   ],
   "source": [
    "edStatsFootNote.head(1)"
   ]
  },
  {
   "cell_type": "code",
   "execution_count": 19,
   "metadata": {},
   "outputs": [
    {
     "data": {
      "text/plain": [
       "(643638, 5)"
      ]
     },
     "execution_count": 19,
     "metadata": {},
     "output_type": "execute_result"
    }
   ],
   "source": [
    "edStatsFootNote.shape"
   ]
  },
  {
   "cell_type": "code",
   "execution_count": 20,
   "metadata": {},
   "outputs": [
    {
     "data": {
      "text/plain": [
       "CountryCode     object\n",
       "SeriesCode      object\n",
       "Year            object\n",
       "DESCRIPTION     object\n",
       "Unnamed: 4     float64\n",
       "dtype: object"
      ]
     },
     "execution_count": 20,
     "metadata": {},
     "output_type": "execute_result"
    }
   ],
   "source": [
    "edStatsFootNote.dtypes"
   ]
  },
  {
   "cell_type": "code",
   "execution_count": 21,
   "metadata": {},
   "outputs": [
    {
     "data": {
      "text/plain": [
       "0"
      ]
     },
     "execution_count": 21,
     "metadata": {},
     "output_type": "execute_result"
    }
   ],
   "source": [
    "edStatsFootNote.duplicated().sum()"
   ]
  },
  {
   "cell_type": "code",
   "execution_count": 22,
   "metadata": {},
   "outputs": [
    {
     "data": {
      "text/plain": [
       "CountryCode    0.0\n",
       "SeriesCode     0.0\n",
       "Year           0.0\n",
       "DESCRIPTION    0.0\n",
       "Unnamed: 4     1.0\n",
       "dtype: float64"
      ]
     },
     "execution_count": 22,
     "metadata": {},
     "output_type": "execute_result"
    }
   ],
   "source": [
    "edStatsFootNote.isna().mean()"
   ]
  },
  {
   "cell_type": "code",
   "execution_count": 23,
   "metadata": {
    "colab": {
     "base_uri": "https://localhost:8080/",
     "height": 1000
    },
    "executionInfo": {
     "elapsed": 272,
     "status": "ok",
     "timestamp": 1678724186948,
     "user": {
      "displayName": "Yann Pham-Van",
      "userId": "01566159679714144134"
     },
     "user_tz": -60
    },
    "id": "0iEErrROwamG",
    "outputId": "743e2bf3-e719-46b8-acd2-05fdfdf32b44"
   },
   "outputs": [
    {
     "data": {
      "text/html": [
       "<div>\n",
       "<style scoped>\n",
       "    .dataframe tbody tr th:only-of-type {\n",
       "        vertical-align: middle;\n",
       "    }\n",
       "\n",
       "    .dataframe tbody tr th {\n",
       "        vertical-align: top;\n",
       "    }\n",
       "\n",
       "    .dataframe thead th {\n",
       "        text-align: right;\n",
       "    }\n",
       "</style>\n",
       "<table border=\"1\" class=\"dataframe\">\n",
       "  <thead>\n",
       "    <tr style=\"text-align: right;\">\n",
       "      <th></th>\n",
       "      <th>Series Code</th>\n",
       "      <th>Topic</th>\n",
       "      <th>Indicator Name</th>\n",
       "      <th>Short definition</th>\n",
       "      <th>Long definition</th>\n",
       "      <th>Unit of measure</th>\n",
       "      <th>Periodicity</th>\n",
       "      <th>Base Period</th>\n",
       "      <th>Other notes</th>\n",
       "      <th>Aggregation method</th>\n",
       "      <th>...</th>\n",
       "      <th>Notes from original source</th>\n",
       "      <th>General comments</th>\n",
       "      <th>Source</th>\n",
       "      <th>Statistical concept and methodology</th>\n",
       "      <th>Development relevance</th>\n",
       "      <th>Related source links</th>\n",
       "      <th>Other web links</th>\n",
       "      <th>Related indicators</th>\n",
       "      <th>License Type</th>\n",
       "      <th>Unnamed: 20</th>\n",
       "    </tr>\n",
       "  </thead>\n",
       "  <tbody>\n",
       "    <tr>\n",
       "      <th>0</th>\n",
       "      <td>BAR.NOED.1519.FE.ZS</td>\n",
       "      <td>Attainment</td>\n",
       "      <td>Barro-Lee: Percentage of female population age...</td>\n",
       "      <td>Percentage of female population age 15-19 with...</td>\n",
       "      <td>Percentage of female population age 15-19 with...</td>\n",
       "      <td>NaN</td>\n",
       "      <td>NaN</td>\n",
       "      <td>NaN</td>\n",
       "      <td>NaN</td>\n",
       "      <td>NaN</td>\n",
       "      <td>...</td>\n",
       "      <td>NaN</td>\n",
       "      <td>NaN</td>\n",
       "      <td>Robert J. Barro and Jong-Wha Lee: http://www.b...</td>\n",
       "      <td>NaN</td>\n",
       "      <td>NaN</td>\n",
       "      <td>NaN</td>\n",
       "      <td>NaN</td>\n",
       "      <td>NaN</td>\n",
       "      <td>NaN</td>\n",
       "      <td>NaN</td>\n",
       "    </tr>\n",
       "  </tbody>\n",
       "</table>\n",
       "<p>1 rows × 21 columns</p>\n",
       "</div>"
      ],
      "text/plain": [
       "           Series Code       Topic  \\\n",
       "0  BAR.NOED.1519.FE.ZS  Attainment   \n",
       "\n",
       "                                      Indicator Name  \\\n",
       "0  Barro-Lee: Percentage of female population age...   \n",
       "\n",
       "                                    Short definition  \\\n",
       "0  Percentage of female population age 15-19 with...   \n",
       "\n",
       "                                     Long definition  Unit of measure  \\\n",
       "0  Percentage of female population age 15-19 with...              NaN   \n",
       "\n",
       "  Periodicity Base Period Other notes Aggregation method  ...  \\\n",
       "0         NaN         NaN         NaN                NaN  ...   \n",
       "\n",
       "  Notes from original source  General comments  \\\n",
       "0                        NaN               NaN   \n",
       "\n",
       "                                              Source  \\\n",
       "0  Robert J. Barro and Jong-Wha Lee: http://www.b...   \n",
       "\n",
       "  Statistical concept and methodology Development relevance  \\\n",
       "0                                 NaN                   NaN   \n",
       "\n",
       "  Related source links Other web links  Related indicators  License Type  \\\n",
       "0                  NaN             NaN                 NaN           NaN   \n",
       "\n",
       "   Unnamed: 20  \n",
       "0          NaN  \n",
       "\n",
       "[1 rows x 21 columns]"
      ]
     },
     "execution_count": 23,
     "metadata": {},
     "output_type": "execute_result"
    }
   ],
   "source": [
    "edStatsSeries.head(1)"
   ]
  },
  {
   "cell_type": "code",
   "execution_count": 24,
   "metadata": {},
   "outputs": [
    {
     "data": {
      "text/plain": [
       "(3665, 21)"
      ]
     },
     "execution_count": 24,
     "metadata": {},
     "output_type": "execute_result"
    }
   ],
   "source": [
    "edStatsSeries.shape"
   ]
  },
  {
   "cell_type": "code",
   "execution_count": 25,
   "metadata": {},
   "outputs": [
    {
     "data": {
      "text/plain": [
       "Series Code                             object\n",
       "Topic                                   object\n",
       "Indicator Name                          object\n",
       "Short definition                        object\n",
       "Long definition                         object\n",
       "Unit of measure                        float64\n",
       "Periodicity                             object\n",
       "Base Period                             object\n",
       "Other notes                             object\n",
       "Aggregation method                      object\n",
       "Limitations and exceptions              object\n",
       "Notes from original source             float64\n",
       "General comments                        object\n",
       "Source                                  object\n",
       "Statistical concept and methodology     object\n",
       "Development relevance                   object\n",
       "Related source links                    object\n",
       "Other web links                        float64\n",
       "Related indicators                     float64\n",
       "License Type                           float64\n",
       "Unnamed: 20                            float64\n",
       "dtype: object"
      ]
     },
     "execution_count": 25,
     "metadata": {},
     "output_type": "execute_result"
    }
   ],
   "source": [
    "edStatsSeries.dtypes"
   ]
  },
  {
   "cell_type": "code",
   "execution_count": 26,
   "metadata": {},
   "outputs": [
    {
     "data": {
      "text/plain": [
       "0"
      ]
     },
     "execution_count": 26,
     "metadata": {},
     "output_type": "execute_result"
    }
   ],
   "source": [
    "edStatsSeries.duplicated().sum()"
   ]
  },
  {
   "cell_type": "code",
   "execution_count": 27,
   "metadata": {},
   "outputs": [
    {
     "data": {
      "text/plain": [
       "Series Code                            0.000000\n",
       "Topic                                  0.000000\n",
       "Indicator Name                         0.000000\n",
       "Short definition                       0.411733\n",
       "Long definition                        0.000000\n",
       "Unit of measure                        1.000000\n",
       "Periodicity                            0.972988\n",
       "Base Period                            0.914325\n",
       "Other notes                            0.849386\n",
       "Aggregation method                     0.987176\n",
       "Limitations and exceptions             0.996180\n",
       "Notes from original source             1.000000\n",
       "General comments                       0.996180\n",
       "Source                                 0.000000\n",
       "Statistical concept and methodology    0.993724\n",
       "Development relevance                  0.999181\n",
       "Related source links                   0.941337\n",
       "Other web links                        1.000000\n",
       "Related indicators                     1.000000\n",
       "License Type                           1.000000\n",
       "Unnamed: 20                            1.000000\n",
       "dtype: float64"
      ]
     },
     "execution_count": 27,
     "metadata": {},
     "output_type": "execute_result"
    }
   ],
   "source": [
    "edStatsSeries.isna().mean()"
   ]
  },
  {
   "cell_type": "markdown",
   "metadata": {},
   "source": [
    "A l'observation préliminaire de ces dataframes, il semblerait que le coeur des données se trouve dans celui-ci : **edStatsData**\n",
    "\n",
    "C'est sur lui que je vais commencer à me concentrer.\n",
    "\n",
    "**edStatsData** est constitué de lignes qui sont des couples pays/indicateur et en colonne la valeur de l'indicateur pour chaque année.\n",
    "___\n",
    "Observation des colonnes."
   ]
  },
  {
   "cell_type": "code",
   "execution_count": 28,
   "metadata": {},
   "outputs": [
    {
     "data": {
      "text/plain": [
       "['Country Name',\n",
       " 'Country Code',\n",
       " 'Indicator Name',\n",
       " 'Indicator Code',\n",
       " '1970',\n",
       " '1971',\n",
       " '1972',\n",
       " '1973',\n",
       " '1974',\n",
       " '1975',\n",
       " '1976',\n",
       " '1977',\n",
       " '1978',\n",
       " '1979',\n",
       " '1980',\n",
       " '1981',\n",
       " '1982',\n",
       " '1983',\n",
       " '1984',\n",
       " '1985',\n",
       " '1986',\n",
       " '1987',\n",
       " '1988',\n",
       " '1989',\n",
       " '1990',\n",
       " '1991',\n",
       " '1992',\n",
       " '1993',\n",
       " '1994',\n",
       " '1995',\n",
       " '1996',\n",
       " '1997',\n",
       " '1998',\n",
       " '1999',\n",
       " '2000',\n",
       " '2001',\n",
       " '2002',\n",
       " '2003',\n",
       " '2004',\n",
       " '2005',\n",
       " '2006',\n",
       " '2007',\n",
       " '2008',\n",
       " '2009',\n",
       " '2010',\n",
       " '2011',\n",
       " '2012',\n",
       " '2013',\n",
       " '2014',\n",
       " '2015',\n",
       " '2016',\n",
       " '2017',\n",
       " '2020',\n",
       " '2025',\n",
       " '2030',\n",
       " '2035',\n",
       " '2040',\n",
       " '2045',\n",
       " '2050',\n",
       " '2055',\n",
       " '2060',\n",
       " '2065',\n",
       " '2070',\n",
       " '2075',\n",
       " '2080',\n",
       " '2085',\n",
       " '2090',\n",
       " '2095',\n",
       " '2100',\n",
       " 'Unnamed: 69']"
      ]
     },
     "execution_count": 28,
     "metadata": {},
     "output_type": "execute_result"
    }
   ],
   "source": [
    "edStatsData.columns.tolist()"
   ]
  },
  {
   "cell_type": "markdown",
   "metadata": {},
   "source": [
    "En particulier, l'étude ne justifie pas de conserver les valeurs des années avant 2010 et après 2020."
   ]
  },
  {
   "cell_type": "code",
   "execution_count": 29,
   "metadata": {},
   "outputs": [
    {
     "data": {
      "text/html": [
       "<div>\n",
       "<style scoped>\n",
       "    .dataframe tbody tr th:only-of-type {\n",
       "        vertical-align: middle;\n",
       "    }\n",
       "\n",
       "    .dataframe tbody tr th {\n",
       "        vertical-align: top;\n",
       "    }\n",
       "\n",
       "    .dataframe thead th {\n",
       "        text-align: right;\n",
       "    }\n",
       "</style>\n",
       "<table border=\"1\" class=\"dataframe\">\n",
       "  <thead>\n",
       "    <tr style=\"text-align: right;\">\n",
       "      <th></th>\n",
       "      <th>Country Code</th>\n",
       "      <th>Country Name</th>\n",
       "      <th>Indicator Code</th>\n",
       "      <th>2010</th>\n",
       "      <th>2011</th>\n",
       "      <th>2012</th>\n",
       "      <th>2013</th>\n",
       "      <th>2014</th>\n",
       "      <th>2015</th>\n",
       "      <th>2016</th>\n",
       "      <th>2017</th>\n",
       "      <th>2020</th>\n",
       "    </tr>\n",
       "  </thead>\n",
       "  <tbody>\n",
       "    <tr>\n",
       "      <th>0</th>\n",
       "      <td>ARB</td>\n",
       "      <td>Arab World</td>\n",
       "      <td>UIS.NERA.2</td>\n",
       "      <td>NaN</td>\n",
       "      <td>NaN</td>\n",
       "      <td>NaN</td>\n",
       "      <td>NaN</td>\n",
       "      <td>NaN</td>\n",
       "      <td>NaN</td>\n",
       "      <td>NaN</td>\n",
       "      <td>NaN</td>\n",
       "      <td>NaN</td>\n",
       "    </tr>\n",
       "  </tbody>\n",
       "</table>\n",
       "</div>"
      ],
      "text/plain": [
       "  Country Code Country Name Indicator Code  2010  2011  2012  2013  2014  \\\n",
       "0          ARB   Arab World     UIS.NERA.2   NaN   NaN   NaN   NaN   NaN   \n",
       "\n",
       "   2015  2016  2017  2020  \n",
       "0   NaN   NaN   NaN   NaN  "
      ]
     },
     "execution_count": 29,
     "metadata": {},
     "output_type": "execute_result"
    }
   ],
   "source": [
    "colonnes_autorisees = ['Country Code', 'Country Name', 'Indicator Code', '2010', '2011', '2012', '2013', \n",
    "                       '2014', '2015', '2016', '2017', '2020']  \n",
    "edStatsData = edStatsData[colonnes_autorisees]\n",
    "edStatsData.head(1)"
   ]
  },
  {
   "cell_type": "markdown",
   "metadata": {},
   "source": [
    "Je recherche des variables pertinentes (Indicator Code) à l'aide de la liste des indicateurs mis à disposition par la Banque Mondiale : https://datatopics.worldbank.org/education/indicators\n",
    "___\n",
    "Mon objectif est de pouvoir quantifier le potentiel - et sa croissance - d'habitants suffisamment aisés, cibles d'*academy*, susceptibles d'être :\n",
    "- équipé d'un accès internet et\n",
    "- dans le deuxième cycle du secondaire ou\n",
    "- étudiants dans le supérieur.\n",
    "___\n",
    "**Développement d'internet**\n",
    "\n",
    "IT.NET.USER.P2 : *Internautes (pour 100 personnes)*\n",
    "___\n",
    "**Richesse**\n",
    "\n",
    "NY.GDP.PCAP.PP.KD : *PIB par habitant, PPA (dollars internationaux constants de 2011)*\n",
    "___\n",
    "**Quantification de la population cible = publics de niveau lycée (deuxième cycle du secondaire) et université**\n",
    "\n",
    "SP.SEC.UTOT.IN : *Population d'âge scolaire, deuxième cycle de l'enseignement secondaire, les deux sexes (nombre)*\n",
    "\n",
    "SP.TER.TOTL.IN : *Population d'âge scolaire, enseignement supérieur, les deux sexes (nombre)*\n",
    "\n",
    "SP.POP.TOTL : *Population*\n",
    "\n",
    "SP.POP.1524.TO.UN : *Population, 15-24 ans, total*\n",
    "\n",
    "SP.POP.GROW : *Croissance démographique (% annuel)*\n",
    "\n",
    "SE.TER.ENRR : *Taux brut de scolarisation dans l'enseignement supérieur, les deux sexes (%)*\n",
    "\n",
    "SE.TER.ENRL : *Inscriptions dans l'enseignement supérieur, tous programmes confondus, hommes et femmes (nombre)*\n",
    "\n",
    "SE.TER.PRIV.ZS : *Pourcentage d'inscriptions dans l'enseignement supérieur dans des établissements privés (%)*\n",
    "\n",
    "UIS.PRP.3 : *Pourcentage d'inscriptions dans l'enseignement secondaire supérieur dans des établissements privés (%)*\n",
    "\n",
    "UIS.OFST.3.CP : *Jeunes non scolarisés en âge de fréquenter le deuxième cycle du secondaire, les deux sexes (nombre)*\n",
    "\n",
    "UIS.ROFST.3.CP : *Taux de non-scolarisation des jeunes en âge de fréquenter le deuxième cycle du secondaire, les deux sexes (%)*\n",
    "\n",
    "SE.SEC.ENRR.UP : *Taux brut de scolarisation, deuxième cycle du secondaire, les deux sexes (%)*\n",
    "\n",
    "UIS.E.3 : *Inscriptions dans l'enseignement secondaire supérieur, les deux sexes (nombre)*\n",
    "___\n",
    "\n",
    "**Certains indicateurs sont similaires ou leurs combinaisons permettrait d'aboutir aux mêmes résultats pour quantifier la cible. Le choix final dépendra aussi des taux de remplissage.**\n",
    "___\n",
    "En attendant, je restreins déjà le dataframe à ces indicateurs."
   ]
  },
  {
   "cell_type": "code",
   "execution_count": 30,
   "metadata": {},
   "outputs": [],
   "source": [
    "liste_indicateurs = ['IT.NET.USER.P2', 'NY.GDP.PCAP.PP.KD', 'SP.SEC.UTOT.IN', 'SP.TER.TOTL.IN', 'SP.POP.TOTL', \n",
    "                     'SP.POP.1524.TO.UN', 'SP.POP.GROW', 'SE.TER.PRIV.ZS', 'SE.TER.ENRR', 'SE.TER.ENRL', \n",
    "                     'UIS.PRP.3', 'UIS.OFST.3.CP', 'UIS.ROFST.3.CP', \n",
    "                     'SE.SEC.ENRR.UP', 'UIS.E.3']"
   ]
  },
  {
   "cell_type": "code",
   "execution_count": 31,
   "metadata": {},
   "outputs": [
    {
     "data": {
      "text/html": [
       "<div>\n",
       "<style scoped>\n",
       "    .dataframe tbody tr th:only-of-type {\n",
       "        vertical-align: middle;\n",
       "    }\n",
       "\n",
       "    .dataframe tbody tr th {\n",
       "        vertical-align: top;\n",
       "    }\n",
       "\n",
       "    .dataframe thead th {\n",
       "        text-align: right;\n",
       "    }\n",
       "</style>\n",
       "<table border=\"1\" class=\"dataframe\">\n",
       "  <thead>\n",
       "    <tr style=\"text-align: right;\">\n",
       "      <th></th>\n",
       "      <th>Country Code</th>\n",
       "      <th>Country Name</th>\n",
       "      <th>Indicator Code</th>\n",
       "      <th>2010</th>\n",
       "      <th>2011</th>\n",
       "      <th>2012</th>\n",
       "      <th>2013</th>\n",
       "      <th>2014</th>\n",
       "      <th>2015</th>\n",
       "      <th>2016</th>\n",
       "      <th>2017</th>\n",
       "      <th>2020</th>\n",
       "    </tr>\n",
       "  </thead>\n",
       "  <tbody>\n",
       "    <tr>\n",
       "      <th>1204</th>\n",
       "      <td>ARB</td>\n",
       "      <td>Arab World</td>\n",
       "      <td>SE.TER.ENRL</td>\n",
       "      <td>8.715273e+06</td>\n",
       "      <td>8.594488e+06</td>\n",
       "      <td>9.147083e+06</td>\n",
       "      <td>9.688632e+06</td>\n",
       "      <td>9.966484e+06</td>\n",
       "      <td>NaN</td>\n",
       "      <td>NaN</td>\n",
       "      <td>NaN</td>\n",
       "      <td>NaN</td>\n",
       "    </tr>\n",
       "    <tr>\n",
       "      <th>1214</th>\n",
       "      <td>ARB</td>\n",
       "      <td>Arab World</td>\n",
       "      <td>UIS.E.3</td>\n",
       "      <td>1.064478e+07</td>\n",
       "      <td>1.162018e+07</td>\n",
       "      <td>1.202761e+07</td>\n",
       "      <td>1.202161e+07</td>\n",
       "      <td>1.199598e+07</td>\n",
       "      <td>NaN</td>\n",
       "      <td>NaN</td>\n",
       "      <td>NaN</td>\n",
       "      <td>NaN</td>\n",
       "    </tr>\n",
       "    <tr>\n",
       "      <th>1246</th>\n",
       "      <td>ARB</td>\n",
       "      <td>Arab World</td>\n",
       "      <td>NY.GDP.PCAP.PP.KD</td>\n",
       "      <td>1.475905e+04</td>\n",
       "      <td>1.482591e+04</td>\n",
       "      <td>1.534280e+04</td>\n",
       "      <td>1.545497e+04</td>\n",
       "      <td>NaN</td>\n",
       "      <td>NaN</td>\n",
       "      <td>NaN</td>\n",
       "      <td>NaN</td>\n",
       "      <td>NaN</td>\n",
       "    </tr>\n",
       "    <tr>\n",
       "      <th>1339</th>\n",
       "      <td>ARB</td>\n",
       "      <td>Arab World</td>\n",
       "      <td>SE.TER.ENRR</td>\n",
       "      <td>2.476180e+01</td>\n",
       "      <td>2.427387e+01</td>\n",
       "      <td>2.577601e+01</td>\n",
       "      <td>2.733034e+01</td>\n",
       "      <td>2.817496e+01</td>\n",
       "      <td>NaN</td>\n",
       "      <td>NaN</td>\n",
       "      <td>NaN</td>\n",
       "      <td>NaN</td>\n",
       "    </tr>\n",
       "    <tr>\n",
       "      <th>1343</th>\n",
       "      <td>ARB</td>\n",
       "      <td>Arab World</td>\n",
       "      <td>SE.SEC.ENRR.UP</td>\n",
       "      <td>4.938588e+01</td>\n",
       "      <td>5.392444e+01</td>\n",
       "      <td>5.575670e+01</td>\n",
       "      <td>5.567087e+01</td>\n",
       "      <td>5.559698e+01</td>\n",
       "      <td>NaN</td>\n",
       "      <td>NaN</td>\n",
       "      <td>NaN</td>\n",
       "      <td>NaN</td>\n",
       "    </tr>\n",
       "  </tbody>\n",
       "</table>\n",
       "</div>"
      ],
      "text/plain": [
       "     Country Code Country Name     Indicator Code          2010          2011  \\\n",
       "1204          ARB   Arab World        SE.TER.ENRL  8.715273e+06  8.594488e+06   \n",
       "1214          ARB   Arab World            UIS.E.3  1.064478e+07  1.162018e+07   \n",
       "1246          ARB   Arab World  NY.GDP.PCAP.PP.KD  1.475905e+04  1.482591e+04   \n",
       "1339          ARB   Arab World        SE.TER.ENRR  2.476180e+01  2.427387e+01   \n",
       "1343          ARB   Arab World     SE.SEC.ENRR.UP  4.938588e+01  5.392444e+01   \n",
       "\n",
       "              2012          2013          2014  2015  2016  2017  2020  \n",
       "1204  9.147083e+06  9.688632e+06  9.966484e+06   NaN   NaN   NaN   NaN  \n",
       "1214  1.202761e+07  1.202161e+07  1.199598e+07   NaN   NaN   NaN   NaN  \n",
       "1246  1.534280e+04  1.545497e+04           NaN   NaN   NaN   NaN   NaN  \n",
       "1339  2.577601e+01  2.733034e+01  2.817496e+01   NaN   NaN   NaN   NaN  \n",
       "1343  5.575670e+01  5.567087e+01  5.559698e+01   NaN   NaN   NaN   NaN  "
      ]
     },
     "execution_count": 31,
     "metadata": {},
     "output_type": "execute_result"
    }
   ],
   "source": [
    "edStatsData = edStatsData.loc[edStatsData['Indicator Code'].isin(liste_indicateurs)]\n",
    "edStatsData.head()"
   ]
  },
  {
   "cell_type": "markdown",
   "metadata": {},
   "source": [
    "J'observe les valeurs manquantes."
   ]
  },
  {
   "cell_type": "code",
   "execution_count": 32,
   "metadata": {},
   "outputs": [
    {
     "data": {
      "text/plain": [
       "Country Code      0.000000\n",
       "Country Name      0.000000\n",
       "Indicator Code    0.000000\n",
       "2010              0.260606\n",
       "2011              0.257300\n",
       "2012              0.267493\n",
       "2013              0.277961\n",
       "2014              0.300000\n",
       "2015              0.483471\n",
       "2016              0.701377\n",
       "2017              1.000000\n",
       "2020              1.000000\n",
       "dtype: float64"
      ]
     },
     "execution_count": 32,
     "metadata": {},
     "output_type": "execute_result"
    }
   ],
   "source": [
    "edStatsData.isna().mean()"
   ]
  },
  {
   "cell_type": "markdown",
   "metadata": {},
   "source": [
    "Les 2 dernières années, 2017 et 2020, sont vides : autant les supprimer."
   ]
  },
  {
   "cell_type": "code",
   "execution_count": 33,
   "metadata": {},
   "outputs": [
    {
     "data": {
      "text/html": [
       "<div>\n",
       "<style scoped>\n",
       "    .dataframe tbody tr th:only-of-type {\n",
       "        vertical-align: middle;\n",
       "    }\n",
       "\n",
       "    .dataframe tbody tr th {\n",
       "        vertical-align: top;\n",
       "    }\n",
       "\n",
       "    .dataframe thead th {\n",
       "        text-align: right;\n",
       "    }\n",
       "</style>\n",
       "<table border=\"1\" class=\"dataframe\">\n",
       "  <thead>\n",
       "    <tr style=\"text-align: right;\">\n",
       "      <th></th>\n",
       "      <th>Country Code</th>\n",
       "      <th>Country Name</th>\n",
       "      <th>Indicator Code</th>\n",
       "      <th>2010</th>\n",
       "      <th>2011</th>\n",
       "      <th>2012</th>\n",
       "      <th>2013</th>\n",
       "      <th>2014</th>\n",
       "      <th>2015</th>\n",
       "      <th>2016</th>\n",
       "    </tr>\n",
       "  </thead>\n",
       "  <tbody>\n",
       "    <tr>\n",
       "      <th>1204</th>\n",
       "      <td>ARB</td>\n",
       "      <td>Arab World</td>\n",
       "      <td>SE.TER.ENRL</td>\n",
       "      <td>8715273.0</td>\n",
       "      <td>8594488.0</td>\n",
       "      <td>9147083.0</td>\n",
       "      <td>9688632.0</td>\n",
       "      <td>9966484.0</td>\n",
       "      <td>NaN</td>\n",
       "      <td>NaN</td>\n",
       "    </tr>\n",
       "  </tbody>\n",
       "</table>\n",
       "</div>"
      ],
      "text/plain": [
       "     Country Code Country Name Indicator Code       2010       2011  \\\n",
       "1204          ARB   Arab World    SE.TER.ENRL  8715273.0  8594488.0   \n",
       "\n",
       "           2012       2013       2014  2015  2016  \n",
       "1204  9147083.0  9688632.0  9966484.0   NaN   NaN  "
      ]
     },
     "execution_count": 33,
     "metadata": {},
     "output_type": "execute_result"
    }
   ],
   "source": [
    "edStatsData = edStatsData.drop(columns=['2017', '2020'])\n",
    "edStatsData.head(1)"
   ]
  },
  {
   "cell_type": "markdown",
   "metadata": {},
   "source": [
    "Je m'intéresse maintenant aux niveaux de remplissage des indicateurs."
   ]
  },
  {
   "cell_type": "code",
   "execution_count": 34,
   "metadata": {},
   "outputs": [
    {
     "data": {
      "text/html": [
       "<div>\n",
       "<style scoped>\n",
       "    .dataframe tbody tr th:only-of-type {\n",
       "        vertical-align: middle;\n",
       "    }\n",
       "\n",
       "    .dataframe tbody tr th {\n",
       "        vertical-align: top;\n",
       "    }\n",
       "\n",
       "    .dataframe thead th {\n",
       "        text-align: right;\n",
       "    }\n",
       "</style>\n",
       "<table border=\"1\" class=\"dataframe\">\n",
       "  <thead>\n",
       "    <tr style=\"text-align: right;\">\n",
       "      <th></th>\n",
       "      <th>Country Code</th>\n",
       "      <th>Country Name</th>\n",
       "      <th>Indicator Code</th>\n",
       "      <th>2010</th>\n",
       "      <th>2011</th>\n",
       "      <th>2012</th>\n",
       "      <th>2013</th>\n",
       "      <th>2014</th>\n",
       "      <th>2015</th>\n",
       "      <th>2016</th>\n",
       "      <th>NB_NAN</th>\n",
       "    </tr>\n",
       "  </thead>\n",
       "  <tbody>\n",
       "    <tr>\n",
       "      <th>1204</th>\n",
       "      <td>ARB</td>\n",
       "      <td>Arab World</td>\n",
       "      <td>SE.TER.ENRL</td>\n",
       "      <td>8715273.0</td>\n",
       "      <td>8594488.0</td>\n",
       "      <td>9147083.0</td>\n",
       "      <td>9688632.0</td>\n",
       "      <td>9966484.0</td>\n",
       "      <td>NaN</td>\n",
       "      <td>NaN</td>\n",
       "      <td>0.285714</td>\n",
       "    </tr>\n",
       "  </tbody>\n",
       "</table>\n",
       "</div>"
      ],
      "text/plain": [
       "     Country Code Country Name Indicator Code       2010       2011  \\\n",
       "1204          ARB   Arab World    SE.TER.ENRL  8715273.0  8594488.0   \n",
       "\n",
       "           2012       2013       2014  2015  2016    NB_NAN  \n",
       "1204  9147083.0  9688632.0  9966484.0   NaN   NaN  0.285714  "
      ]
     },
     "execution_count": 34,
     "metadata": {},
     "output_type": "execute_result"
    }
   ],
   "source": [
    "edStatsData['NB_NAN'] = (edStatsData.isna().sum(axis=1)) / 7\n",
    "# /!\\ Je divise par 7 la somme horizontale des Nan, car c'est le potentiel maximum de NaN par ligne.\n",
    "# En effet, les 3 premières colonnes seront toujours remplies.\n",
    "# Seules les colonnes 'années' peuvent être vides.\n",
    "# La division permettra ensuite de quantifier le taux de NaN en pourcentage.\n",
    "edStatsData.head(1)"
   ]
  },
  {
   "cell_type": "markdown",
   "metadata": {},
   "source": [
    "Je recherche le taux de remplissage par indicateur."
   ]
  },
  {
   "cell_type": "code",
   "execution_count": 35,
   "metadata": {},
   "outputs": [
    {
     "data": {
      "text/plain": [
       "Indicator Code\n",
       "SP.POP.TOTL          0.023613\n",
       "SP.POP.GROW          0.024203\n",
       "IT.NET.USER.P2       0.068477\n",
       "NY.GDP.PCAP.PP.KD    0.129870\n",
       "SP.SEC.UTOT.IN       0.135773\n",
       "SP.TER.TOTL.IN       0.314640\n",
       "SP.POP.1524.TO.UN    0.358914\n",
       "SE.SEC.ENRR.UP       0.429162\n",
       "SE.TER.ENRL          0.453365\n",
       "SE.TER.ENRR          0.475207\n",
       "UIS.E.3              0.501181\n",
       "SE.TER.PRIV.ZS       0.612161\n",
       "UIS.PRP.3            0.619835\n",
       "UIS.OFST.3.CP        0.657025\n",
       "UIS.ROFST.3.CP       0.657025\n",
       "Name: NB_NAN, dtype: float64"
      ]
     },
     "execution_count": 35,
     "metadata": {},
     "output_type": "execute_result"
    }
   ],
   "source": [
    "edStatsData.groupby('Indicator Code')['NB_NAN'].mean().sort_values()"
   ]
  },
  {
   "cell_type": "markdown",
   "metadata": {},
   "source": [
    "En observant les indicateurs les mieux renseignés, je m'aperçois qu'il faut aller jusqu'aux 6 premiers pour avoir toutes les variables nécessaires de richesse, potentiel de cibles, taux de croissance des populations.\n",
    "\n",
    "Je peux donc restreindre encore la liste des indicateurs."
   ]
  },
  {
   "cell_type": "code",
   "execution_count": 36,
   "metadata": {},
   "outputs": [
    {
     "data": {
      "text/html": [
       "<div>\n",
       "<style scoped>\n",
       "    .dataframe tbody tr th:only-of-type {\n",
       "        vertical-align: middle;\n",
       "    }\n",
       "\n",
       "    .dataframe tbody tr th {\n",
       "        vertical-align: top;\n",
       "    }\n",
       "\n",
       "    .dataframe thead th {\n",
       "        text-align: right;\n",
       "    }\n",
       "</style>\n",
       "<table border=\"1\" class=\"dataframe\">\n",
       "  <thead>\n",
       "    <tr style=\"text-align: right;\">\n",
       "      <th></th>\n",
       "      <th>Country Code</th>\n",
       "      <th>Country Name</th>\n",
       "      <th>Indicator Code</th>\n",
       "      <th>2010</th>\n",
       "      <th>2011</th>\n",
       "      <th>2012</th>\n",
       "      <th>2013</th>\n",
       "      <th>2014</th>\n",
       "      <th>2015</th>\n",
       "      <th>2016</th>\n",
       "      <th>NB_NAN</th>\n",
       "    </tr>\n",
       "  </thead>\n",
       "  <tbody>\n",
       "    <tr>\n",
       "      <th>1246</th>\n",
       "      <td>ARB</td>\n",
       "      <td>Arab World</td>\n",
       "      <td>NY.GDP.PCAP.PP.KD</td>\n",
       "      <td>1.475905e+04</td>\n",
       "      <td>1.482591e+04</td>\n",
       "      <td>1.534280e+04</td>\n",
       "      <td>1.545497e+04</td>\n",
       "      <td>NaN</td>\n",
       "      <td>NaN</td>\n",
       "      <td>NaN</td>\n",
       "      <td>0.428571</td>\n",
       "    </tr>\n",
       "    <tr>\n",
       "      <th>1375</th>\n",
       "      <td>ARB</td>\n",
       "      <td>Arab World</td>\n",
       "      <td>IT.NET.USER.P2</td>\n",
       "      <td>2.674725e+01</td>\n",
       "      <td>2.970776e+01</td>\n",
       "      <td>3.401422e+01</td>\n",
       "      <td>3.686860e+01</td>\n",
       "      <td>NaN</td>\n",
       "      <td>NaN</td>\n",
       "      <td>NaN</td>\n",
       "      <td>0.428571</td>\n",
       "    </tr>\n",
       "    <tr>\n",
       "      <th>2307</th>\n",
       "      <td>ARB</td>\n",
       "      <td>Arab World</td>\n",
       "      <td>SP.POP.GROW</td>\n",
       "      <td>2.230786e+00</td>\n",
       "      <td>2.128048e+00</td>\n",
       "      <td>2.063874e+00</td>\n",
       "      <td>2.012570e+00</td>\n",
       "      <td>NaN</td>\n",
       "      <td>NaN</td>\n",
       "      <td>NaN</td>\n",
       "      <td>0.428571</td>\n",
       "    </tr>\n",
       "    <tr>\n",
       "      <th>2326</th>\n",
       "      <td>ARB</td>\n",
       "      <td>Arab World</td>\n",
       "      <td>SP.TER.TOTL.IN</td>\n",
       "      <td>3.519644e+07</td>\n",
       "      <td>3.540634e+07</td>\n",
       "      <td>3.548681e+07</td>\n",
       "      <td>3.545010e+07</td>\n",
       "      <td>35373556.0</td>\n",
       "      <td>NaN</td>\n",
       "      <td>NaN</td>\n",
       "      <td>0.285714</td>\n",
       "    </tr>\n",
       "    <tr>\n",
       "      <th>2332</th>\n",
       "      <td>ARB</td>\n",
       "      <td>Arab World</td>\n",
       "      <td>SP.SEC.UTOT.IN</td>\n",
       "      <td>2.155430e+07</td>\n",
       "      <td>2.154900e+07</td>\n",
       "      <td>2.157159e+07</td>\n",
       "      <td>2.159408e+07</td>\n",
       "      <td>21576684.0</td>\n",
       "      <td>NaN</td>\n",
       "      <td>NaN</td>\n",
       "      <td>0.285714</td>\n",
       "    </tr>\n",
       "  </tbody>\n",
       "</table>\n",
       "</div>"
      ],
      "text/plain": [
       "     Country Code Country Name     Indicator Code          2010          2011  \\\n",
       "1246          ARB   Arab World  NY.GDP.PCAP.PP.KD  1.475905e+04  1.482591e+04   \n",
       "1375          ARB   Arab World     IT.NET.USER.P2  2.674725e+01  2.970776e+01   \n",
       "2307          ARB   Arab World        SP.POP.GROW  2.230786e+00  2.128048e+00   \n",
       "2326          ARB   Arab World     SP.TER.TOTL.IN  3.519644e+07  3.540634e+07   \n",
       "2332          ARB   Arab World     SP.SEC.UTOT.IN  2.155430e+07  2.154900e+07   \n",
       "\n",
       "              2012          2013        2014  2015  2016    NB_NAN  \n",
       "1246  1.534280e+04  1.545497e+04         NaN   NaN   NaN  0.428571  \n",
       "1375  3.401422e+01  3.686860e+01         NaN   NaN   NaN  0.428571  \n",
       "2307  2.063874e+00  2.012570e+00         NaN   NaN   NaN  0.428571  \n",
       "2326  3.548681e+07  3.545010e+07  35373556.0   NaN   NaN  0.285714  \n",
       "2332  2.157159e+07  2.159408e+07  21576684.0   NaN   NaN  0.285714  "
      ]
     },
     "execution_count": 36,
     "metadata": {},
     "output_type": "execute_result"
    }
   ],
   "source": [
    "liste_indicateurs = ['IT.NET.USER.P2', 'NY.GDP.PCAP.PP.KD', 'SP.SEC.UTOT.IN', 'SP.TER.TOTL.IN', 'SP.POP.TOTL', 'SP.POP.GROW']\n",
    "edStatsData = edStatsData.loc[edStatsData['Indicator Code'].isin(liste_indicateurs)]\n",
    "edStatsData.head()"
   ]
  },
  {
   "cell_type": "markdown",
   "metadata": {},
   "source": [
    "Pour améliorer le taux de remplissage, en définissant la colonne *2016* comme année de référence pour les calculs futurs, je remplace les valeurs *NaN* par la dernière valeur non nulle, en restreignant la remontée d'informations à 3 années antérieures, pour éviter un déséquilibre de comparaison entre les pays avec des valeurs récentes ou plus anciennes.\n",
    "Je préfère supprimer un pays aux informations trop obsolètes."
   ]
  },
  {
   "cell_type": "code",
   "execution_count": 37,
   "metadata": {},
   "outputs": [
    {
     "data": {
      "text/html": [
       "<div>\n",
       "<style scoped>\n",
       "    .dataframe tbody tr th:only-of-type {\n",
       "        vertical-align: middle;\n",
       "    }\n",
       "\n",
       "    .dataframe tbody tr th {\n",
       "        vertical-align: top;\n",
       "    }\n",
       "\n",
       "    .dataframe thead th {\n",
       "        text-align: right;\n",
       "    }\n",
       "</style>\n",
       "<table border=\"1\" class=\"dataframe\">\n",
       "  <thead>\n",
       "    <tr style=\"text-align: right;\">\n",
       "      <th></th>\n",
       "      <th>Country Code</th>\n",
       "      <th>Country Name</th>\n",
       "      <th>Indicator Code</th>\n",
       "      <th>2010</th>\n",
       "      <th>2011</th>\n",
       "      <th>2012</th>\n",
       "      <th>2013</th>\n",
       "      <th>2014</th>\n",
       "      <th>2015</th>\n",
       "      <th>2016</th>\n",
       "      <th>NB_NAN</th>\n",
       "    </tr>\n",
       "  </thead>\n",
       "  <tbody>\n",
       "    <tr>\n",
       "      <th>1246</th>\n",
       "      <td>ARB</td>\n",
       "      <td>Arab World</td>\n",
       "      <td>NY.GDP.PCAP.PP.KD</td>\n",
       "      <td>14759.050926</td>\n",
       "      <td>14825.90958</td>\n",
       "      <td>15342.795448</td>\n",
       "      <td>15454.968241</td>\n",
       "      <td>15454.968241</td>\n",
       "      <td>15454.968241</td>\n",
       "      <td>15454.968241</td>\n",
       "      <td>0.428571</td>\n",
       "    </tr>\n",
       "  </tbody>\n",
       "</table>\n",
       "</div>"
      ],
      "text/plain": [
       "     Country Code Country Name     Indicator Code          2010         2011  \\\n",
       "1246          ARB   Arab World  NY.GDP.PCAP.PP.KD  14759.050926  14825.90958   \n",
       "\n",
       "              2012          2013          2014          2015          2016  \\\n",
       "1246  15342.795448  15454.968241  15454.968241  15454.968241  15454.968241   \n",
       "\n",
       "        NB_NAN  \n",
       "1246  0.428571  "
      ]
     },
     "execution_count": 37,
     "metadata": {},
     "output_type": "execute_result"
    }
   ],
   "source": [
    "edStatsData = edStatsData.fillna(method='ffill', axis=1, limit=3)\n",
    "edStatsData.head(1)"
   ]
  },
  {
   "cell_type": "markdown",
   "metadata": {},
   "source": [
    "Je supprime les colonnes inutiles et renomme celles qui restent."
   ]
  },
  {
   "cell_type": "code",
   "execution_count": 38,
   "metadata": {},
   "outputs": [
    {
     "data": {
      "text/html": [
       "<div>\n",
       "<style scoped>\n",
       "    .dataframe tbody tr th:only-of-type {\n",
       "        vertical-align: middle;\n",
       "    }\n",
       "\n",
       "    .dataframe tbody tr th {\n",
       "        vertical-align: top;\n",
       "    }\n",
       "\n",
       "    .dataframe thead th {\n",
       "        text-align: right;\n",
       "    }\n",
       "</style>\n",
       "<table border=\"1\" class=\"dataframe\">\n",
       "  <thead>\n",
       "    <tr style=\"text-align: right;\">\n",
       "      <th></th>\n",
       "      <th>Code_Pays</th>\n",
       "      <th>Pays</th>\n",
       "      <th>Indicateur</th>\n",
       "      <th>Valeur</th>\n",
       "      <th>NB_NAN</th>\n",
       "    </tr>\n",
       "  </thead>\n",
       "  <tbody>\n",
       "    <tr>\n",
       "      <th>1246</th>\n",
       "      <td>ARB</td>\n",
       "      <td>Arab World</td>\n",
       "      <td>NY.GDP.PCAP.PP.KD</td>\n",
       "      <td>15454.968241</td>\n",
       "      <td>0.428571</td>\n",
       "    </tr>\n",
       "  </tbody>\n",
       "</table>\n",
       "</div>"
      ],
      "text/plain": [
       "     Code_Pays        Pays         Indicateur        Valeur    NB_NAN\n",
       "1246       ARB  Arab World  NY.GDP.PCAP.PP.KD  15454.968241  0.428571"
      ]
     },
     "execution_count": 38,
     "metadata": {},
     "output_type": "execute_result"
    }
   ],
   "source": [
    "edStatsData = edStatsData.drop(columns=['2010', '2011', '2012', '2013', '2014', '2015'])\n",
    "edStatsData = edStatsData.rename(columns={'Country Code': 'Code_Pays', 'Country Name': 'Pays', 'Indicator Code': 'Indicateur', '2016': 'Valeur'})\n",
    "edStatsData.head(1)"
   ]
  },
  {
   "cell_type": "markdown",
   "metadata": {},
   "source": [
    "Je calcule les taux de remplissage par pays."
   ]
  },
  {
   "cell_type": "code",
   "execution_count": 39,
   "metadata": {},
   "outputs": [
    {
     "data": {
      "text/html": [
       "<div>\n",
       "<style scoped>\n",
       "    .dataframe tbody tr th:only-of-type {\n",
       "        vertical-align: middle;\n",
       "    }\n",
       "\n",
       "    .dataframe tbody tr th {\n",
       "        vertical-align: top;\n",
       "    }\n",
       "\n",
       "    .dataframe thead th {\n",
       "        text-align: right;\n",
       "    }\n",
       "</style>\n",
       "<table border=\"1\" class=\"dataframe\">\n",
       "  <thead>\n",
       "    <tr style=\"text-align: right;\">\n",
       "      <th></th>\n",
       "      <th>Code_Pays</th>\n",
       "      <th>Pays</th>\n",
       "      <th>Indicateur</th>\n",
       "      <th>Valeur</th>\n",
       "      <th>NB_NAN</th>\n",
       "    </tr>\n",
       "  </thead>\n",
       "  <tbody>\n",
       "    <tr>\n",
       "      <th>1246</th>\n",
       "      <td>ARB</td>\n",
       "      <td>Arab World</td>\n",
       "      <td>NY.GDP.PCAP.PP.KD</td>\n",
       "      <td>15454.968241</td>\n",
       "      <td>0</td>\n",
       "    </tr>\n",
       "  </tbody>\n",
       "</table>\n",
       "</div>"
      ],
      "text/plain": [
       "     Code_Pays        Pays         Indicateur        Valeur  NB_NAN\n",
       "1246       ARB  Arab World  NY.GDP.PCAP.PP.KD  15454.968241       0"
      ]
     },
     "execution_count": 39,
     "metadata": {},
     "output_type": "execute_result"
    }
   ],
   "source": [
    "edStatsData['NB_NAN'] = edStatsData.isna().sum(axis=1)\n",
    "edStatsData.head(1)"
   ]
  },
  {
   "cell_type": "code",
   "execution_count": 40,
   "metadata": {},
   "outputs": [
    {
     "data": {
      "text/plain": [
       "Pays\n",
       "Afghanistan                                           0.000000\n",
       "Middle East & North Africa                            0.000000\n",
       "Middle East & North Africa (excluding high income)    0.000000\n",
       "Middle income                                         0.000000\n",
       "Moldova                                               0.000000\n",
       "                                                        ...   \n",
       "Channel Islands                                       0.666667\n",
       "Turks and Caicos Islands                              0.666667\n",
       "Northern Mariana Islands                              0.666667\n",
       "Nauru                                                 0.666667\n",
       "St. Martin (French part)                              0.666667\n",
       "Name: NB_NAN, Length: 242, dtype: float64"
      ]
     },
     "execution_count": 40,
     "metadata": {},
     "output_type": "execute_result"
    }
   ],
   "source": [
    "edStatsData.groupby('Pays')['NB_NAN'].mean().sort_values()"
   ]
  },
  {
   "cell_type": "markdown",
   "metadata": {},
   "source": [
    "Les taux de remplissage sont encore loin d'être acceptables.\n",
    "___\n",
    "Je transforme le dataframe avec une agrégation des données de sorte que les indicateurs apparaissent en colonne pour chaque pays/continent en ligne."
   ]
  },
  {
   "cell_type": "code",
   "execution_count": 41,
   "metadata": {},
   "outputs": [
    {
     "data": {
      "text/html": [
       "<div>\n",
       "<style scoped>\n",
       "    .dataframe tbody tr th:only-of-type {\n",
       "        vertical-align: middle;\n",
       "    }\n",
       "\n",
       "    .dataframe tbody tr th {\n",
       "        vertical-align: top;\n",
       "    }\n",
       "\n",
       "    .dataframe thead th {\n",
       "        text-align: right;\n",
       "    }\n",
       "</style>\n",
       "<table border=\"1\" class=\"dataframe\">\n",
       "  <thead>\n",
       "    <tr style=\"text-align: right;\">\n",
       "      <th>Indicateur</th>\n",
       "      <th>Code_Pays</th>\n",
       "      <th>Pays</th>\n",
       "      <th>IT.NET.USER.P2</th>\n",
       "      <th>NY.GDP.PCAP.PP.KD</th>\n",
       "      <th>SP.POP.GROW</th>\n",
       "      <th>SP.POP.TOTL</th>\n",
       "      <th>SP.SEC.UTOT.IN</th>\n",
       "      <th>SP.TER.TOTL.IN</th>\n",
       "    </tr>\n",
       "  </thead>\n",
       "  <tbody>\n",
       "    <tr>\n",
       "      <th>0</th>\n",
       "      <td>ABW</td>\n",
       "      <td>Aruba</td>\n",
       "      <td>93.542454</td>\n",
       "      <td>NaN</td>\n",
       "      <td>0.459929</td>\n",
       "      <td>104822.0</td>\n",
       "      <td>4465.0</td>\n",
       "      <td>7634.0</td>\n",
       "    </tr>\n",
       "  </tbody>\n",
       "</table>\n",
       "</div>"
      ],
      "text/plain": [
       "Indicateur Code_Pays   Pays  IT.NET.USER.P2  NY.GDP.PCAP.PP.KD  SP.POP.GROW  \\\n",
       "0                ABW  Aruba       93.542454                NaN     0.459929   \n",
       "\n",
       "Indicateur  SP.POP.TOTL  SP.SEC.UTOT.IN  SP.TER.TOTL.IN  \n",
       "0              104822.0          4465.0          7634.0  "
      ]
     },
     "execution_count": 41,
     "metadata": {},
     "output_type": "execute_result"
    }
   ],
   "source": [
    "edStatsData = edStatsData.pivot_table(index=['Code_Pays', 'Pays'], columns='Indicateur', values='Valeur')\n",
    "edStatsData = edStatsData.reset_index()\n",
    "edStatsData.head(1)"
   ]
  },
  {
   "cell_type": "markdown",
   "metadata": {},
   "source": [
    "\n",
    "Je constate aussi que dans cette liste de 242 \"*Pays*\", certains se rapportent à une agrégation (*Middle East & North Africa* ou *Arab World*) plutôt qu'à un pays unique en tant que tel.\n",
    "\n",
    "Je vérifie de plus près."
   ]
  },
  {
   "cell_type": "code",
   "execution_count": 42,
   "metadata": {
    "scrolled": false
   },
   "outputs": [
    {
     "data": {
      "text/plain": [
       "['Aruba',\n",
       " 'Afghanistan',\n",
       " 'Angola',\n",
       " 'Albania',\n",
       " 'Andorra',\n",
       " 'Arab World',\n",
       " 'United Arab Emirates',\n",
       " 'Argentina',\n",
       " 'Armenia',\n",
       " 'American Samoa',\n",
       " 'Antigua and Barbuda',\n",
       " 'Australia',\n",
       " 'Austria',\n",
       " 'Azerbaijan',\n",
       " 'Burundi',\n",
       " 'Belgium',\n",
       " 'Benin',\n",
       " 'Burkina Faso',\n",
       " 'Bangladesh',\n",
       " 'Bulgaria',\n",
       " 'Bahrain',\n",
       " 'Bahamas, The',\n",
       " 'Bosnia and Herzegovina',\n",
       " 'Belarus',\n",
       " 'Belize',\n",
       " 'Bermuda',\n",
       " 'Bolivia',\n",
       " 'Brazil',\n",
       " 'Barbados',\n",
       " 'Brunei Darussalam',\n",
       " 'Bhutan',\n",
       " 'Botswana',\n",
       " 'Central African Republic',\n",
       " 'Canada',\n",
       " 'Switzerland',\n",
       " 'Channel Islands',\n",
       " 'Chile',\n",
       " 'China',\n",
       " \"Cote d'Ivoire\",\n",
       " 'Cameroon',\n",
       " 'Congo, Dem. Rep.',\n",
       " 'Congo, Rep.',\n",
       " 'Colombia',\n",
       " 'Comoros',\n",
       " 'Cabo Verde',\n",
       " 'Costa Rica',\n",
       " 'Cuba',\n",
       " 'Curacao',\n",
       " 'Cayman Islands',\n",
       " 'Cyprus',\n",
       " 'Czech Republic',\n",
       " 'Germany',\n",
       " 'Djibouti',\n",
       " 'Dominica',\n",
       " 'Denmark',\n",
       " 'Dominican Republic',\n",
       " 'Algeria',\n",
       " 'East Asia & Pacific (excluding high income)',\n",
       " 'East Asia & Pacific',\n",
       " 'Europe & Central Asia (excluding high income)',\n",
       " 'Europe & Central Asia',\n",
       " 'Ecuador',\n",
       " 'Egypt, Arab Rep.',\n",
       " 'Euro area',\n",
       " 'Eritrea',\n",
       " 'Spain',\n",
       " 'Estonia',\n",
       " 'Ethiopia',\n",
       " 'European Union',\n",
       " 'Finland',\n",
       " 'Fiji',\n",
       " 'France',\n",
       " 'Faroe Islands',\n",
       " 'Micronesia, Fed. Sts.',\n",
       " 'Gabon',\n",
       " 'United Kingdom',\n",
       " 'Georgia',\n",
       " 'Ghana',\n",
       " 'Gibraltar',\n",
       " 'Guinea',\n",
       " 'Gambia, The',\n",
       " 'Guinea-Bissau',\n",
       " 'Equatorial Guinea',\n",
       " 'Greece',\n",
       " 'Grenada',\n",
       " 'Greenland',\n",
       " 'Guatemala',\n",
       " 'Guam',\n",
       " 'Guyana',\n",
       " 'High income',\n",
       " 'Hong Kong SAR, China',\n",
       " 'Honduras',\n",
       " 'Heavily indebted poor countries (HIPC)',\n",
       " 'Croatia',\n",
       " 'Haiti',\n",
       " 'Hungary',\n",
       " 'Indonesia',\n",
       " 'Isle of Man',\n",
       " 'India',\n",
       " 'Ireland',\n",
       " 'Iran, Islamic Rep.',\n",
       " 'Iraq',\n",
       " 'Iceland',\n",
       " 'Israel',\n",
       " 'Italy',\n",
       " 'Jamaica',\n",
       " 'Jordan',\n",
       " 'Japan',\n",
       " 'Kazakhstan',\n",
       " 'Kenya',\n",
       " 'Kyrgyz Republic',\n",
       " 'Cambodia',\n",
       " 'Kiribati',\n",
       " 'St. Kitts and Nevis',\n",
       " 'Korea, Rep.',\n",
       " 'Kuwait',\n",
       " 'Latin America & Caribbean (excluding high income)',\n",
       " 'Lao PDR',\n",
       " 'Lebanon',\n",
       " 'Liberia',\n",
       " 'Libya',\n",
       " 'St. Lucia',\n",
       " 'Latin America & Caribbean',\n",
       " 'Least developed countries: UN classification',\n",
       " 'Low income',\n",
       " 'Liechtenstein',\n",
       " 'Sri Lanka',\n",
       " 'Lower middle income',\n",
       " 'Low & middle income',\n",
       " 'Lesotho',\n",
       " 'Lithuania',\n",
       " 'Luxembourg',\n",
       " 'Latvia',\n",
       " 'Macao SAR, China',\n",
       " 'St. Martin (French part)',\n",
       " 'Morocco',\n",
       " 'Monaco',\n",
       " 'Moldova',\n",
       " 'Madagascar',\n",
       " 'Maldives',\n",
       " 'Middle East & North Africa',\n",
       " 'Mexico',\n",
       " 'Marshall Islands',\n",
       " 'Middle income',\n",
       " 'Macedonia, FYR',\n",
       " 'Mali',\n",
       " 'Malta',\n",
       " 'Myanmar',\n",
       " 'Middle East & North Africa (excluding high income)',\n",
       " 'Montenegro',\n",
       " 'Mongolia',\n",
       " 'Northern Mariana Islands',\n",
       " 'Mozambique',\n",
       " 'Mauritania',\n",
       " 'Mauritius',\n",
       " 'Malawi',\n",
       " 'Malaysia',\n",
       " 'North America',\n",
       " 'Namibia',\n",
       " 'New Caledonia',\n",
       " 'Niger',\n",
       " 'Nigeria',\n",
       " 'Nicaragua',\n",
       " 'Netherlands',\n",
       " 'Norway',\n",
       " 'Nepal',\n",
       " 'Nauru',\n",
       " 'New Zealand',\n",
       " 'OECD members',\n",
       " 'Oman',\n",
       " 'Pakistan',\n",
       " 'Panama',\n",
       " 'Peru',\n",
       " 'Philippines',\n",
       " 'Palau',\n",
       " 'Papua New Guinea',\n",
       " 'Poland',\n",
       " 'Puerto Rico',\n",
       " 'Korea, Dem. People’s Rep.',\n",
       " 'Portugal',\n",
       " 'Paraguay',\n",
       " 'West Bank and Gaza',\n",
       " 'French Polynesia',\n",
       " 'Qatar',\n",
       " 'Romania',\n",
       " 'Russian Federation',\n",
       " 'Rwanda',\n",
       " 'South Asia',\n",
       " 'Saudi Arabia',\n",
       " 'Sudan',\n",
       " 'Senegal',\n",
       " 'Singapore',\n",
       " 'Solomon Islands',\n",
       " 'Sierra Leone',\n",
       " 'El Salvador',\n",
       " 'San Marino',\n",
       " 'Somalia',\n",
       " 'Serbia',\n",
       " 'Sub-Saharan Africa (excluding high income)',\n",
       " 'South Sudan',\n",
       " 'Sub-Saharan Africa',\n",
       " 'Sao Tome and Principe',\n",
       " 'Suriname',\n",
       " 'Slovak Republic',\n",
       " 'Slovenia',\n",
       " 'Sweden',\n",
       " 'Swaziland',\n",
       " 'Sint Maarten (Dutch part)',\n",
       " 'Seychelles',\n",
       " 'Syrian Arab Republic',\n",
       " 'Turks and Caicos Islands',\n",
       " 'Chad',\n",
       " 'Togo',\n",
       " 'Thailand',\n",
       " 'Tajikistan',\n",
       " 'Turkmenistan',\n",
       " 'Timor-Leste',\n",
       " 'Tonga',\n",
       " 'Trinidad and Tobago',\n",
       " 'Tunisia',\n",
       " 'Turkey',\n",
       " 'Tuvalu',\n",
       " 'Tanzania',\n",
       " 'Uganda',\n",
       " 'Ukraine',\n",
       " 'Upper middle income',\n",
       " 'Uruguay',\n",
       " 'United States',\n",
       " 'Uzbekistan',\n",
       " 'St. Vincent and the Grenadines',\n",
       " 'Venezuela, RB',\n",
       " 'British Virgin Islands',\n",
       " 'Virgin Islands (U.S.)',\n",
       " 'Vietnam',\n",
       " 'Vanuatu',\n",
       " 'World',\n",
       " 'Samoa',\n",
       " 'Kosovo',\n",
       " 'Yemen, Rep.',\n",
       " 'South Africa',\n",
       " 'Zambia',\n",
       " 'Zimbabwe']"
      ]
     },
     "execution_count": 42,
     "metadata": {},
     "output_type": "execute_result"
    }
   ],
   "source": [
    "edStatsData['Pays'].unique().tolist()"
   ]
  },
  {
   "cell_type": "markdown",
   "metadata": {},
   "source": [
    "Effectivement, tout le début de la liste est relatif à des agrégations de zones géographiques et/ou des filtres sur le niveau des revenus.\n",
    "Le besoin pour *Mark* vaut, d'une part, pour les **pays pris individuellement** et, d'autre part, pour des **continents**.\n",
    "\n",
    "Le travail à suivre sera à mener en parallèle sur 2 extractions du dataframe.\n",
    "___\n",
    "Je cherche s'il y a un moyen simple d'y parvenir.\n",
    "\n",
    "Peut-être à l'aide du dataframe *edStatsCountry*.\n",
    "\n",
    "Mais pour commencer, ce dernier contient 241 pays, contre 242 dans *edStatsData*.\n",
    "\n",
    "J'établis la liste des pays de *edStatsCountry*."
   ]
  },
  {
   "cell_type": "code",
   "execution_count": 43,
   "metadata": {},
   "outputs": [],
   "source": [
    "liste_country = edStatsCountry['Country Code'].unique().tolist()"
   ]
  },
  {
   "cell_type": "markdown",
   "metadata": {},
   "source": [
    "Je cherche le pays supplémentaire dans *edStatsData*."
   ]
  },
  {
   "cell_type": "code",
   "execution_count": 44,
   "metadata": {
    "scrolled": true
   },
   "outputs": [
    {
     "name": "stdout",
     "output_type": "stream",
     "text": [
      "['VGB']\n",
      "['British Virgin Islands']\n"
     ]
    }
   ],
   "source": [
    "print(edStatsData.loc[~edStatsData['Code_Pays'].isin(liste_country)]['Code_Pays'].unique().tolist())\n",
    "print(edStatsData.loc[~edStatsData['Code_Pays'].isin(liste_country)]['Pays'].unique().tolist())"
   ]
  },
  {
   "cell_type": "markdown",
   "metadata": {},
   "source": [
    "Il s'agit d'un vrai pays que je devrai ajouter à ma liste finale.\n",
    "___\n",
    "Pour revenir à mon besoin de différencier facilement les pays uniques des agrégations dans *edStatsCountry*, la colonne *Currency Unit* est peut-être un critère."
   ]
  },
  {
   "cell_type": "code",
   "execution_count": 45,
   "metadata": {
    "scrolled": false
   },
   "outputs": [
    {
     "data": {
      "text/plain": [
       "['Arab World',\n",
       " 'East Asia & Pacific',\n",
       " 'East Asia & Pacific (all income levels)',\n",
       " 'Europe & Central Asia',\n",
       " 'Europe & Central Asia (all income levels)',\n",
       " 'Euro area',\n",
       " 'European Union',\n",
       " 'High income',\n",
       " 'Heavily indebted poor countries (HIPC)',\n",
       " 'Latin America & Caribbean',\n",
       " 'Latin America & Caribbean (all income levels)',\n",
       " 'Least developed countries: UN classification',\n",
       " 'Low income',\n",
       " 'Lower middle income',\n",
       " 'Low & middle income',\n",
       " 'Middle East & North Africa (all income levels)',\n",
       " 'Middle income',\n",
       " 'Middle East & North Africa',\n",
       " 'North America',\n",
       " 'Nauru',\n",
       " 'OECD members',\n",
       " 'South Asia',\n",
       " 'Sub-Saharan Africa',\n",
       " 'Sub-Saharan Africa (all income levels)',\n",
       " 'Upper middle income',\n",
       " 'World']"
      ]
     },
     "execution_count": 45,
     "metadata": {},
     "output_type": "execute_result"
    }
   ],
   "source": [
    "edStatsCountry.loc[edStatsCountry['Currency Unit'].isna()]['Table Name'].unique().tolist()"
   ]
  },
  {
   "cell_type": "markdown",
   "metadata": {},
   "source": [
    "C'est intéressant mais 1 vrai pays apparaît quand même : *Nauru* dont le *Code_Pays* est :"
   ]
  },
  {
   "cell_type": "code",
   "execution_count": 46,
   "metadata": {},
   "outputs": [
    {
     "data": {
      "text/plain": [
       "166    NRU\n",
       "Name: Country Code, dtype: object"
      ]
     },
     "execution_count": 46,
     "metadata": {},
     "output_type": "execute_result"
    }
   ],
   "source": [
    "edStatsCountry.loc[edStatsCountry['Table Name'] == 'Nauru']['Country Code']"
   ]
  },
  {
   "cell_type": "markdown",
   "metadata": {},
   "source": [
    "J'observe la liste complémentaire des pays avec une monnaie non vide pour vérifier si une agrégation pourrait se glisser dans la liste des pays uniques."
   ]
  },
  {
   "cell_type": "code",
   "execution_count": 47,
   "metadata": {},
   "outputs": [
    {
     "data": {
      "text/plain": [
       "['Aruba',\n",
       " 'Afghanistan',\n",
       " 'Angola',\n",
       " 'Albania',\n",
       " 'Andorra',\n",
       " 'United Arab Emirates',\n",
       " 'Argentina',\n",
       " 'Armenia',\n",
       " 'American Samoa',\n",
       " 'Antigua and Barbuda',\n",
       " 'Australia',\n",
       " 'Austria',\n",
       " 'Azerbaijan',\n",
       " 'Burundi',\n",
       " 'Belgium',\n",
       " 'Benin',\n",
       " 'Burkina Faso',\n",
       " 'Bangladesh',\n",
       " 'Bulgaria',\n",
       " 'Bahrain',\n",
       " 'Bahamas, The',\n",
       " 'Bosnia and Herzegovina',\n",
       " 'Belarus',\n",
       " 'Belize',\n",
       " 'Bermuda',\n",
       " 'Bolivia',\n",
       " 'Brazil',\n",
       " 'Barbados',\n",
       " 'Brunei Darussalam',\n",
       " 'Bhutan',\n",
       " 'Botswana',\n",
       " 'Central African Republic',\n",
       " 'Canada',\n",
       " 'Switzerland',\n",
       " 'Channel Islands',\n",
       " 'Chile',\n",
       " 'China',\n",
       " \"Côte d'Ivoire\",\n",
       " 'Cameroon',\n",
       " 'Congo, Dem. Rep.',\n",
       " 'Congo, Rep.',\n",
       " 'Colombia',\n",
       " 'Comoros',\n",
       " 'Cabo Verde',\n",
       " 'Costa Rica',\n",
       " 'Cuba',\n",
       " 'Curaçao',\n",
       " 'Cayman Islands',\n",
       " 'Cyprus',\n",
       " 'Czech Republic',\n",
       " 'Germany',\n",
       " 'Djibouti',\n",
       " 'Dominica',\n",
       " 'Denmark',\n",
       " 'Dominican Republic',\n",
       " 'Algeria',\n",
       " 'Ecuador',\n",
       " 'Egypt, Arab Rep.',\n",
       " 'Eritrea',\n",
       " 'Spain',\n",
       " 'Estonia',\n",
       " 'Ethiopia',\n",
       " 'Finland',\n",
       " 'Fiji',\n",
       " 'France',\n",
       " 'Faeroe Islands',\n",
       " 'Micronesia, Fed. Sts.',\n",
       " 'Gabon',\n",
       " 'United Kingdom',\n",
       " 'Georgia',\n",
       " 'Ghana',\n",
       " 'Gibraltar',\n",
       " 'Guinea',\n",
       " 'Gambia, The',\n",
       " 'Guinea-Bissau',\n",
       " 'Equatorial Guinea',\n",
       " 'Greece',\n",
       " 'Grenada',\n",
       " 'Greenland',\n",
       " 'Guatemala',\n",
       " 'Guam',\n",
       " 'Guyana',\n",
       " 'Hong Kong SAR, China',\n",
       " 'Honduras',\n",
       " 'Croatia',\n",
       " 'Haiti',\n",
       " 'Hungary',\n",
       " 'Indonesia',\n",
       " 'Isle of Man',\n",
       " 'India',\n",
       " 'Ireland',\n",
       " 'Iran, Islamic Rep.',\n",
       " 'Iraq',\n",
       " 'Iceland',\n",
       " 'Israel',\n",
       " 'Italy',\n",
       " 'Jamaica',\n",
       " 'Jordan',\n",
       " 'Japan',\n",
       " 'Kazakhstan',\n",
       " 'Kenya',\n",
       " 'Kyrgyz Republic',\n",
       " 'Cambodia',\n",
       " 'Kiribati',\n",
       " 'St. Kitts and Nevis',\n",
       " 'Korea, Rep.',\n",
       " 'Kuwait',\n",
       " 'Lao PDR',\n",
       " 'Lebanon',\n",
       " 'Liberia',\n",
       " 'Libya',\n",
       " 'St. Lucia',\n",
       " 'Liechtenstein',\n",
       " 'Sri Lanka',\n",
       " 'Lesotho',\n",
       " 'Lithuania',\n",
       " 'Luxembourg',\n",
       " 'Latvia',\n",
       " 'Macao SAR, China',\n",
       " 'St. Martin (French part)',\n",
       " 'Morocco',\n",
       " 'Monaco',\n",
       " 'Moldova',\n",
       " 'Madagascar',\n",
       " 'Maldives',\n",
       " 'Mexico',\n",
       " 'Marshall Islands',\n",
       " 'Macedonia, FYR',\n",
       " 'Mali',\n",
       " 'Malta',\n",
       " 'Myanmar',\n",
       " 'Montenegro',\n",
       " 'Mongolia',\n",
       " 'Northern Mariana Islands',\n",
       " 'Mozambique',\n",
       " 'Mauritania',\n",
       " 'Mauritius',\n",
       " 'Malawi',\n",
       " 'Malaysia',\n",
       " 'Namibia',\n",
       " 'New Caledonia',\n",
       " 'Niger',\n",
       " 'Nigeria',\n",
       " 'Nicaragua',\n",
       " 'Netherlands',\n",
       " 'Norway',\n",
       " 'Nepal',\n",
       " 'New Zealand',\n",
       " 'Oman',\n",
       " 'Pakistan',\n",
       " 'Panama',\n",
       " 'Peru',\n",
       " 'Philippines',\n",
       " 'Palau',\n",
       " 'Papua New Guinea',\n",
       " 'Poland',\n",
       " 'Puerto Rico',\n",
       " 'Korea, Dem. Rep.',\n",
       " 'Portugal',\n",
       " 'Paraguay',\n",
       " 'West Bank and Gaza',\n",
       " 'French Polynesia',\n",
       " 'Qatar',\n",
       " 'Romania',\n",
       " 'Russian Federation',\n",
       " 'Rwanda',\n",
       " 'Saudi Arabia',\n",
       " 'Sudan',\n",
       " 'Senegal',\n",
       " 'Singapore',\n",
       " 'Solomon Islands',\n",
       " 'Sierra Leone',\n",
       " 'El Salvador',\n",
       " 'San Marino',\n",
       " 'Somalia',\n",
       " 'Serbia',\n",
       " 'South Sudan',\n",
       " 'São Tomé and Principe',\n",
       " 'Suriname',\n",
       " 'Slovak Republic',\n",
       " 'Slovenia',\n",
       " 'Sweden',\n",
       " 'Swaziland',\n",
       " 'Sint Maarten (Dutch part)',\n",
       " 'Seychelles',\n",
       " 'Syrian Arab Republic',\n",
       " 'Turks and Caicos Islands',\n",
       " 'Chad',\n",
       " 'Togo',\n",
       " 'Thailand',\n",
       " 'Tajikistan',\n",
       " 'Turkmenistan',\n",
       " 'Timor-Leste',\n",
       " 'Tonga',\n",
       " 'Trinidad and Tobago',\n",
       " 'Tunisia',\n",
       " 'Turkey',\n",
       " 'Tuvalu',\n",
       " 'Tanzania',\n",
       " 'Uganda',\n",
       " 'Ukraine',\n",
       " 'Uruguay',\n",
       " 'United States',\n",
       " 'Uzbekistan',\n",
       " 'St. Vincent and the Grenadines',\n",
       " 'Venezuela, RB',\n",
       " 'Virgin Islands (U.S.)',\n",
       " 'Vietnam',\n",
       " 'Vanuatu',\n",
       " 'Samoa',\n",
       " 'Kosovo',\n",
       " 'Yemen, Rep.',\n",
       " 'South Africa',\n",
       " 'Zambia',\n",
       " 'Zimbabwe']"
      ]
     },
     "execution_count": 47,
     "metadata": {},
     "output_type": "execute_result"
    }
   ],
   "source": [
    "edStatsCountry.loc[~edStatsCountry['Currency Unit'].isna()]['Table Name'].unique().tolist()"
   ]
  },
  {
   "cell_type": "markdown",
   "metadata": {},
   "source": [
    "A priori, cette liste paraît composée exclusivement de pays uniques.\n",
    "___\n",
    "Je peux créer la liste des pays uniques, à partir du **code pays** qui est la correspondance la plus sûre entre les 2 dataframes puis y ajouter les 2 pays repérés ci-dessus :"
   ]
  },
  {
   "cell_type": "code",
   "execution_count": 48,
   "metadata": {
    "scrolled": false
   },
   "outputs": [],
   "source": [
    "pays = edStatsCountry.loc[~edStatsCountry['Currency Unit'].isna()]['Country Code'].unique().tolist()\n",
    "pays = pays + ['VGB', 'NRU']"
   ]
  },
  {
   "cell_type": "markdown",
   "metadata": {},
   "source": [
    "Pour créer la liste des continents, il n'y a pas moyen de distinguer particulièrement parmi les agrégations.\n",
    "\n",
    "Le plus simple est de la créer manuellement, à partir de leur nom."
   ]
  },
  {
   "cell_type": "code",
   "execution_count": 49,
   "metadata": {},
   "outputs": [],
   "source": [
    "continent = ['East Asia & Pacific', 'Europe & Central Asia', 'Latin America & Caribbean', 'Middle East & North Africa', \n",
    "           'North America', 'South Asia', 'Sub-Saharan Africa']"
   ]
  },
  {
   "cell_type": "markdown",
   "metadata": {},
   "source": [
    "Je crée une nouvelle colonne *Type* indiquant la typologie exacte du pays : *Pays* ou *Continent*."
   ]
  },
  {
   "cell_type": "code",
   "execution_count": 50,
   "metadata": {},
   "outputs": [
    {
     "data": {
      "text/html": [
       "<div>\n",
       "<style scoped>\n",
       "    .dataframe tbody tr th:only-of-type {\n",
       "        vertical-align: middle;\n",
       "    }\n",
       "\n",
       "    .dataframe tbody tr th {\n",
       "        vertical-align: top;\n",
       "    }\n",
       "\n",
       "    .dataframe thead th {\n",
       "        text-align: right;\n",
       "    }\n",
       "</style>\n",
       "<table border=\"1\" class=\"dataframe\">\n",
       "  <thead>\n",
       "    <tr style=\"text-align: right;\">\n",
       "      <th>Indicateur</th>\n",
       "      <th>Code_Pays</th>\n",
       "      <th>Pays</th>\n",
       "      <th>IT.NET.USER.P2</th>\n",
       "      <th>NY.GDP.PCAP.PP.KD</th>\n",
       "      <th>SP.POP.GROW</th>\n",
       "      <th>SP.POP.TOTL</th>\n",
       "      <th>SP.SEC.UTOT.IN</th>\n",
       "      <th>SP.TER.TOTL.IN</th>\n",
       "      <th>Type</th>\n",
       "    </tr>\n",
       "  </thead>\n",
       "  <tbody>\n",
       "    <tr>\n",
       "      <th>0</th>\n",
       "      <td>ABW</td>\n",
       "      <td>Aruba</td>\n",
       "      <td>93.542454</td>\n",
       "      <td>NaN</td>\n",
       "      <td>0.459929</td>\n",
       "      <td>104822.0</td>\n",
       "      <td>4465.0</td>\n",
       "      <td>7634.0</td>\n",
       "      <td>Pays</td>\n",
       "    </tr>\n",
       "  </tbody>\n",
       "</table>\n",
       "</div>"
      ],
      "text/plain": [
       "Indicateur Code_Pays   Pays  IT.NET.USER.P2  NY.GDP.PCAP.PP.KD  SP.POP.GROW  \\\n",
       "0                ABW  Aruba       93.542454                NaN     0.459929   \n",
       "\n",
       "Indicateur  SP.POP.TOTL  SP.SEC.UTOT.IN  SP.TER.TOTL.IN  Type  \n",
       "0              104822.0          4465.0          7634.0  Pays  "
      ]
     },
     "execution_count": 50,
     "metadata": {},
     "output_type": "execute_result"
    }
   ],
   "source": [
    "edStatsData.loc[edStatsData['Code_Pays'].isin(pays), 'Type'] = 'Pays'\n",
    "edStatsData.loc[edStatsData['Pays'].isin(continent), 'Type'] = 'Continent'   \n",
    "edStatsData.head(1)"
   ]
  },
  {
   "cell_type": "markdown",
   "metadata": {},
   "source": [
    "Je supprime toutes autres lignes, correspondant aux agrégations qui ne m'intéressent pas."
   ]
  },
  {
   "cell_type": "code",
   "execution_count": 51,
   "metadata": {},
   "outputs": [],
   "source": [
    "edStatsData = edStatsData.loc[~edStatsData['Type'].isna()]"
   ]
  },
  {
   "cell_type": "markdown",
   "metadata": {},
   "source": [
    "Je renomme les indicateurs."
   ]
  },
  {
   "cell_type": "code",
   "execution_count": 52,
   "metadata": {},
   "outputs": [],
   "source": [
    "edStatsData = edStatsData.rename(columns={'IT.NET.USER.P2': \"Taux d'internautes\", 'NY.GDP.PCAP.PP.KD': 'PIB/habitant', \n",
    "                        'SP.POP.GROW': 'Croissance démographique', 'SP.POP.TOTL': 'Population', \n",
    "                        'SP.SEC.UTOT.IN': 'Secondaire', \n",
    "                        'SP.TER.TOTL.IN': 'Supérieur'})"
   ]
  },
  {
   "cell_type": "markdown",
   "metadata": {},
   "source": [
    "J'observe les taux de remplissage."
   ]
  },
  {
   "cell_type": "code",
   "execution_count": 53,
   "metadata": {},
   "outputs": [
    {
     "data": {
      "text/plain": [
       "Indicateur\n",
       "Code_Pays                   0.000000\n",
       "Pays                        0.000000\n",
       "Type                        0.000000\n",
       "Croissance démographique    0.013393\n",
       "Population                  0.013393\n",
       "Taux d'internautes          0.066964\n",
       "Secondaire                  0.089286\n",
       "Supérieur                   0.098214\n",
       "PIB/habitant                0.129464\n",
       "dtype: float64"
      ]
     },
     "execution_count": 53,
     "metadata": {},
     "output_type": "execute_result"
    }
   ],
   "source": [
    "edStatsData.isna().mean().sort_values()"
   ]
  },
  {
   "cell_type": "markdown",
   "metadata": {},
   "source": [
    "J'ai besoin de faire le point sur les **outliers**."
   ]
  },
  {
   "cell_type": "code",
   "execution_count": 54,
   "metadata": {
    "scrolled": true
   },
   "outputs": [
    {
     "data": {
      "text/html": [
       "<div>\n",
       "<style scoped>\n",
       "    .dataframe tbody tr th:only-of-type {\n",
       "        vertical-align: middle;\n",
       "    }\n",
       "\n",
       "    .dataframe tbody tr th {\n",
       "        vertical-align: top;\n",
       "    }\n",
       "\n",
       "    .dataframe thead th {\n",
       "        text-align: right;\n",
       "    }\n",
       "</style>\n",
       "<table border=\"1\" class=\"dataframe\">\n",
       "  <thead>\n",
       "    <tr style=\"text-align: right;\">\n",
       "      <th>Indicateur</th>\n",
       "      <th>Taux d'internautes</th>\n",
       "      <th>PIB/habitant</th>\n",
       "      <th>Croissance démographique</th>\n",
       "      <th>Population</th>\n",
       "      <th>Secondaire</th>\n",
       "      <th>Supérieur</th>\n",
       "    </tr>\n",
       "  </thead>\n",
       "  <tbody>\n",
       "    <tr>\n",
       "      <th>count</th>\n",
       "      <td>209.000000</td>\n",
       "      <td>195.000000</td>\n",
       "      <td>221.000000</td>\n",
       "      <td>2.210000e+02</td>\n",
       "      <td>2.040000e+02</td>\n",
       "      <td>2.020000e+02</td>\n",
       "    </tr>\n",
       "    <tr>\n",
       "      <th>mean</th>\n",
       "      <td>51.497758</td>\n",
       "      <td>18719.555811</td>\n",
       "      <td>1.304550</td>\n",
       "      <td>6.721639e+07</td>\n",
       "      <td>3.726306e+06</td>\n",
       "      <td>5.923788e+06</td>\n",
       "    </tr>\n",
       "    <tr>\n",
       "      <th>std</th>\n",
       "      <td>28.299782</td>\n",
       "      <td>20059.126188</td>\n",
       "      <td>1.136027</td>\n",
       "      <td>2.538911e+08</td>\n",
       "      <td>1.440484e+07</td>\n",
       "      <td>2.160544e+07</td>\n",
       "    </tr>\n",
       "    <tr>\n",
       "      <th>min</th>\n",
       "      <td>1.177119</td>\n",
       "      <td>647.880445</td>\n",
       "      <td>-1.797539</td>\n",
       "      <td>1.109700e+04</td>\n",
       "      <td>4.160000e+02</td>\n",
       "      <td>8.680000e+02</td>\n",
       "    </tr>\n",
       "    <tr>\n",
       "      <th>25%</th>\n",
       "      <td>25.506579</td>\n",
       "      <td>3804.310859</td>\n",
       "      <td>0.499962</td>\n",
       "      <td>9.423330e+05</td>\n",
       "      <td>7.671250e+04</td>\n",
       "      <td>1.510522e+05</td>\n",
       "    </tr>\n",
       "    <tr>\n",
       "      <th>50%</th>\n",
       "      <td>54.000000</td>\n",
       "      <td>12071.592377</td>\n",
       "      <td>1.163574</td>\n",
       "      <td>7.057412e+06</td>\n",
       "      <td>3.524605e+05</td>\n",
       "      <td>6.123205e+05</td>\n",
       "    </tr>\n",
       "    <tr>\n",
       "      <th>75%</th>\n",
       "      <td>76.176737</td>\n",
       "      <td>25859.932501</td>\n",
       "      <td>2.111220</td>\n",
       "      <td>2.820673e+07</td>\n",
       "      <td>1.520442e+06</td>\n",
       "      <td>2.602514e+06</td>\n",
       "    </tr>\n",
       "    <tr>\n",
       "      <th>max</th>\n",
       "      <td>98.240016</td>\n",
       "      <td>118207.134623</td>\n",
       "      <td>5.217721</td>\n",
       "      <td>2.296786e+09</td>\n",
       "      <td>1.333664e+08</td>\n",
       "      <td>1.765053e+08</td>\n",
       "    </tr>\n",
       "  </tbody>\n",
       "</table>\n",
       "</div>"
      ],
      "text/plain": [
       "Indicateur  Taux d'internautes   PIB/habitant  Croissance démographique  \\\n",
       "count               209.000000     195.000000                221.000000   \n",
       "mean                 51.497758   18719.555811                  1.304550   \n",
       "std                  28.299782   20059.126188                  1.136027   \n",
       "min                   1.177119     647.880445                 -1.797539   \n",
       "25%                  25.506579    3804.310859                  0.499962   \n",
       "50%                  54.000000   12071.592377                  1.163574   \n",
       "75%                  76.176737   25859.932501                  2.111220   \n",
       "max                  98.240016  118207.134623                  5.217721   \n",
       "\n",
       "Indicateur    Population    Secondaire     Supérieur  \n",
       "count       2.210000e+02  2.040000e+02  2.020000e+02  \n",
       "mean        6.721639e+07  3.726306e+06  5.923788e+06  \n",
       "std         2.538911e+08  1.440484e+07  2.160544e+07  \n",
       "min         1.109700e+04  4.160000e+02  8.680000e+02  \n",
       "25%         9.423330e+05  7.671250e+04  1.510522e+05  \n",
       "50%         7.057412e+06  3.524605e+05  6.123205e+05  \n",
       "75%         2.820673e+07  1.520442e+06  2.602514e+06  \n",
       "max         2.296786e+09  1.333664e+08  1.765053e+08  "
      ]
     },
     "execution_count": 54,
     "metadata": {},
     "output_type": "execute_result"
    }
   ],
   "source": [
    "edStatsData.describe()"
   ]
  },
  {
   "cell_type": "markdown",
   "metadata": {},
   "source": [
    "Le max de *Population* n'est pas surprenant puisque les continents sont présents."
   ]
  },
  {
   "cell_type": "markdown",
   "metadata": {},
   "source": [
    "A l'opposé, je veux supprimer les pays à faible population avec moins de 1M d'habitants et les 25% les moins aisés en terme de PIB/habitant.\n",
    "\n",
    "Je veille à conserver tous les continents."
   ]
  },
  {
   "cell_type": "code",
   "execution_count": 55,
   "metadata": {},
   "outputs": [],
   "source": [
    "edStatsData = edStatsData.loc[((edStatsData['Population'] > 1_000_000) & (edStatsData['PIB/habitant'] > 3804)) | \n",
    "                              (edStatsData['Type'] == 'Continent')]"
   ]
  },
  {
   "cell_type": "code",
   "execution_count": 56,
   "metadata": {},
   "outputs": [
    {
     "data": {
      "text/html": [
       "<div>\n",
       "<style scoped>\n",
       "    .dataframe tbody tr th:only-of-type {\n",
       "        vertical-align: middle;\n",
       "    }\n",
       "\n",
       "    .dataframe tbody tr th {\n",
       "        vertical-align: top;\n",
       "    }\n",
       "\n",
       "    .dataframe thead th {\n",
       "        text-align: right;\n",
       "    }\n",
       "</style>\n",
       "<table border=\"1\" class=\"dataframe\">\n",
       "  <thead>\n",
       "    <tr style=\"text-align: right;\">\n",
       "      <th>Indicateur</th>\n",
       "      <th>Taux d'internautes</th>\n",
       "      <th>PIB/habitant</th>\n",
       "      <th>Croissance démographique</th>\n",
       "      <th>Population</th>\n",
       "      <th>Secondaire</th>\n",
       "      <th>Supérieur</th>\n",
       "    </tr>\n",
       "  </thead>\n",
       "  <tbody>\n",
       "    <tr>\n",
       "      <th>count</th>\n",
       "      <td>119.000000</td>\n",
       "      <td>120.000000</td>\n",
       "      <td>120.000000</td>\n",
       "      <td>1.200000e+02</td>\n",
       "      <td>1.170000e+02</td>\n",
       "      <td>1.150000e+02</td>\n",
       "    </tr>\n",
       "    <tr>\n",
       "      <th>mean</th>\n",
       "      <td>60.557003</td>\n",
       "      <td>23596.161149</td>\n",
       "      <td>1.093352</td>\n",
       "      <td>1.150519e+08</td>\n",
       "      <td>5.913647e+06</td>\n",
       "      <td>9.578087e+06</td>\n",
       "    </tr>\n",
       "    <tr>\n",
       "      <th>std</th>\n",
       "      <td>23.339150</td>\n",
       "      <td>18909.943457</td>\n",
       "      <td>1.120073</td>\n",
       "      <td>3.371971e+08</td>\n",
       "      <td>1.869757e+07</td>\n",
       "      <td>2.807444e+07</td>\n",
       "    </tr>\n",
       "    <tr>\n",
       "      <th>min</th>\n",
       "      <td>8.121949</td>\n",
       "      <td>3453.431260</td>\n",
       "      <td>-1.797539</td>\n",
       "      <td>1.170125e+06</td>\n",
       "      <td>3.003600e+04</td>\n",
       "      <td>6.183900e+04</td>\n",
       "    </tr>\n",
       "    <tr>\n",
       "      <th>25%</th>\n",
       "      <td>45.980870</td>\n",
       "      <td>9721.948262</td>\n",
       "      <td>0.320491</td>\n",
       "      <td>4.752996e+06</td>\n",
       "      <td>1.812630e+05</td>\n",
       "      <td>3.481265e+05</td>\n",
       "    </tr>\n",
       "    <tr>\n",
       "      <th>50%</th>\n",
       "      <td>62.302193</td>\n",
       "      <td>16809.231882</td>\n",
       "      <td>1.117082</td>\n",
       "      <td>1.060521e+07</td>\n",
       "      <td>4.868010e+05</td>\n",
       "      <td>9.322650e+05</td>\n",
       "    </tr>\n",
       "    <tr>\n",
       "      <th>75%</th>\n",
       "      <td>78.577847</td>\n",
       "      <td>32850.436836</td>\n",
       "      <td>1.695287</td>\n",
       "      <td>4.930149e+07</td>\n",
       "      <td>2.244431e+06</td>\n",
       "      <td>3.792352e+06</td>\n",
       "    </tr>\n",
       "    <tr>\n",
       "      <th>max</th>\n",
       "      <td>97.999981</td>\n",
       "      <td>118207.134623</td>\n",
       "      <td>5.217721</td>\n",
       "      <td>2.296786e+09</td>\n",
       "      <td>1.333664e+08</td>\n",
       "      <td>1.765053e+08</td>\n",
       "    </tr>\n",
       "  </tbody>\n",
       "</table>\n",
       "</div>"
      ],
      "text/plain": [
       "Indicateur  Taux d'internautes   PIB/habitant  Croissance démographique  \\\n",
       "count               119.000000     120.000000                120.000000   \n",
       "mean                 60.557003   23596.161149                  1.093352   \n",
       "std                  23.339150   18909.943457                  1.120073   \n",
       "min                   8.121949    3453.431260                 -1.797539   \n",
       "25%                  45.980870    9721.948262                  0.320491   \n",
       "50%                  62.302193   16809.231882                  1.117082   \n",
       "75%                  78.577847   32850.436836                  1.695287   \n",
       "max                  97.999981  118207.134623                  5.217721   \n",
       "\n",
       "Indicateur    Population    Secondaire     Supérieur  \n",
       "count       1.200000e+02  1.170000e+02  1.150000e+02  \n",
       "mean        1.150519e+08  5.913647e+06  9.578087e+06  \n",
       "std         3.371971e+08  1.869757e+07  2.807444e+07  \n",
       "min         1.170125e+06  3.003600e+04  6.183900e+04  \n",
       "25%         4.752996e+06  1.812630e+05  3.481265e+05  \n",
       "50%         1.060521e+07  4.868010e+05  9.322650e+05  \n",
       "75%         4.930149e+07  2.244431e+06  3.792352e+06  \n",
       "max         2.296786e+09  1.333664e+08  1.765053e+08  "
      ]
     },
     "execution_count": 56,
     "metadata": {},
     "output_type": "execute_result"
    }
   ],
   "source": [
    "edStatsData.describe()"
   ]
  },
  {
   "cell_type": "markdown",
   "metadata": {},
   "source": [
    "Je vérifie le taux de remplissage."
   ]
  },
  {
   "cell_type": "code",
   "execution_count": 57,
   "metadata": {},
   "outputs": [
    {
     "data": {
      "text/plain": [
       "Indicateur\n",
       "Code_Pays                   0.000000\n",
       "Pays                        0.000000\n",
       "PIB/habitant                0.000000\n",
       "Croissance démographique    0.000000\n",
       "Population                  0.000000\n",
       "Type                        0.000000\n",
       "Taux d'internautes          0.008333\n",
       "Secondaire                  0.025000\n",
       "Supérieur                   0.041667\n",
       "dtype: float64"
      ]
     },
     "execution_count": 57,
     "metadata": {},
     "output_type": "execute_result"
    }
   ],
   "source": [
    "edStatsData.isna().mean().sort_values()"
   ]
  },
  {
   "cell_type": "markdown",
   "metadata": {},
   "source": [
    "A environ 4% au pire, il est assez satisfaisant.\n",
    "\n",
    "Je regarde de plus près les pays concernés."
   ]
  },
  {
   "cell_type": "code",
   "execution_count": 58,
   "metadata": {},
   "outputs": [
    {
     "data": {
      "text/html": [
       "<div>\n",
       "<style scoped>\n",
       "    .dataframe tbody tr th:only-of-type {\n",
       "        vertical-align: middle;\n",
       "    }\n",
       "\n",
       "    .dataframe tbody tr th {\n",
       "        vertical-align: top;\n",
       "    }\n",
       "\n",
       "    .dataframe thead th {\n",
       "        text-align: right;\n",
       "    }\n",
       "</style>\n",
       "<table border=\"1\" class=\"dataframe\">\n",
       "  <thead>\n",
       "    <tr style=\"text-align: right;\">\n",
       "      <th>Indicateur</th>\n",
       "      <th>Code_Pays</th>\n",
       "      <th>Pays</th>\n",
       "      <th>Taux d'internautes</th>\n",
       "      <th>PIB/habitant</th>\n",
       "      <th>Croissance démographique</th>\n",
       "      <th>Population</th>\n",
       "      <th>Secondaire</th>\n",
       "      <th>Supérieur</th>\n",
       "      <th>Type</th>\n",
       "    </tr>\n",
       "  </thead>\n",
       "  <tbody>\n",
       "    <tr>\n",
       "      <th>6</th>\n",
       "      <td>ARE</td>\n",
       "      <td>United Arab Emirates</td>\n",
       "      <td>90.600007</td>\n",
       "      <td>67133.065519</td>\n",
       "      <td>1.251759</td>\n",
       "      <td>9269612.0</td>\n",
       "      <td>244592.0</td>\n",
       "      <td>NaN</td>\n",
       "      <td>Pays</td>\n",
       "    </tr>\n",
       "    <tr>\n",
       "      <th>22</th>\n",
       "      <td>BIH</td>\n",
       "      <td>Bosnia and Herzegovina</td>\n",
       "      <td>69.331006</td>\n",
       "      <td>11327.412182</td>\n",
       "      <td>-0.542908</td>\n",
       "      <td>3516816.0</td>\n",
       "      <td>NaN</td>\n",
       "      <td>NaN</td>\n",
       "      <td>Pays</td>\n",
       "    </tr>\n",
       "    <tr>\n",
       "      <th>169</th>\n",
       "      <td>OMN</td>\n",
       "      <td>Oman</td>\n",
       "      <td>69.815213</td>\n",
       "      <td>40138.951725</td>\n",
       "      <td>5.217721</td>\n",
       "      <td>4424762.0</td>\n",
       "      <td>142845.0</td>\n",
       "      <td>NaN</td>\n",
       "      <td>Pays</td>\n",
       "    </tr>\n",
       "    <tr>\n",
       "      <th>191</th>\n",
       "      <td>SGP</td>\n",
       "      <td>Singapore</td>\n",
       "      <td>81.000000</td>\n",
       "      <td>81443.356456</td>\n",
       "      <td>1.297436</td>\n",
       "      <td>5607283.0</td>\n",
       "      <td>NaN</td>\n",
       "      <td>NaN</td>\n",
       "      <td>Pays</td>\n",
       "    </tr>\n",
       "    <tr>\n",
       "      <th>237</th>\n",
       "      <td>XKX</td>\n",
       "      <td>Kosovo</td>\n",
       "      <td>NaN</td>\n",
       "      <td>9331.687718</td>\n",
       "      <td>0.796024</td>\n",
       "      <td>1816200.0</td>\n",
       "      <td>NaN</td>\n",
       "      <td>NaN</td>\n",
       "      <td>Pays</td>\n",
       "    </tr>\n",
       "  </tbody>\n",
       "</table>\n",
       "</div>"
      ],
      "text/plain": [
       "Indicateur Code_Pays                    Pays  Taux d'internautes  \\\n",
       "6                ARE    United Arab Emirates           90.600007   \n",
       "22               BIH  Bosnia and Herzegovina           69.331006   \n",
       "169              OMN                    Oman           69.815213   \n",
       "191              SGP               Singapore           81.000000   \n",
       "237              XKX                  Kosovo                 NaN   \n",
       "\n",
       "Indicateur  PIB/habitant  Croissance démographique  Population  Secondaire  \\\n",
       "6           67133.065519                  1.251759   9269612.0    244592.0   \n",
       "22          11327.412182                 -0.542908   3516816.0         NaN   \n",
       "169         40138.951725                  5.217721   4424762.0    142845.0   \n",
       "191         81443.356456                  1.297436   5607283.0         NaN   \n",
       "237          9331.687718                  0.796024   1816200.0         NaN   \n",
       "\n",
       "Indicateur  Supérieur  Type  \n",
       "6                 NaN  Pays  \n",
       "22                NaN  Pays  \n",
       "169               NaN  Pays  \n",
       "191               NaN  Pays  \n",
       "237               NaN  Pays  "
      ]
     },
     "execution_count": 58,
     "metadata": {},
     "output_type": "execute_result"
    }
   ],
   "source": [
    "edStatsData.loc[(edStatsData[\"Taux d'internautes\"].isna()) | (edStatsData['Secondaire'].isna()) | \n",
    "                (edStatsData['Supérieur'].isna())]"
   ]
  },
  {
   "cell_type": "markdown",
   "metadata": {},
   "source": [
    "Le Kosovo est à seulement 50% de remplissage, appartient aux quartiles les plus faibles en termes de PIB/habitant et d'habitants.\n",
    "\n",
    "Je peux le supprimer de la liste."
   ]
  },
  {
   "cell_type": "code",
   "execution_count": 59,
   "metadata": {},
   "outputs": [],
   "source": [
    "edStatsData = edStatsData[edStatsData['Pays'] != 'Kosovo']"
   ]
  },
  {
   "cell_type": "markdown",
   "metadata": {},
   "source": [
    "Pour les 4 autres pays restants, il manque la cible pour le deuxième cycle du secondaire et/ou la cible du supérieur.\n",
    "\n",
    "Il serait intéressant de vérifier s'il n'existe pas une corrélation entre la **Population** d'un pays et les échantillons correspondants à la cible *secondaire*, à la cible *supérieur*, voire à la somme des 2 qui est notre **cible globale**.\n",
    "___\n",
    "Je calcule d'abord cette somme qui s'appellera **Cible**."
   ]
  },
  {
   "cell_type": "code",
   "execution_count": 60,
   "metadata": {},
   "outputs": [
    {
     "data": {
      "text/html": [
       "<div>\n",
       "<style scoped>\n",
       "    .dataframe tbody tr th:only-of-type {\n",
       "        vertical-align: middle;\n",
       "    }\n",
       "\n",
       "    .dataframe tbody tr th {\n",
       "        vertical-align: top;\n",
       "    }\n",
       "\n",
       "    .dataframe thead th {\n",
       "        text-align: right;\n",
       "    }\n",
       "</style>\n",
       "<table border=\"1\" class=\"dataframe\">\n",
       "  <thead>\n",
       "    <tr style=\"text-align: right;\">\n",
       "      <th>Indicateur</th>\n",
       "      <th>Code_Pays</th>\n",
       "      <th>Pays</th>\n",
       "      <th>Taux d'internautes</th>\n",
       "      <th>PIB/habitant</th>\n",
       "      <th>Croissance démographique</th>\n",
       "      <th>Population</th>\n",
       "      <th>Secondaire</th>\n",
       "      <th>Supérieur</th>\n",
       "      <th>Type</th>\n",
       "      <th>Cible</th>\n",
       "    </tr>\n",
       "  </thead>\n",
       "  <tbody>\n",
       "    <tr>\n",
       "      <th>2</th>\n",
       "      <td>AGO</td>\n",
       "      <td>Angola</td>\n",
       "      <td>13.0</td>\n",
       "      <td>5984.640422</td>\n",
       "      <td>3.367572</td>\n",
       "      <td>28813463.0</td>\n",
       "      <td>1736603.0</td>\n",
       "      <td>2374694.0</td>\n",
       "      <td>Pays</td>\n",
       "      <td>4111297.0</td>\n",
       "    </tr>\n",
       "  </tbody>\n",
       "</table>\n",
       "</div>"
      ],
      "text/plain": [
       "Indicateur Code_Pays    Pays  Taux d'internautes  PIB/habitant  \\\n",
       "2                AGO  Angola                13.0   5984.640422   \n",
       "\n",
       "Indicateur  Croissance démographique  Population  Secondaire  Supérieur  Type  \\\n",
       "2                           3.367572  28813463.0   1736603.0  2374694.0  Pays   \n",
       "\n",
       "Indicateur      Cible  \n",
       "2           4111297.0  "
      ]
     },
     "execution_count": 60,
     "metadata": {},
     "output_type": "execute_result"
    }
   ],
   "source": [
    "edStatsData['Cible'] = edStatsData['Secondaire'] + edStatsData['Supérieur']\n",
    "edStatsData.head(1)"
   ]
  },
  {
   "cell_type": "markdown",
   "metadata": {},
   "source": [
    "J'observe visuellement la distribution des cibles par rappport à la *population*, en faisant attention à écarter les continents, avec un dataframe *mask*."
   ]
  },
  {
   "cell_type": "code",
   "execution_count": 61,
   "metadata": {},
   "outputs": [
    {
     "data": {
      "image/png": "[encoded data removed]",
      "text/plain": [
       "<Figure size 1000x600 with 1 Axes>"
      ]
     },
     "metadata": {},
     "output_type": "display_data"
    }
   ],
   "source": [
    "plt.figure(figsize=(10,6))\n",
    "plt.rcParams.update({'font.size': 14})\n",
    "sns.set_theme(style='whitegrid', palette='pastel')\n",
    "df_pays = edStatsData.loc[edStatsData['Type'] == 'Pays']\n",
    "cibles = ['Cible', 'Supérieur', 'Secondaire']\n",
    "for c in cibles:\n",
    "    sns.scatterplot(data=df_pays, x='Population', y=c, label=c)\n",
    "\n",
    "plt.ylabel(\"Cibles\")\n",
    "plt.title(\"Populations cibles en fonction de la Population (nombre)\")\n",
    "plt.legend(loc='upper left')\n",
    "plt.grid()\n",
    "plt.show()"
   ]
  },
  {
   "cell_type": "markdown",
   "metadata": {},
   "source": [
    "Je zoome en sortant du cadre les 2 plus gros pays, qui sont probablement la Chine et l'Inde."
   ]
  },
  {
   "cell_type": "code",
   "execution_count": 62,
   "metadata": {},
   "outputs": [
    {
     "data": {
      "image/png": "[encoded data removed]",
      "text/plain": [
       "<Figure size 1000x600 with 1 Axes>"
      ]
     },
     "metadata": {},
     "output_type": "display_data"
    }
   ],
   "source": [
    "plt.figure(figsize=(10,6))\n",
    "plt.rcParams.update({'font.size': 14})\n",
    "sns.set_theme(style='whitegrid', palette='pastel')\n",
    "\n",
    "cibles = ['Cible', 'Supérieur', 'Secondaire']\n",
    "for c in cibles:\n",
    "    sns.scatterplot(data=df_pays, x='Population', y=c, label=c)\n",
    "\n",
    "plt.ylabel(\"Cibles\")\n",
    "plt.xlim(-10_000_000, 340_000_000)\n",
    "plt.ylim(-1_000_000, 37_000_000)\n",
    "plt.title(\"Populations cibles en fonction de la Population (nombre)\")\n",
    "plt.legend(loc='upper left')\n",
    "plt.grid()\n",
    "plt.show()"
   ]
  },
  {
   "cell_type": "markdown",
   "metadata": {},
   "source": [
    "A première vue, une relation existerait entre la taille de la *Population* et celles des cibles.\n",
    "\n",
    "Pour confirmer, je calcule le **coefficient de régression de Pearson** en retirant provisoirement les pays incriminés, qui contiennent des NaN."
   ]
  },
  {
   "cell_type": "code",
   "execution_count": 63,
   "metadata": {},
   "outputs": [],
   "source": [
    "pays_hors_calcul = ['United Arab Emirates', 'Bosnia and Herzegovina', 'Oman', 'Singapore']\n",
    "df_clean = df_pays[~df_pays['Pays'].isin(pays_hors_calcul)]"
   ]
  },
  {
   "cell_type": "code",
   "execution_count": 64,
   "metadata": {},
   "outputs": [
    {
     "name": "stdout",
     "output_type": "stream",
     "text": [
      "Le coefficient de corrélation entre les variables *Population* et *Secondaire* est : 0.9251485887185674\n",
      "Le coefficient de corrélation entre les variables *Population* et *Supérieur* est : 0.9925684629778421\n",
      "Le coefficient de corrélation entre les variables *Population* et *Cible* est : 0.9738101522812724\n"
     ]
    }
   ],
   "source": [
    "r_pop_sec = st.pearsonr(df_clean[\"Population\"],df_clean[\"Secondaire\"])[0]\n",
    "print('Le coefficient de corrélation entre les variables *Population* et *Secondaire* est :', r_pop_sec)\n",
    "r_pop_sup = st.pearsonr(df_clean[\"Population\"],df_clean[\"Supérieur\"])[0]\n",
    "print('Le coefficient de corrélation entre les variables *Population* et *Supérieur* est :', r_pop_sup)\n",
    "r_pop_cible = st.pearsonr(df_clean[\"Population\"],df_clean[\"Cible\"])[0]\n",
    "print('Le coefficient de corrélation entre les variables *Population* et *Cible* est :', r_pop_cible)"
   ]
  },
  {
   "cell_type": "markdown",
   "metadata": {},
   "source": [
    "Les coefficients sont largement acceptables, proches de 1.\n",
    "\n",
    "La meilleure corrélation est obtenue via la cible *Supérieur*.\n",
    "\n",
    "Je chercherai donc cette valeur seule pour *United Arab Emirates* et *Oman* puisque la cible *Secondaire* est déjà renseignée.\n",
    "\n",
    "Ensuite, c'est directement la somme des 2 cibles - *Cible* - qui sera recherchée pour les 2 autres pays.\n",
    "___\n",
    "Je détermine la droite de régression entre *Population* et *Supérieur*."
   ]
  },
  {
   "cell_type": "code",
   "execution_count": 65,
   "metadata": {},
   "outputs": [],
   "source": [
    "Y = df_clean['Supérieur']\n",
    "X = df_clean[['Population']]\n",
    "X = X.copy()\n",
    "X['intercept'] = 1.\n",
    "result = sm.OLS(Y, X).fit()\n",
    "a,b = result.params['Population'],result.params['intercept']"
   ]
  },
  {
   "cell_type": "markdown",
   "metadata": {},
   "source": [
    "J'en déduis la valeur de *Supérieur* pour *United Arab Emirates* et *Oman* puis la somme avec la *Secondaire* pour obtenir la *Cible*."
   ]
  },
  {
   "cell_type": "code",
   "execution_count": 66,
   "metadata": {},
   "outputs": [],
   "source": [
    "edStatsData.loc[edStatsData['Pays'] == 'United Arab Emirates', 'Supérieur'] = round(a * (edStatsData.loc[edStatsData['Pays'] == 'United Arab Emirates', \n",
    "                                                                                    'Population']) + b,0)\n",
    "edStatsData.loc[edStatsData['Pays'] == 'Oman', 'Supérieur'] = round(a * (edStatsData.loc[edStatsData['Pays'] == 'Oman', \n",
    "                                                                                    'Population']) + b,0)\n",
    "edStatsData['Cible'] = edStatsData['Secondaire'] + edStatsData['Supérieur']"
   ]
  },
  {
   "cell_type": "code",
   "execution_count": 67,
   "metadata": {},
   "outputs": [
    {
     "data": {
      "text/html": [
       "<div>\n",
       "<style scoped>\n",
       "    .dataframe tbody tr th:only-of-type {\n",
       "        vertical-align: middle;\n",
       "    }\n",
       "\n",
       "    .dataframe tbody tr th {\n",
       "        vertical-align: top;\n",
       "    }\n",
       "\n",
       "    .dataframe thead th {\n",
       "        text-align: right;\n",
       "    }\n",
       "</style>\n",
       "<table border=\"1\" class=\"dataframe\">\n",
       "  <thead>\n",
       "    <tr style=\"text-align: right;\">\n",
       "      <th>Indicateur</th>\n",
       "      <th>Code_Pays</th>\n",
       "      <th>Pays</th>\n",
       "      <th>Taux d'internautes</th>\n",
       "      <th>PIB/habitant</th>\n",
       "      <th>Croissance démographique</th>\n",
       "      <th>Population</th>\n",
       "      <th>Secondaire</th>\n",
       "      <th>Supérieur</th>\n",
       "      <th>Type</th>\n",
       "      <th>Cible</th>\n",
       "    </tr>\n",
       "  </thead>\n",
       "  <tbody>\n",
       "    <tr>\n",
       "      <th>6</th>\n",
       "      <td>ARE</td>\n",
       "      <td>United Arab Emirates</td>\n",
       "      <td>90.600007</td>\n",
       "      <td>67133.065519</td>\n",
       "      <td>1.251759</td>\n",
       "      <td>9269612.0</td>\n",
       "      <td>244592.0</td>\n",
       "      <td>628745.0</td>\n",
       "      <td>Pays</td>\n",
       "      <td>873337.0</td>\n",
       "    </tr>\n",
       "    <tr>\n",
       "      <th>22</th>\n",
       "      <td>BIH</td>\n",
       "      <td>Bosnia and Herzegovina</td>\n",
       "      <td>69.331006</td>\n",
       "      <td>11327.412182</td>\n",
       "      <td>-0.542908</td>\n",
       "      <td>3516816.0</td>\n",
       "      <td>NaN</td>\n",
       "      <td>NaN</td>\n",
       "      <td>Pays</td>\n",
       "      <td>NaN</td>\n",
       "    </tr>\n",
       "    <tr>\n",
       "      <th>169</th>\n",
       "      <td>OMN</td>\n",
       "      <td>Oman</td>\n",
       "      <td>69.815213</td>\n",
       "      <td>40138.951725</td>\n",
       "      <td>5.217721</td>\n",
       "      <td>4424762.0</td>\n",
       "      <td>142845.0</td>\n",
       "      <td>237352.0</td>\n",
       "      <td>Pays</td>\n",
       "      <td>380197.0</td>\n",
       "    </tr>\n",
       "    <tr>\n",
       "      <th>191</th>\n",
       "      <td>SGP</td>\n",
       "      <td>Singapore</td>\n",
       "      <td>81.000000</td>\n",
       "      <td>81443.356456</td>\n",
       "      <td>1.297436</td>\n",
       "      <td>5607283.0</td>\n",
       "      <td>NaN</td>\n",
       "      <td>NaN</td>\n",
       "      <td>Pays</td>\n",
       "      <td>NaN</td>\n",
       "    </tr>\n",
       "  </tbody>\n",
       "</table>\n",
       "</div>"
      ],
      "text/plain": [
       "Indicateur Code_Pays                    Pays  Taux d'internautes  \\\n",
       "6                ARE    United Arab Emirates           90.600007   \n",
       "22               BIH  Bosnia and Herzegovina           69.331006   \n",
       "169              OMN                    Oman           69.815213   \n",
       "191              SGP               Singapore           81.000000   \n",
       "\n",
       "Indicateur  PIB/habitant  Croissance démographique  Population  Secondaire  \\\n",
       "6           67133.065519                  1.251759   9269612.0    244592.0   \n",
       "22          11327.412182                 -0.542908   3516816.0         NaN   \n",
       "169         40138.951725                  5.217721   4424762.0    142845.0   \n",
       "191         81443.356456                  1.297436   5607283.0         NaN   \n",
       "\n",
       "Indicateur  Supérieur  Type     Cible  \n",
       "6            628745.0  Pays  873337.0  \n",
       "22                NaN  Pays       NaN  \n",
       "169          237352.0  Pays  380197.0  \n",
       "191               NaN  Pays       NaN  "
      ]
     },
     "execution_count": 67,
     "metadata": {},
     "output_type": "execute_result"
    }
   ],
   "source": [
    "edStatsData.loc[edStatsData['Pays'].isin(pays_hors_calcul)]"
   ]
  },
  {
   "cell_type": "markdown",
   "metadata": {},
   "source": [
    "Je cherche maintenant la droite de régression entre *Population* et *Cible*."
   ]
  },
  {
   "cell_type": "code",
   "execution_count": 68,
   "metadata": {},
   "outputs": [],
   "source": [
    "Y = df_clean['Cible']\n",
    "X = df_clean[['Population']]\n",
    "X = X.copy()\n",
    "X['intercept'] = 1.\n",
    "result = sm.OLS(Y, X).fit()\n",
    "a,b = result.params['Population'],result.params['intercept']"
   ]
  },
  {
   "cell_type": "markdown",
   "metadata": {},
   "source": [
    "D'où les valeurs de *Cible* pour les 2 derniers pays manquants."
   ]
  },
  {
   "cell_type": "code",
   "execution_count": 69,
   "metadata": {},
   "outputs": [],
   "source": [
    "edStatsData.loc[edStatsData['Pays'] == 'Bosnia and Herzegovina', 'Cible'] = round(a * (edStatsData.loc[edStatsData['Pays'] == 'Bosnia and Herzegovina', \n",
    "                                                                               'Population']) + b,0)\n",
    "edStatsData.loc[edStatsData['Pays'] == 'Singapore', 'Cible'] = round(a * (edStatsData.loc[edStatsData['Pays'] == 'Singapore', \n",
    "                                                                               'Population']) + b,0)"
   ]
  },
  {
   "cell_type": "code",
   "execution_count": 70,
   "metadata": {},
   "outputs": [
    {
     "data": {
      "text/html": [
       "<div>\n",
       "<style scoped>\n",
       "    .dataframe tbody tr th:only-of-type {\n",
       "        vertical-align: middle;\n",
       "    }\n",
       "\n",
       "    .dataframe tbody tr th {\n",
       "        vertical-align: top;\n",
       "    }\n",
       "\n",
       "    .dataframe thead th {\n",
       "        text-align: right;\n",
       "    }\n",
       "</style>\n",
       "<table border=\"1\" class=\"dataframe\">\n",
       "  <thead>\n",
       "    <tr style=\"text-align: right;\">\n",
       "      <th>Indicateur</th>\n",
       "      <th>Code_Pays</th>\n",
       "      <th>Pays</th>\n",
       "      <th>Taux d'internautes</th>\n",
       "      <th>PIB/habitant</th>\n",
       "      <th>Croissance démographique</th>\n",
       "      <th>Population</th>\n",
       "      <th>Secondaire</th>\n",
       "      <th>Supérieur</th>\n",
       "      <th>Type</th>\n",
       "      <th>Cible</th>\n",
       "    </tr>\n",
       "  </thead>\n",
       "  <tbody>\n",
       "    <tr>\n",
       "      <th>6</th>\n",
       "      <td>ARE</td>\n",
       "      <td>United Arab Emirates</td>\n",
       "      <td>90.600007</td>\n",
       "      <td>67133.065519</td>\n",
       "      <td>1.251759</td>\n",
       "      <td>9269612.0</td>\n",
       "      <td>244592.0</td>\n",
       "      <td>628745.0</td>\n",
       "      <td>Pays</td>\n",
       "      <td>873337.0</td>\n",
       "    </tr>\n",
       "    <tr>\n",
       "      <th>22</th>\n",
       "      <td>BIH</td>\n",
       "      <td>Bosnia and Herzegovina</td>\n",
       "      <td>69.331006</td>\n",
       "      <td>11327.412182</td>\n",
       "      <td>-0.542908</td>\n",
       "      <td>3516816.0</td>\n",
       "      <td>NaN</td>\n",
       "      <td>NaN</td>\n",
       "      <td>Pays</td>\n",
       "      <td>131208.0</td>\n",
       "    </tr>\n",
       "    <tr>\n",
       "      <th>169</th>\n",
       "      <td>OMN</td>\n",
       "      <td>Oman</td>\n",
       "      <td>69.815213</td>\n",
       "      <td>40138.951725</td>\n",
       "      <td>5.217721</td>\n",
       "      <td>4424762.0</td>\n",
       "      <td>142845.0</td>\n",
       "      <td>237352.0</td>\n",
       "      <td>Pays</td>\n",
       "      <td>380197.0</td>\n",
       "    </tr>\n",
       "    <tr>\n",
       "      <th>191</th>\n",
       "      <td>SGP</td>\n",
       "      <td>Singapore</td>\n",
       "      <td>81.000000</td>\n",
       "      <td>81443.356456</td>\n",
       "      <td>1.297436</td>\n",
       "      <td>5607283.0</td>\n",
       "      <td>NaN</td>\n",
       "      <td>NaN</td>\n",
       "      <td>Pays</td>\n",
       "      <td>410253.0</td>\n",
       "    </tr>\n",
       "  </tbody>\n",
       "</table>\n",
       "</div>"
      ],
      "text/plain": [
       "Indicateur Code_Pays                    Pays  Taux d'internautes  \\\n",
       "6                ARE    United Arab Emirates           90.600007   \n",
       "22               BIH  Bosnia and Herzegovina           69.331006   \n",
       "169              OMN                    Oman           69.815213   \n",
       "191              SGP               Singapore           81.000000   \n",
       "\n",
       "Indicateur  PIB/habitant  Croissance démographique  Population  Secondaire  \\\n",
       "6           67133.065519                  1.251759   9269612.0    244592.0   \n",
       "22          11327.412182                 -0.542908   3516816.0         NaN   \n",
       "169         40138.951725                  5.217721   4424762.0    142845.0   \n",
       "191         81443.356456                  1.297436   5607283.0         NaN   \n",
       "\n",
       "Indicateur  Supérieur  Type     Cible  \n",
       "6            628745.0  Pays  873337.0  \n",
       "22                NaN  Pays  131208.0  \n",
       "169          237352.0  Pays  380197.0  \n",
       "191               NaN  Pays  410253.0  "
      ]
     },
     "execution_count": 70,
     "metadata": {},
     "output_type": "execute_result"
    }
   ],
   "source": [
    "edStatsData.loc[edStatsData['Pays'].isin(pays_hors_calcul)]"
   ]
  },
  {
   "cell_type": "markdown",
   "metadata": {},
   "source": [
    "Je peux tracer la droite de régression linéaire entre la *Population* et la *cible* complète."
   ]
  },
  {
   "cell_type": "code",
   "execution_count": 71,
   "metadata": {},
   "outputs": [
    {
     "data": {
      "image/png": "[encoded data removed]",
      "text/plain": [
       "<Figure size 1000x600 with 1 Axes>"
      ]
     },
     "metadata": {},
     "output_type": "display_data"
    }
   ],
   "source": [
    "plt.figure(figsize=(10,6))\n",
    "plt.rcParams.update({'font.size': 14})\n",
    "sns.set_theme(style='whitegrid', palette='pastel')\n",
    "\n",
    "cibles = ['Cible', 'Supérieur', 'Secondaire']\n",
    "for c in cibles:\n",
    "    sns.scatterplot(data=edStatsData, x='Population', y=c, label=c)\n",
    "plt.plot(np.arange(0, 350_000_001, 175_000_000),[a*x+b for x in np.arange(0, 350_000_001, 175_000_000)], label=\"Droite régression linéaire\\nsur Cible\")\n",
    "plt.ylabel(\"Cibles\")\n",
    "plt.xlim(-10_000_000, 340_000_000)\n",
    "plt.ylim(-1_000_000, 37_000_000)\n",
    "plt.title(\"Populations cibles en fonction de la Population (nombre)\")\n",
    "plt.legend(loc='upper left')\n",
    "# Calcul du coefficient de détermination\n",
    "r2 = round(r_pop_cible**2, 2)\n",
    "plt.text(1.5e8, 2.4e7, 'R² = '+str(r2))\n",
    "plt.grid()\n",
    "plt.show()"
   ]
  },
  {
   "cell_type": "markdown",
   "metadata": {},
   "source": [
    "Je vérifie le taux de remplissage."
   ]
  },
  {
   "cell_type": "code",
   "execution_count": 72,
   "metadata": {},
   "outputs": [
    {
     "data": {
      "text/plain": [
       "Indicateur\n",
       "Code_Pays                   0.000000\n",
       "Pays                        0.000000\n",
       "Taux d'internautes          0.000000\n",
       "PIB/habitant                0.000000\n",
       "Croissance démographique    0.000000\n",
       "Population                  0.000000\n",
       "Type                        0.000000\n",
       "Cible                       0.000000\n",
       "Secondaire                  0.016807\n",
       "Supérieur                   0.016807\n",
       "dtype: float64"
      ]
     },
     "execution_count": 72,
     "metadata": {},
     "output_type": "execute_result"
    }
   ],
   "source": [
    "edStatsData.isna().mean().sort_values()"
   ]
  },
  {
   "cell_type": "markdown",
   "metadata": {},
   "source": [
    "Toutes les variables qui m'intéressent sont complètes.\n",
    "___\n",
    "Je peux supprimer les colonnes *Population*, *Secondaire* et *Supérieur* devenues désormais inutiles puisque je possède la population cible totale des habitants susceptibles d'être dans le deuxième cycle du secondaire ou dans le supérieur, soit la **cible** d'*Academy*."
   ]
  },
  {
   "cell_type": "code",
   "execution_count": 73,
   "metadata": {
    "scrolled": true
   },
   "outputs": [
    {
     "data": {
      "text/html": [
       "<div>\n",
       "<style scoped>\n",
       "    .dataframe tbody tr th:only-of-type {\n",
       "        vertical-align: middle;\n",
       "    }\n",
       "\n",
       "    .dataframe tbody tr th {\n",
       "        vertical-align: top;\n",
       "    }\n",
       "\n",
       "    .dataframe thead th {\n",
       "        text-align: right;\n",
       "    }\n",
       "</style>\n",
       "<table border=\"1\" class=\"dataframe\">\n",
       "  <thead>\n",
       "    <tr style=\"text-align: right;\">\n",
       "      <th>Indicateur</th>\n",
       "      <th>Code_Pays</th>\n",
       "      <th>Pays</th>\n",
       "      <th>Taux d'internautes</th>\n",
       "      <th>PIB/habitant</th>\n",
       "      <th>Croissance démographique</th>\n",
       "      <th>Type</th>\n",
       "      <th>Cible</th>\n",
       "    </tr>\n",
       "  </thead>\n",
       "  <tbody>\n",
       "    <tr>\n",
       "      <th>2</th>\n",
       "      <td>AGO</td>\n",
       "      <td>Angola</td>\n",
       "      <td>13.0</td>\n",
       "      <td>5984.640422</td>\n",
       "      <td>3.367572</td>\n",
       "      <td>Pays</td>\n",
       "      <td>4111297.0</td>\n",
       "    </tr>\n",
       "  </tbody>\n",
       "</table>\n",
       "</div>"
      ],
      "text/plain": [
       "Indicateur Code_Pays    Pays  Taux d'internautes  PIB/habitant  \\\n",
       "2                AGO  Angola                13.0   5984.640422   \n",
       "\n",
       "Indicateur  Croissance démographique  Type      Cible  \n",
       "2                           3.367572  Pays  4111297.0  "
      ]
     },
     "execution_count": 73,
     "metadata": {},
     "output_type": "execute_result"
    }
   ],
   "source": [
    "edStatsData = edStatsData.drop(columns=['Population', 'Secondaire', 'Supérieur'])\n",
    "edStatsData.head(1)"
   ]
  },
  {
   "cell_type": "code",
   "execution_count": 74,
   "metadata": {
    "scrolled": false
   },
   "outputs": [
    {
     "name": "stdout",
     "output_type": "stream",
     "text": [
      "--------------------\n",
      "Statistiques de répartition des Pays selon Taux d'internautes\n",
      "Moyenne : 61.17 \n",
      "Médiane : 66.02 \n",
      "Ecart-type : 23.28\n",
      "--------------------\n",
      "Statistiques de répartition des Continent selon Taux d'internautes\n",
      "Moyenne : 50.67 \n",
      "Médiane : 52.8 \n",
      "Ecart-type : 20.13\n"
     ]
    },
    {
     "data": {
      "image/png": "[encoded data removed]",
      "text/plain": [
       "<Figure size 640x480 with 1 Axes>"
      ]
     },
     "metadata": {},
     "output_type": "display_data"
    },
    {
     "name": "stdout",
     "output_type": "stream",
     "text": [
      "--------------------\n",
      "Statistiques de répartition des Pays selon PIB/habitant\n",
      "Moyenne : 23959.71 \n",
      "Médiane : 17313.44 \n",
      "Ecart-type : 19033.05\n",
      "--------------------\n",
      "Statistiques de répartition des Continent selon PIB/habitant\n",
      "Moyenne : 19817.22 \n",
      "Médiane : 15786.8 \n",
      "Ecart-type : 15407.41\n"
     ]
    },
    {
     "data": {
      "image/png": "[encoded data removed]",
      "text/plain": [
       "<Figure size 640x480 with 1 Axes>"
      ]
     },
     "metadata": {},
     "output_type": "display_data"
    },
    {
     "name": "stdout",
     "output_type": "stream",
     "text": [
      "--------------------\n",
      "Statistiques de répartition des Pays selon Croissance démographique\n",
      "Moyenne : 1.09 \n",
      "Médiane : 1.13 \n",
      "Ecart-type : 1.14\n",
      "--------------------\n",
      "Statistiques de répartition des Continent selon Croissance démographique\n",
      "Moyenne : 1.26 \n",
      "Médiane : 1.05 \n",
      "Ecart-type : 0.73\n"
     ]
    },
    {
     "data": {
      "image/png": "[encoded data removed]",
      "text/plain": [
       "<Figure size 640x480 with 1 Axes>"
      ]
     },
     "metadata": {},
     "output_type": "display_data"
    },
    {
     "name": "stdout",
     "output_type": "stream",
     "text": [
      "--------------------\n",
      "Statistiques de répartition des Pays selon Cible\n",
      "Moyenne : 7245411.43 \n",
      "Médiane : 1074434.5 \n",
      "Ecart-type : 25035058.68\n",
      "--------------------\n",
      "Statistiques de répartition des Continent selon Cible\n",
      "Moyenne : 140471177.43 \n",
      "Médiane : 90736428.0 \n",
      "Ecart-type : 93171811.29\n"
     ]
    },
    {
     "data": {
      "image/png": "[encoded data removed]",
      "text/plain": [
       "<Figure size 640x480 with 1 Axes>"
      ]
     },
     "metadata": {},
     "output_type": "display_data"
    }
   ],
   "source": [
    "indicateurs = [\"Taux d'internautes\", 'PIB/habitant', 'Croissance démographique', 'Cible']\n",
    "type = ['Pays', 'Continent']\n",
    "plt.rcParams.update({'font.size': 14})\n",
    "sns.set_theme(style='whitegrid', palette='pastel')\n",
    "for i in indicateurs:  \n",
    "    for t in type:\n",
    "        print(\"-\"*20)\n",
    "        print(\"Statistiques de répartition des\", t, \"selon\",i)\n",
    "        print(\"Moyenne :\", round(edStatsData.loc[edStatsData['Type'] == t, i].mean(),2),\"\\nMédiane :\", \n",
    "              round(edStatsData.loc[edStatsData['Type'] == t, i].median(),2),\"\\nEcart-type :\", \n",
    "              round(edStatsData.loc[edStatsData['Type'] == t, i].std(ddof=0),2))\n",
    "    sns.kdeplot(data=edStatsData, x=i, hue='Type')\n",
    "    plt.ylabel(\"Densité\")\n",
    "    plt.show()\n",
    "# Je garde pour les statistiques.\n",
    "# Les graphes eux-mêmes ne sont pas très intéressants,\n",
    "# surtout le regroupement des pays et continents lesquels se retrouvent très \"écrasés\".\n",
    "# Le choix des graphes n'est pas pertinent avec un démarrage de courbe en valeurs négatives ce qui peut être perturbant !"
   ]
  },
  {
   "cell_type": "markdown",
   "metadata": {},
   "source": [
    "# Analyse des données"
   ]
  },
  {
   "cell_type": "markdown",
   "metadata": {},
   "source": [
    "Création des scores en prenant garde à différencier les pays des continents."
   ]
  },
  {
   "cell_type": "code",
   "execution_count": 75,
   "metadata": {},
   "outputs": [],
   "source": [
    "edStatsData.loc[edStatsData['Type'] == 'Pays', 'SCORE_INTERNET'] = edStatsData[\"Taux d'internautes\"] / edStatsData.loc[edStatsData['Type'] == 'Pays'][\"Taux d'internautes\"].max()\n",
    "edStatsData.loc[edStatsData['Type'] == 'Pays', 'SCORE_PIB'] = edStatsData['PIB/habitant'] / edStatsData.loc[edStatsData['Type'] == 'Pays']['PIB/habitant'].max()\n",
    "edStatsData.loc[edStatsData['Type'] == 'Pays', 'SCORE_POP'] = edStatsData['Cible'] / edStatsData.loc[edStatsData['Type'] == 'Pays']['Cible'].max()\n",
    "edStatsData.loc[edStatsData['Type'] == 'Continent', 'SCORE_INTERNET'] = edStatsData[\"Taux d'internautes\"] / edStatsData.loc[edStatsData['Type'] == 'Continent'][\"Taux d'internautes\"].max()\n",
    "edStatsData.loc[edStatsData['Type'] == 'Continent', 'SCORE_PIB'] = edStatsData['PIB/habitant'] / edStatsData.loc[edStatsData['Type'] == 'Continent']['PIB/habitant'].max()\n",
    "edStatsData.loc[edStatsData['Type'] == 'Continent', 'SCORE_POP'] = edStatsData['Cible'] / edStatsData.loc[edStatsData['Type'] == 'Continent']['Cible'].max()"
   ]
  },
  {
   "cell_type": "code",
   "execution_count": 76,
   "metadata": {},
   "outputs": [
    {
     "data": {
      "text/html": [
       "<div>\n",
       "<style scoped>\n",
       "    .dataframe tbody tr th:only-of-type {\n",
       "        vertical-align: middle;\n",
       "    }\n",
       "\n",
       "    .dataframe tbody tr th {\n",
       "        vertical-align: top;\n",
       "    }\n",
       "\n",
       "    .dataframe thead th {\n",
       "        text-align: right;\n",
       "    }\n",
       "</style>\n",
       "<table border=\"1\" class=\"dataframe\">\n",
       "  <thead>\n",
       "    <tr style=\"text-align: right;\">\n",
       "      <th>Indicateur</th>\n",
       "      <th>Code_Pays</th>\n",
       "      <th>Pays</th>\n",
       "      <th>Taux d'internautes</th>\n",
       "      <th>PIB/habitant</th>\n",
       "      <th>Croissance démographique</th>\n",
       "      <th>Type</th>\n",
       "      <th>Cible</th>\n",
       "      <th>SCORE_INTERNET</th>\n",
       "      <th>SCORE_PIB</th>\n",
       "      <th>SCORE_POP</th>\n",
       "    </tr>\n",
       "  </thead>\n",
       "  <tbody>\n",
       "    <tr>\n",
       "      <th>2</th>\n",
       "      <td>AGO</td>\n",
       "      <td>Angola</td>\n",
       "      <td>13.0</td>\n",
       "      <td>5984.640422</td>\n",
       "      <td>3.367572</td>\n",
       "      <td>Pays</td>\n",
       "      <td>4111297.0</td>\n",
       "      <td>0.132653</td>\n",
       "      <td>0.050628</td>\n",
       "      <td>0.018802</td>\n",
       "    </tr>\n",
       "  </tbody>\n",
       "</table>\n",
       "</div>"
      ],
      "text/plain": [
       "Indicateur Code_Pays    Pays  Taux d'internautes  PIB/habitant  \\\n",
       "2                AGO  Angola                13.0   5984.640422   \n",
       "\n",
       "Indicateur  Croissance démographique  Type      Cible  SCORE_INTERNET  \\\n",
       "2                           3.367572  Pays  4111297.0        0.132653   \n",
       "\n",
       "Indicateur  SCORE_PIB  SCORE_POP  \n",
       "2            0.050628   0.018802  "
      ]
     },
     "execution_count": 76,
     "metadata": {},
     "output_type": "execute_result"
    }
   ],
   "source": [
    "edStatsData.head(1)"
   ]
  },
  {
   "cell_type": "markdown",
   "metadata": {},
   "source": [
    "Je souhaite identifier les pays et les régions avec un fort potentiel de développement pour *academy*.\n",
    "\n",
    "Voici la liste des critères recherchés :\n",
    "- Nombre important d'habitants susceptibles d'être au lycée ou à l'université\n",
    "- Création de richesse par habitant, corollaire d'un pouvoir d'achat renforcé\n",
    "- Développement d'internet, nécessaire à l'usage des formations en ligne d'*academy*\n",
    "\n",
    "J'utilise les scores calculés précédemment pour construire un nouvel indicateur **SCORE_SYNT** synthétisant ces propriétés.\n",
    "\n"
   ]
  },
  {
   "cell_type": "code",
   "execution_count": 77,
   "metadata": {},
   "outputs": [
    {
     "data": {
      "text/html": [
       "<div>\n",
       "<style scoped>\n",
       "    .dataframe tbody tr th:only-of-type {\n",
       "        vertical-align: middle;\n",
       "    }\n",
       "\n",
       "    .dataframe tbody tr th {\n",
       "        vertical-align: top;\n",
       "    }\n",
       "\n",
       "    .dataframe thead th {\n",
       "        text-align: right;\n",
       "    }\n",
       "</style>\n",
       "<table border=\"1\" class=\"dataframe\">\n",
       "  <thead>\n",
       "    <tr style=\"text-align: right;\">\n",
       "      <th>Indicateur</th>\n",
       "      <th>Code_Pays</th>\n",
       "      <th>Pays</th>\n",
       "      <th>Taux d'internautes</th>\n",
       "      <th>PIB/habitant</th>\n",
       "      <th>Croissance démographique</th>\n",
       "      <th>Type</th>\n",
       "      <th>Cible</th>\n",
       "      <th>SCORE_INTERNET</th>\n",
       "      <th>SCORE_PIB</th>\n",
       "      <th>SCORE_POP</th>\n",
       "      <th>SCORE_SYNT</th>\n",
       "    </tr>\n",
       "  </thead>\n",
       "  <tbody>\n",
       "    <tr>\n",
       "      <th>2</th>\n",
       "      <td>AGO</td>\n",
       "      <td>Angola</td>\n",
       "      <td>13.0</td>\n",
       "      <td>5984.640422</td>\n",
       "      <td>3.367572</td>\n",
       "      <td>Pays</td>\n",
       "      <td>4111297.0</td>\n",
       "      <td>0.132653</td>\n",
       "      <td>0.050628</td>\n",
       "      <td>0.018802</td>\n",
       "      <td>0.067361</td>\n",
       "    </tr>\n",
       "  </tbody>\n",
       "</table>\n",
       "</div>"
      ],
      "text/plain": [
       "Indicateur Code_Pays    Pays  Taux d'internautes  PIB/habitant  \\\n",
       "2                AGO  Angola                13.0   5984.640422   \n",
       "\n",
       "Indicateur  Croissance démographique  Type      Cible  SCORE_INTERNET  \\\n",
       "2                           3.367572  Pays  4111297.0        0.132653   \n",
       "\n",
       "Indicateur  SCORE_PIB  SCORE_POP  SCORE_SYNT  \n",
       "2            0.050628   0.018802    0.067361  "
      ]
     },
     "execution_count": 77,
     "metadata": {},
     "output_type": "execute_result"
    }
   ],
   "source": [
    "edStatsData['SCORE_SYNT'] = (edStatsData['SCORE_INTERNET'] + edStatsData['SCORE_PIB'] + edStatsData['SCORE_POP']) / 3\n",
    "edStatsData.head(1)"
   ]
  },
  {
   "cell_type": "code",
   "execution_count": 78,
   "metadata": {},
   "outputs": [
    {
     "data": {
      "text/plain": [
       "count    119.000000\n",
       "mean       0.299443\n",
       "std        0.134330\n",
       "min        0.043591\n",
       "25%        0.199104\n",
       "50%        0.283659\n",
       "75%        0.404438\n",
       "max        0.710879\n",
       "Name: SCORE_SYNT, dtype: float64"
      ]
     },
     "execution_count": 78,
     "metadata": {},
     "output_type": "execute_result"
    }
   ],
   "source": [
    "edStatsData['SCORE_SYNT'].describe()"
   ]
  },
  {
   "cell_type": "markdown",
   "metadata": {},
   "source": [
    "Voici le classement des continents par ordre décroissant d'intérêt pour *academy* :"
   ]
  },
  {
   "cell_type": "code",
   "execution_count": 79,
   "metadata": {
    "scrolled": false
   },
   "outputs": [
    {
     "data": {
      "text/html": [
       "<div>\n",
       "<style scoped>\n",
       "    .dataframe tbody tr th:only-of-type {\n",
       "        vertical-align: middle;\n",
       "    }\n",
       "\n",
       "    .dataframe tbody tr th {\n",
       "        vertical-align: top;\n",
       "    }\n",
       "\n",
       "    .dataframe thead th {\n",
       "        text-align: right;\n",
       "    }\n",
       "</style>\n",
       "<table border=\"1\" class=\"dataframe\">\n",
       "  <thead>\n",
       "    <tr style=\"text-align: right;\">\n",
       "      <th>Indicateur</th>\n",
       "      <th>Pays</th>\n",
       "      <th>SCORE_INTERNET</th>\n",
       "      <th>SCORE_PIB</th>\n",
       "      <th>SCORE_POP</th>\n",
       "      <th>SCORE_SYNT</th>\n",
       "    </tr>\n",
       "  </thead>\n",
       "  <tbody>\n",
       "    <tr>\n",
       "      <th>157</th>\n",
       "      <td>North America</td>\n",
       "      <td>1.000000</td>\n",
       "      <td>1.000000</td>\n",
       "      <td>0.132636</td>\n",
       "      <td>0.710879</td>\n",
       "    </tr>\n",
       "    <tr>\n",
       "      <th>58</th>\n",
       "      <td>East Asia &amp; Pacific</td>\n",
       "      <td>0.680888</td>\n",
       "      <td>0.301811</td>\n",
       "      <td>0.894971</td>\n",
       "      <td>0.625890</td>\n",
       "    </tr>\n",
       "    <tr>\n",
       "      <th>60</th>\n",
       "      <td>Europe &amp; Central Asia</td>\n",
       "      <td>0.953242</td>\n",
       "      <td>0.557516</td>\n",
       "      <td>0.308939</td>\n",
       "      <td>0.606566</td>\n",
       "    </tr>\n",
       "    <tr>\n",
       "      <th>187</th>\n",
       "      <td>South Asia</td>\n",
       "      <td>0.341320</td>\n",
       "      <td>0.107455</td>\n",
       "      <td>1.000000</td>\n",
       "      <td>0.482925</td>\n",
       "    </tr>\n",
       "    <tr>\n",
       "      <th>122</th>\n",
       "      <td>Latin America &amp; Caribbean</td>\n",
       "      <td>0.727016</td>\n",
       "      <td>0.273797</td>\n",
       "      <td>0.291775</td>\n",
       "      <td>0.430863</td>\n",
       "    </tr>\n",
       "    <tr>\n",
       "      <th>140</th>\n",
       "      <td>Middle East &amp; North Africa</td>\n",
       "      <td>0.614150</td>\n",
       "      <td>0.345451</td>\n",
       "      <td>0.205495</td>\n",
       "      <td>0.388365</td>\n",
       "    </tr>\n",
       "    <tr>\n",
       "      <th>200</th>\n",
       "      <td>Sub-Saharan Africa</td>\n",
       "      <td>0.257911</td>\n",
       "      <td>0.066023</td>\n",
       "      <td>0.514114</td>\n",
       "      <td>0.279349</td>\n",
       "    </tr>\n",
       "  </tbody>\n",
       "</table>\n",
       "</div>"
      ],
      "text/plain": [
       "Indicateur                        Pays  SCORE_INTERNET  SCORE_PIB  SCORE_POP  \\\n",
       "157                      North America        1.000000   1.000000   0.132636   \n",
       "58                 East Asia & Pacific        0.680888   0.301811   0.894971   \n",
       "60               Europe & Central Asia        0.953242   0.557516   0.308939   \n",
       "187                         South Asia        0.341320   0.107455   1.000000   \n",
       "122          Latin America & Caribbean        0.727016   0.273797   0.291775   \n",
       "140         Middle East & North Africa        0.614150   0.345451   0.205495   \n",
       "200                 Sub-Saharan Africa        0.257911   0.066023   0.514114   \n",
       "\n",
       "Indicateur  SCORE_SYNT  \n",
       "157           0.710879  \n",
       "58            0.625890  \n",
       "60            0.606566  \n",
       "187           0.482925  \n",
       "122           0.430863  \n",
       "140           0.388365  \n",
       "200           0.279349  "
      ]
     },
     "execution_count": 79,
     "metadata": {},
     "output_type": "execute_result"
    }
   ],
   "source": [
    "edStatsData.loc[edStatsData['Type'] == 'Continent'].sort_values('SCORE_SYNT', ascending=False)[['Pays', 'SCORE_INTERNET', 'SCORE_PIB', 'SCORE_POP', 'SCORE_SYNT']]"
   ]
  },
  {
   "cell_type": "markdown",
   "metadata": {},
   "source": [
    "A présent, voici le classement des 15 pays par ordre décroissant d'intérêt pour *academy* :"
   ]
  },
  {
   "cell_type": "code",
   "execution_count": 80,
   "metadata": {},
   "outputs": [
    {
     "data": {
      "text/html": [
       "<div>\n",
       "<style scoped>\n",
       "    .dataframe tbody tr th:only-of-type {\n",
       "        vertical-align: middle;\n",
       "    }\n",
       "\n",
       "    .dataframe tbody tr th {\n",
       "        vertical-align: top;\n",
       "    }\n",
       "\n",
       "    .dataframe thead th {\n",
       "        text-align: right;\n",
       "    }\n",
       "</style>\n",
       "<table border=\"1\" class=\"dataframe\">\n",
       "  <thead>\n",
       "    <tr style=\"text-align: right;\">\n",
       "      <th>Indicateur</th>\n",
       "      <th>Pays</th>\n",
       "      <th>SCORE_INTERNET</th>\n",
       "      <th>SCORE_PIB</th>\n",
       "      <th>SCORE_POP</th>\n",
       "      <th>SCORE_SYNT</th>\n",
       "    </tr>\n",
       "  </thead>\n",
       "  <tbody>\n",
       "    <tr>\n",
       "      <th>183</th>\n",
       "      <td>Qatar</td>\n",
       "      <td>0.962154</td>\n",
       "      <td>1.000000</td>\n",
       "      <td>0.001120</td>\n",
       "      <td>0.654425</td>\n",
       "    </tr>\n",
       "    <tr>\n",
       "      <th>164</th>\n",
       "      <td>Norway</td>\n",
       "      <td>0.992839</td>\n",
       "      <td>0.542937</td>\n",
       "      <td>0.002496</td>\n",
       "      <td>0.512757</td>\n",
       "    </tr>\n",
       "    <tr>\n",
       "      <th>191</th>\n",
       "      <td>Singapore</td>\n",
       "      <td>0.826531</td>\n",
       "      <td>0.688989</td>\n",
       "      <td>0.001876</td>\n",
       "      <td>0.505798</td>\n",
       "    </tr>\n",
       "    <tr>\n",
       "      <th>6</th>\n",
       "      <td>United Arab Emirates</td>\n",
       "      <td>0.924490</td>\n",
       "      <td>0.567927</td>\n",
       "      <td>0.003994</td>\n",
       "      <td>0.498804</td>\n",
       "    </tr>\n",
       "    <tr>\n",
       "      <th>34</th>\n",
       "      <td>Switzerland</td>\n",
       "      <td>0.912302</td>\n",
       "      <td>0.485843</td>\n",
       "      <td>0.003946</td>\n",
       "      <td>0.467364</td>\n",
       "    </tr>\n",
       "    <tr>\n",
       "      <th>227</th>\n",
       "      <td>United States</td>\n",
       "      <td>0.777314</td>\n",
       "      <td>0.451257</td>\n",
       "      <td>0.159864</td>\n",
       "      <td>0.462812</td>\n",
       "    </tr>\n",
       "    <tr>\n",
       "      <th>115</th>\n",
       "      <td>Kuwait</td>\n",
       "      <td>0.799667</td>\n",
       "      <td>0.582552</td>\n",
       "      <td>0.001827</td>\n",
       "      <td>0.461349</td>\n",
       "    </tr>\n",
       "    <tr>\n",
       "      <th>54</th>\n",
       "      <td>Denmark</td>\n",
       "      <td>0.989467</td>\n",
       "      <td>0.388862</td>\n",
       "      <td>0.002715</td>\n",
       "      <td>0.460348</td>\n",
       "    </tr>\n",
       "    <tr>\n",
       "      <th>99</th>\n",
       "      <td>Ireland</td>\n",
       "      <td>0.838466</td>\n",
       "      <td>0.532894</td>\n",
       "      <td>0.001670</td>\n",
       "      <td>0.457677</td>\n",
       "    </tr>\n",
       "    <tr>\n",
       "      <th>20</th>\n",
       "      <td>Bahrain</td>\n",
       "      <td>1.000000</td>\n",
       "      <td>0.371606</td>\n",
       "      <td>0.000612</td>\n",
       "      <td>0.457406</td>\n",
       "    </tr>\n",
       "    <tr>\n",
       "      <th>98</th>\n",
       "      <td>India</td>\n",
       "      <td>0.301502</td>\n",
       "      <td>0.051542</td>\n",
       "      <td>1.000000</td>\n",
       "      <td>0.451015</td>\n",
       "    </tr>\n",
       "    <tr>\n",
       "      <th>90</th>\n",
       "      <td>Hong Kong SAR, China</td>\n",
       "      <td>0.890820</td>\n",
       "      <td>0.459187</td>\n",
       "      <td>0.002926</td>\n",
       "      <td>0.450978</td>\n",
       "    </tr>\n",
       "    <tr>\n",
       "      <th>205</th>\n",
       "      <td>Sweden</td>\n",
       "      <td>0.933743</td>\n",
       "      <td>0.394748</td>\n",
       "      <td>0.004487</td>\n",
       "      <td>0.444326</td>\n",
       "    </tr>\n",
       "    <tr>\n",
       "      <th>75</th>\n",
       "      <td>United Kingdom</td>\n",
       "      <td>0.967100</td>\n",
       "      <td>0.331874</td>\n",
       "      <td>0.032369</td>\n",
       "      <td>0.443781</td>\n",
       "    </tr>\n",
       "    <tr>\n",
       "      <th>163</th>\n",
       "      <td>Netherlands</td>\n",
       "      <td>0.922561</td>\n",
       "      <td>0.400168</td>\n",
       "      <td>0.007363</td>\n",
       "      <td>0.443364</td>\n",
       "    </tr>\n",
       "  </tbody>\n",
       "</table>\n",
       "</div>"
      ],
      "text/plain": [
       "Indicateur                  Pays  SCORE_INTERNET  SCORE_PIB  SCORE_POP  \\\n",
       "183                        Qatar        0.962154   1.000000   0.001120   \n",
       "164                       Norway        0.992839   0.542937   0.002496   \n",
       "191                    Singapore        0.826531   0.688989   0.001876   \n",
       "6           United Arab Emirates        0.924490   0.567927   0.003994   \n",
       "34                   Switzerland        0.912302   0.485843   0.003946   \n",
       "227                United States        0.777314   0.451257   0.159864   \n",
       "115                       Kuwait        0.799667   0.582552   0.001827   \n",
       "54                       Denmark        0.989467   0.388862   0.002715   \n",
       "99                       Ireland        0.838466   0.532894   0.001670   \n",
       "20                       Bahrain        1.000000   0.371606   0.000612   \n",
       "98                         India        0.301502   0.051542   1.000000   \n",
       "90          Hong Kong SAR, China        0.890820   0.459187   0.002926   \n",
       "205                       Sweden        0.933743   0.394748   0.004487   \n",
       "75                United Kingdom        0.967100   0.331874   0.032369   \n",
       "163                  Netherlands        0.922561   0.400168   0.007363   \n",
       "\n",
       "Indicateur  SCORE_SYNT  \n",
       "183           0.654425  \n",
       "164           0.512757  \n",
       "191           0.505798  \n",
       "6             0.498804  \n",
       "34            0.467364  \n",
       "227           0.462812  \n",
       "115           0.461349  \n",
       "54            0.460348  \n",
       "99            0.457677  \n",
       "20            0.457406  \n",
       "98            0.451015  \n",
       "90            0.450978  \n",
       "205           0.444326  \n",
       "75            0.443781  \n",
       "163           0.443364  "
      ]
     },
     "execution_count": 80,
     "metadata": {},
     "output_type": "execute_result"
    }
   ],
   "source": [
    "edStatsData.loc[edStatsData['Type'] == 'Pays'].sort_values('SCORE_SYNT', ascending=False)[['Pays', 'SCORE_INTERNET', 'SCORE_PIB', 'SCORE_POP', 'SCORE_SYNT']].iloc[:15]"
   ]
  },
  {
   "cell_type": "markdown",
   "metadata": {},
   "source": [
    "**Conclusion 1**\n",
    "\n",
    "Le classement des continents me paraît fiable.\n",
    "\n",
    "Celui des pays laisse remonter des pays qui appartiennent à des continents de fond de classement.\n",
    "\n",
    "Il n'est pas cohérent.\n",
    "\n",
    "**Le mode de calcul du score synthétique est à revoir**"
   ]
  },
  {
   "cell_type": "markdown",
   "metadata": {},
   "source": [
    "**Autre approche**\n",
    "\n",
    "Dès lors, pour réfléchir à un autre mode de calcul, je pars du principe que sur une population cible initiale (liée à *SCORE_POP*), seule une partie aura les moyens techniques d'accéder à internet (lien avec *SCORE_INTERNET*), puis seulement une sous-partie aura les moyens financiers d'accéder à l'offre d'*academy* (lien avec *SCORE_PIB*).\n",
    "\n",
    "Je vais donc combiner les scores en les multipliant, plutôt que de les additionner.\n",
    "\n",
    "Toutefois, s'agissant de scores initiaux < 1, je ferai l'opération sur leurs inverses.\n",
    "\n",
    "La meilleure combinaison sera donc le plus petit résultat."
   ]
  },
  {
   "cell_type": "code",
   "execution_count": 81,
   "metadata": {},
   "outputs": [],
   "source": [
    "edStatsData['SCORE_SYNT'] = 1 / edStatsData['SCORE_INTERNET'] / edStatsData['SCORE_PIB'] / edStatsData['SCORE_POP']"
   ]
  },
  {
   "cell_type": "markdown",
   "metadata": {},
   "source": [
    "D'où les nouveaux classement :\n",
    "___\n",
    "**Continent**"
   ]
  },
  {
   "cell_type": "code",
   "execution_count": 82,
   "metadata": {},
   "outputs": [
    {
     "data": {
      "text/html": [
       "<div>\n",
       "<style scoped>\n",
       "    .dataframe tbody tr th:only-of-type {\n",
       "        vertical-align: middle;\n",
       "    }\n",
       "\n",
       "    .dataframe tbody tr th {\n",
       "        vertical-align: top;\n",
       "    }\n",
       "\n",
       "    .dataframe thead th {\n",
       "        text-align: right;\n",
       "    }\n",
       "</style>\n",
       "<table border=\"1\" class=\"dataframe\">\n",
       "  <thead>\n",
       "    <tr style=\"text-align: right;\">\n",
       "      <th>Indicateur</th>\n",
       "      <th>Pays</th>\n",
       "      <th>SCORE_INTERNET</th>\n",
       "      <th>SCORE_PIB</th>\n",
       "      <th>SCORE_POP</th>\n",
       "      <th>SCORE_SYNT</th>\n",
       "    </tr>\n",
       "  </thead>\n",
       "  <tbody>\n",
       "    <tr>\n",
       "      <th>58</th>\n",
       "      <td>East Asia &amp; Pacific</td>\n",
       "      <td>0.680888</td>\n",
       "      <td>0.301811</td>\n",
       "      <td>0.894971</td>\n",
       "      <td>5.437255</td>\n",
       "    </tr>\n",
       "    <tr>\n",
       "      <th>60</th>\n",
       "      <td>Europe &amp; Central Asia</td>\n",
       "      <td>0.953242</td>\n",
       "      <td>0.557516</td>\n",
       "      <td>0.308939</td>\n",
       "      <td>6.090689</td>\n",
       "    </tr>\n",
       "    <tr>\n",
       "      <th>157</th>\n",
       "      <td>North America</td>\n",
       "      <td>1.000000</td>\n",
       "      <td>1.000000</td>\n",
       "      <td>0.132636</td>\n",
       "      <td>7.539405</td>\n",
       "    </tr>\n",
       "    <tr>\n",
       "      <th>122</th>\n",
       "      <td>Latin America &amp; Caribbean</td>\n",
       "      <td>0.727016</td>\n",
       "      <td>0.273797</td>\n",
       "      <td>0.291775</td>\n",
       "      <td>17.217855</td>\n",
       "    </tr>\n",
       "    <tr>\n",
       "      <th>140</th>\n",
       "      <td>Middle East &amp; North Africa</td>\n",
       "      <td>0.614150</td>\n",
       "      <td>0.345451</td>\n",
       "      <td>0.205495</td>\n",
       "      <td>22.937068</td>\n",
       "    </tr>\n",
       "    <tr>\n",
       "      <th>187</th>\n",
       "      <td>South Asia</td>\n",
       "      <td>0.341320</td>\n",
       "      <td>0.107455</td>\n",
       "      <td>1.000000</td>\n",
       "      <td>27.265427</td>\n",
       "    </tr>\n",
       "    <tr>\n",
       "      <th>200</th>\n",
       "      <td>Sub-Saharan Africa</td>\n",
       "      <td>0.257911</td>\n",
       "      <td>0.066023</td>\n",
       "      <td>0.514114</td>\n",
       "      <td>114.229752</td>\n",
       "    </tr>\n",
       "  </tbody>\n",
       "</table>\n",
       "</div>"
      ],
      "text/plain": [
       "Indicateur                        Pays  SCORE_INTERNET  SCORE_PIB  SCORE_POP  \\\n",
       "58                 East Asia & Pacific        0.680888   0.301811   0.894971   \n",
       "60               Europe & Central Asia        0.953242   0.557516   0.308939   \n",
       "157                      North America        1.000000   1.000000   0.132636   \n",
       "122          Latin America & Caribbean        0.727016   0.273797   0.291775   \n",
       "140         Middle East & North Africa        0.614150   0.345451   0.205495   \n",
       "187                         South Asia        0.341320   0.107455   1.000000   \n",
       "200                 Sub-Saharan Africa        0.257911   0.066023   0.514114   \n",
       "\n",
       "Indicateur  SCORE_SYNT  \n",
       "58            5.437255  \n",
       "60            6.090689  \n",
       "157           7.539405  \n",
       "122          17.217855  \n",
       "140          22.937068  \n",
       "187          27.265427  \n",
       "200         114.229752  "
      ]
     },
     "execution_count": 82,
     "metadata": {},
     "output_type": "execute_result"
    }
   ],
   "source": [
    "edStatsData.loc[edStatsData['Type'] == 'Continent'].sort_values('SCORE_SYNT', ascending=True)[['Pays', 'SCORE_INTERNET', 'SCORE_PIB', 'SCORE_POP', 'SCORE_SYNT']]"
   ]
  },
  {
   "cell_type": "markdown",
   "metadata": {},
   "source": [
    "et **Pays**"
   ]
  },
  {
   "cell_type": "code",
   "execution_count": 83,
   "metadata": {},
   "outputs": [
    {
     "data": {
      "text/html": [
       "<div>\n",
       "<style scoped>\n",
       "    .dataframe tbody tr th:only-of-type {\n",
       "        vertical-align: middle;\n",
       "    }\n",
       "\n",
       "    .dataframe tbody tr th {\n",
       "        vertical-align: top;\n",
       "    }\n",
       "\n",
       "    .dataframe thead th {\n",
       "        text-align: right;\n",
       "    }\n",
       "</style>\n",
       "<table border=\"1\" class=\"dataframe\">\n",
       "  <thead>\n",
       "    <tr style=\"text-align: right;\">\n",
       "      <th>Indicateur</th>\n",
       "      <th>Pays</th>\n",
       "      <th>SCORE_INTERNET</th>\n",
       "      <th>SCORE_PIB</th>\n",
       "      <th>SCORE_POP</th>\n",
       "      <th>SCORE_SYNT</th>\n",
       "    </tr>\n",
       "  </thead>\n",
       "  <tbody>\n",
       "    <tr>\n",
       "      <th>227</th>\n",
       "      <td>United States</td>\n",
       "      <td>0.777314</td>\n",
       "      <td>0.451257</td>\n",
       "      <td>0.159864</td>\n",
       "      <td>17.833129</td>\n",
       "    </tr>\n",
       "    <tr>\n",
       "      <th>37</th>\n",
       "      <td>China</td>\n",
       "      <td>0.542857</td>\n",
       "      <td>0.121815</td>\n",
       "      <td>0.663511</td>\n",
       "      <td>22.791036</td>\n",
       "    </tr>\n",
       "    <tr>\n",
       "      <th>98</th>\n",
       "      <td>India</td>\n",
       "      <td>0.301502</td>\n",
       "      <td>0.051542</td>\n",
       "      <td>1.000000</td>\n",
       "      <td>64.349889</td>\n",
       "    </tr>\n",
       "    <tr>\n",
       "      <th>107</th>\n",
       "      <td>Japan</td>\n",
       "      <td>0.938776</td>\n",
       "      <td>0.323604</td>\n",
       "      <td>0.044136</td>\n",
       "      <td>74.582031</td>\n",
       "    </tr>\n",
       "    <tr>\n",
       "      <th>51</th>\n",
       "      <td>Germany</td>\n",
       "      <td>0.914767</td>\n",
       "      <td>0.374431</td>\n",
       "      <td>0.031021</td>\n",
       "      <td>94.117243</td>\n",
       "    </tr>\n",
       "    <tr>\n",
       "      <th>75</th>\n",
       "      <td>United Kingdom</td>\n",
       "      <td>0.967100</td>\n",
       "      <td>0.331874</td>\n",
       "      <td>0.032369</td>\n",
       "      <td>96.256525</td>\n",
       "    </tr>\n",
       "    <tr>\n",
       "      <th>27</th>\n",
       "      <td>Brazil</td>\n",
       "      <td>0.609008</td>\n",
       "      <td>0.118637</td>\n",
       "      <td>0.123334</td>\n",
       "      <td>112.221817</td>\n",
       "    </tr>\n",
       "    <tr>\n",
       "      <th>71</th>\n",
       "      <td>France</td>\n",
       "      <td>0.873696</td>\n",
       "      <td>0.321968</td>\n",
       "      <td>0.027524</td>\n",
       "      <td>129.155681</td>\n",
       "    </tr>\n",
       "    <tr>\n",
       "      <th>185</th>\n",
       "      <td>Russian Federation</td>\n",
       "      <td>0.779685</td>\n",
       "      <td>0.203253</td>\n",
       "      <td>0.048518</td>\n",
       "      <td>130.058958</td>\n",
       "    </tr>\n",
       "    <tr>\n",
       "      <th>141</th>\n",
       "      <td>Mexico</td>\n",
       "      <td>0.607556</td>\n",
       "      <td>0.142398</td>\n",
       "      <td>0.085585</td>\n",
       "      <td>135.054836</td>\n",
       "    </tr>\n",
       "    <tr>\n",
       "      <th>114</th>\n",
       "      <td>Korea, Rep.</td>\n",
       "      <td>0.946087</td>\n",
       "      <td>0.295971</td>\n",
       "      <td>0.024673</td>\n",
       "      <td>144.743649</td>\n",
       "    </tr>\n",
       "    <tr>\n",
       "      <th>220</th>\n",
       "      <td>Turkey</td>\n",
       "      <td>0.595385</td>\n",
       "      <td>0.200973</td>\n",
       "      <td>0.053923</td>\n",
       "      <td>154.985775</td>\n",
       "    </tr>\n",
       "    <tr>\n",
       "      <th>188</th>\n",
       "      <td>Saudi Arabia</td>\n",
       "      <td>0.752560</td>\n",
       "      <td>0.426862</td>\n",
       "      <td>0.018164</td>\n",
       "      <td>171.381680</td>\n",
       "    </tr>\n",
       "    <tr>\n",
       "      <th>33</th>\n",
       "      <td>Canada</td>\n",
       "      <td>0.916735</td>\n",
       "      <td>0.364511</td>\n",
       "      <td>0.016509</td>\n",
       "      <td>181.272005</td>\n",
       "    </tr>\n",
       "    <tr>\n",
       "      <th>104</th>\n",
       "      <td>Italy</td>\n",
       "      <td>0.625758</td>\n",
       "      <td>0.293682</td>\n",
       "      <td>0.026135</td>\n",
       "      <td>208.209531</td>\n",
       "    </tr>\n",
       "  </tbody>\n",
       "</table>\n",
       "</div>"
      ],
      "text/plain": [
       "Indicateur                Pays  SCORE_INTERNET  SCORE_PIB  SCORE_POP  \\\n",
       "227              United States        0.777314   0.451257   0.159864   \n",
       "37                       China        0.542857   0.121815   0.663511   \n",
       "98                       India        0.301502   0.051542   1.000000   \n",
       "107                      Japan        0.938776   0.323604   0.044136   \n",
       "51                     Germany        0.914767   0.374431   0.031021   \n",
       "75              United Kingdom        0.967100   0.331874   0.032369   \n",
       "27                      Brazil        0.609008   0.118637   0.123334   \n",
       "71                      France        0.873696   0.321968   0.027524   \n",
       "185         Russian Federation        0.779685   0.203253   0.048518   \n",
       "141                     Mexico        0.607556   0.142398   0.085585   \n",
       "114                Korea, Rep.        0.946087   0.295971   0.024673   \n",
       "220                     Turkey        0.595385   0.200973   0.053923   \n",
       "188               Saudi Arabia        0.752560   0.426862   0.018164   \n",
       "33                      Canada        0.916735   0.364511   0.016509   \n",
       "104                      Italy        0.625758   0.293682   0.026135   \n",
       "\n",
       "Indicateur  SCORE_SYNT  \n",
       "227          17.833129  \n",
       "37           22.791036  \n",
       "98           64.349889  \n",
       "107          74.582031  \n",
       "51           94.117243  \n",
       "75           96.256525  \n",
       "27          112.221817  \n",
       "71          129.155681  \n",
       "185         130.058958  \n",
       "141         135.054836  \n",
       "114         144.743649  \n",
       "220         154.985775  \n",
       "188         171.381680  \n",
       "33          181.272005  \n",
       "104         208.209531  "
      ]
     },
     "execution_count": 83,
     "metadata": {},
     "output_type": "execute_result"
    }
   ],
   "source": [
    "edStatsData.loc[edStatsData['Type'] == 'Pays'].sort_values('SCORE_SYNT', ascending=True)[['Pays', 'SCORE_INTERNET', 'SCORE_PIB', 'SCORE_POP', 'SCORE_SYNT']].iloc[:15]"
   ]
  },
  {
   "cell_type": "markdown",
   "metadata": {},
   "source": [
    "**Conclusion 2**\n",
    "\n",
    "Les petits pays incriminés ont bien disparus mais d'autres pays à pouvoir d'achat moins favorables sont remontés.\n",
    "\n",
    "Je n'oublie pas le besoin de pérennité financière d'*academy* alors je pondère aussi les critères en donnant plus d'importance au *SCORE_PIB*.\n",
    "Pour cela, je lui affecte une puissance 2."
   ]
  },
  {
   "cell_type": "code",
   "execution_count": 84,
   "metadata": {},
   "outputs": [],
   "source": [
    "edStatsData['SCORE_SYNT'] = 1 / edStatsData['SCORE_INTERNET'] / edStatsData['SCORE_PIB']**2 / edStatsData['SCORE_POP']"
   ]
  },
  {
   "cell_type": "markdown",
   "metadata": {},
   "source": [
    "Ce qui donne le classement des **continents** par ordre décroissant d'intérêt pour *academy* :"
   ]
  },
  {
   "cell_type": "code",
   "execution_count": 85,
   "metadata": {},
   "outputs": [
    {
     "data": {
      "text/html": [
       "<div>\n",
       "<style scoped>\n",
       "    .dataframe tbody tr th:only-of-type {\n",
       "        vertical-align: middle;\n",
       "    }\n",
       "\n",
       "    .dataframe tbody tr th {\n",
       "        vertical-align: top;\n",
       "    }\n",
       "\n",
       "    .dataframe thead th {\n",
       "        text-align: right;\n",
       "    }\n",
       "</style>\n",
       "<table border=\"1\" class=\"dataframe\">\n",
       "  <thead>\n",
       "    <tr style=\"text-align: right;\">\n",
       "      <th>Indicateur</th>\n",
       "      <th>Pays</th>\n",
       "      <th>SCORE_INTERNET</th>\n",
       "      <th>SCORE_PIB</th>\n",
       "      <th>SCORE_POP</th>\n",
       "      <th>SCORE_SYNT</th>\n",
       "    </tr>\n",
       "  </thead>\n",
       "  <tbody>\n",
       "    <tr>\n",
       "      <th>157</th>\n",
       "      <td>North America</td>\n",
       "      <td>1.000000</td>\n",
       "      <td>1.000000</td>\n",
       "      <td>0.132636</td>\n",
       "      <td>7.539405</td>\n",
       "    </tr>\n",
       "    <tr>\n",
       "      <th>60</th>\n",
       "      <td>Europe &amp; Central Asia</td>\n",
       "      <td>0.953242</td>\n",
       "      <td>0.557516</td>\n",
       "      <td>0.308939</td>\n",
       "      <td>10.924680</td>\n",
       "    </tr>\n",
       "    <tr>\n",
       "      <th>58</th>\n",
       "      <td>East Asia &amp; Pacific</td>\n",
       "      <td>0.680888</td>\n",
       "      <td>0.301811</td>\n",
       "      <td>0.894971</td>\n",
       "      <td>18.015407</td>\n",
       "    </tr>\n",
       "    <tr>\n",
       "      <th>122</th>\n",
       "      <td>Latin America &amp; Caribbean</td>\n",
       "      <td>0.727016</td>\n",
       "      <td>0.273797</td>\n",
       "      <td>0.291775</td>\n",
       "      <td>62.885524</td>\n",
       "    </tr>\n",
       "    <tr>\n",
       "      <th>140</th>\n",
       "      <td>Middle East &amp; North Africa</td>\n",
       "      <td>0.614150</td>\n",
       "      <td>0.345451</td>\n",
       "      <td>0.205495</td>\n",
       "      <td>66.397392</td>\n",
       "    </tr>\n",
       "    <tr>\n",
       "      <th>187</th>\n",
       "      <td>South Asia</td>\n",
       "      <td>0.341320</td>\n",
       "      <td>0.107455</td>\n",
       "      <td>1.000000</td>\n",
       "      <td>253.738677</td>\n",
       "    </tr>\n",
       "    <tr>\n",
       "      <th>200</th>\n",
       "      <td>Sub-Saharan Africa</td>\n",
       "      <td>0.257911</td>\n",
       "      <td>0.066023</td>\n",
       "      <td>0.514114</td>\n",
       "      <td>1730.162437</td>\n",
       "    </tr>\n",
       "  </tbody>\n",
       "</table>\n",
       "</div>"
      ],
      "text/plain": [
       "Indicateur                        Pays  SCORE_INTERNET  SCORE_PIB  SCORE_POP  \\\n",
       "157                      North America        1.000000   1.000000   0.132636   \n",
       "60               Europe & Central Asia        0.953242   0.557516   0.308939   \n",
       "58                 East Asia & Pacific        0.680888   0.301811   0.894971   \n",
       "122          Latin America & Caribbean        0.727016   0.273797   0.291775   \n",
       "140         Middle East & North Africa        0.614150   0.345451   0.205495   \n",
       "187                         South Asia        0.341320   0.107455   1.000000   \n",
       "200                 Sub-Saharan Africa        0.257911   0.066023   0.514114   \n",
       "\n",
       "Indicateur   SCORE_SYNT  \n",
       "157            7.539405  \n",
       "60            10.924680  \n",
       "58            18.015407  \n",
       "122           62.885524  \n",
       "140           66.397392  \n",
       "187          253.738677  \n",
       "200         1730.162437  "
      ]
     },
     "execution_count": 85,
     "metadata": {},
     "output_type": "execute_result"
    }
   ],
   "source": [
    "edStatsData.loc[edStatsData['Type'] == 'Continent'].sort_values('SCORE_SYNT', ascending=True)[['Pays', 'SCORE_INTERNET', 'SCORE_PIB', 'SCORE_POP', 'SCORE_SYNT']]"
   ]
  },
  {
   "cell_type": "markdown",
   "metadata": {},
   "source": [
    "A présent, voici le classement des 15 **pays** par ordre décroissant d'intérêt pour *academy* :"
   ]
  },
  {
   "cell_type": "code",
   "execution_count": 86,
   "metadata": {},
   "outputs": [
    {
     "data": {
      "text/html": [
       "<div>\n",
       "<style scoped>\n",
       "    .dataframe tbody tr th:only-of-type {\n",
       "        vertical-align: middle;\n",
       "    }\n",
       "\n",
       "    .dataframe tbody tr th {\n",
       "        vertical-align: top;\n",
       "    }\n",
       "\n",
       "    .dataframe thead th {\n",
       "        text-align: right;\n",
       "    }\n",
       "</style>\n",
       "<table border=\"1\" class=\"dataframe\">\n",
       "  <thead>\n",
       "    <tr style=\"text-align: right;\">\n",
       "      <th>Indicateur</th>\n",
       "      <th>Pays</th>\n",
       "      <th>SCORE_INTERNET</th>\n",
       "      <th>SCORE_PIB</th>\n",
       "      <th>SCORE_POP</th>\n",
       "      <th>SCORE_SYNT</th>\n",
       "    </tr>\n",
       "  </thead>\n",
       "  <tbody>\n",
       "    <tr>\n",
       "      <th>227</th>\n",
       "      <td>United States</td>\n",
       "      <td>0.777314</td>\n",
       "      <td>0.451257</td>\n",
       "      <td>0.159864</td>\n",
       "      <td>39.518771</td>\n",
       "    </tr>\n",
       "    <tr>\n",
       "      <th>37</th>\n",
       "      <td>China</td>\n",
       "      <td>0.542857</td>\n",
       "      <td>0.121815</td>\n",
       "      <td>0.663511</td>\n",
       "      <td>187.094891</td>\n",
       "    </tr>\n",
       "    <tr>\n",
       "      <th>107</th>\n",
       "      <td>Japan</td>\n",
       "      <td>0.938776</td>\n",
       "      <td>0.323604</td>\n",
       "      <td>0.044136</td>\n",
       "      <td>230.473145</td>\n",
       "    </tr>\n",
       "    <tr>\n",
       "      <th>51</th>\n",
       "      <td>Germany</td>\n",
       "      <td>0.914767</td>\n",
       "      <td>0.374431</td>\n",
       "      <td>0.031021</td>\n",
       "      <td>251.361031</td>\n",
       "    </tr>\n",
       "    <tr>\n",
       "      <th>75</th>\n",
       "      <td>United Kingdom</td>\n",
       "      <td>0.967100</td>\n",
       "      <td>0.331874</td>\n",
       "      <td>0.032369</td>\n",
       "      <td>290.039557</td>\n",
       "    </tr>\n",
       "    <tr>\n",
       "      <th>71</th>\n",
       "      <td>France</td>\n",
       "      <td>0.873696</td>\n",
       "      <td>0.321968</td>\n",
       "      <td>0.027524</td>\n",
       "      <td>401.144905</td>\n",
       "    </tr>\n",
       "    <tr>\n",
       "      <th>188</th>\n",
       "      <td>Saudi Arabia</td>\n",
       "      <td>0.752560</td>\n",
       "      <td>0.426862</td>\n",
       "      <td>0.018164</td>\n",
       "      <td>401.491717</td>\n",
       "    </tr>\n",
       "    <tr>\n",
       "      <th>114</th>\n",
       "      <td>Korea, Rep.</td>\n",
       "      <td>0.946087</td>\n",
       "      <td>0.295971</td>\n",
       "      <td>0.024673</td>\n",
       "      <td>489.047210</td>\n",
       "    </tr>\n",
       "    <tr>\n",
       "      <th>33</th>\n",
       "      <td>Canada</td>\n",
       "      <td>0.916735</td>\n",
       "      <td>0.364511</td>\n",
       "      <td>0.016509</td>\n",
       "      <td>497.302381</td>\n",
       "    </tr>\n",
       "    <tr>\n",
       "      <th>185</th>\n",
       "      <td>Russian Federation</td>\n",
       "      <td>0.779685</td>\n",
       "      <td>0.203253</td>\n",
       "      <td>0.048518</td>\n",
       "      <td>639.885690</td>\n",
       "    </tr>\n",
       "    <tr>\n",
       "      <th>104</th>\n",
       "      <td>Italy</td>\n",
       "      <td>0.625758</td>\n",
       "      <td>0.293682</td>\n",
       "      <td>0.026135</td>\n",
       "      <td>708.963191</td>\n",
       "    </tr>\n",
       "    <tr>\n",
       "      <th>220</th>\n",
       "      <td>Turkey</td>\n",
       "      <td>0.595385</td>\n",
       "      <td>0.200973</td>\n",
       "      <td>0.053923</td>\n",
       "      <td>771.175740</td>\n",
       "    </tr>\n",
       "    <tr>\n",
       "      <th>11</th>\n",
       "      <td>Australia</td>\n",
       "      <td>0.900395</td>\n",
       "      <td>0.375731</td>\n",
       "      <td>0.010012</td>\n",
       "      <td>785.798197</td>\n",
       "    </tr>\n",
       "    <tr>\n",
       "      <th>6</th>\n",
       "      <td>United Arab Emirates</td>\n",
       "      <td>0.924490</td>\n",
       "      <td>0.567927</td>\n",
       "      <td>0.003994</td>\n",
       "      <td>839.683924</td>\n",
       "    </tr>\n",
       "    <tr>\n",
       "      <th>163</th>\n",
       "      <td>Netherlands</td>\n",
       "      <td>0.922561</td>\n",
       "      <td>0.400168</td>\n",
       "      <td>0.007363</td>\n",
       "      <td>919.335065</td>\n",
       "    </tr>\n",
       "  </tbody>\n",
       "</table>\n",
       "</div>"
      ],
      "text/plain": [
       "Indicateur                  Pays  SCORE_INTERNET  SCORE_PIB  SCORE_POP  \\\n",
       "227                United States        0.777314   0.451257   0.159864   \n",
       "37                         China        0.542857   0.121815   0.663511   \n",
       "107                        Japan        0.938776   0.323604   0.044136   \n",
       "51                       Germany        0.914767   0.374431   0.031021   \n",
       "75                United Kingdom        0.967100   0.331874   0.032369   \n",
       "71                        France        0.873696   0.321968   0.027524   \n",
       "188                 Saudi Arabia        0.752560   0.426862   0.018164   \n",
       "114                  Korea, Rep.        0.946087   0.295971   0.024673   \n",
       "33                        Canada        0.916735   0.364511   0.016509   \n",
       "185           Russian Federation        0.779685   0.203253   0.048518   \n",
       "104                        Italy        0.625758   0.293682   0.026135   \n",
       "220                       Turkey        0.595385   0.200973   0.053923   \n",
       "11                     Australia        0.900395   0.375731   0.010012   \n",
       "6           United Arab Emirates        0.924490   0.567927   0.003994   \n",
       "163                  Netherlands        0.922561   0.400168   0.007363   \n",
       "\n",
       "Indicateur  SCORE_SYNT  \n",
       "227          39.518771  \n",
       "37          187.094891  \n",
       "107         230.473145  \n",
       "51          251.361031  \n",
       "75          290.039557  \n",
       "71          401.144905  \n",
       "188         401.491717  \n",
       "114         489.047210  \n",
       "33          497.302381  \n",
       "185         639.885690  \n",
       "104         708.963191  \n",
       "220         771.175740  \n",
       "11          785.798197  \n",
       "6           839.683924  \n",
       "163         919.335065  "
      ]
     },
     "execution_count": 86,
     "metadata": {},
     "output_type": "execute_result"
    }
   ],
   "source": [
    "edStatsData.loc[edStatsData['Type'] == 'Pays'].sort_values('SCORE_SYNT', ascending=True)[['Pays', 'SCORE_INTERNET', 'SCORE_PIB', 'SCORE_POP', 'SCORE_SYNT']].iloc[:15]"
   ]
  },
  {
   "cell_type": "markdown",
   "metadata": {},
   "source": [
    "**Conclusion 3**\n",
    "\n",
    "Les 2 classements sont désormais beaucoup plus cohérents.\n",
    "\n",
    "Je note que 2 pays (*Saudi Arabia* et *United Arab Emirates*), non-issus des continents les plus favorables, sont présents.\n",
    "\n",
    "Ils ne seront probablement pas la priorité d'*academy*, tant que l'ensemble de cette région ne proposera pas un potentiel de développement plus attractif.\n",
    "___\n",
    "Il serait intéressant de voir où se situe le **top 5** des pays dans les scores individuels."
   ]
  },
  {
   "cell_type": "code",
   "execution_count": 87,
   "metadata": {},
   "outputs": [
    {
     "data": {
      "image/png": "[encoded data removed]",
      "text/plain": [
       "<Figure size 600x600 with 1 Axes>"
      ]
     },
     "metadata": {},
     "output_type": "display_data"
    },
    {
     "data": {
      "image/png": "[encoded data removed]",
      "text/plain": [
       "<Figure size 600x600 with 1 Axes>"
      ]
     },
     "metadata": {},
     "output_type": "display_data"
    },
    {
     "data": {
      "image/png": "[encoded data removed]",
      "text/plain": [
       "<Figure size 600x600 with 1 Axes>"
      ]
     },
     "metadata": {},
     "output_type": "display_data"
    }
   ],
   "source": [
    "# Je liste les variables à traiter\n",
    "score = [\"Taux d'internautes\", 'PIB/habitant', 'Cible']\n",
    "# J'établis la liste des pays du TOP5 au classement global\n",
    "top5 = edStatsData.loc[edStatsData['Type'] == 'Pays'].sort_values('SCORE_SYNT', ascending=True)['Pays'].iloc[:5].tolist()\n",
    "# Pour chaque variable, je construis un graphique\n",
    "for sc in score:\n",
    "    # Je cherche la position dans le classement de chaque pays du TOP5\n",
    "    classement = edStatsData.loc[edStatsData['Type'] == 'Pays'].sort_values(sc, ascending=False)['Pays'].tolist()\n",
    "    position_top5=[]\n",
    "    for top in top5:\n",
    "        position_top5.append(classement.index(top))\n",
    "        \n",
    "    #Je construis la courbe de Lorenz de la variable    \n",
    "    si = edStatsData.loc[edStatsData['Type'] == 'Pays'][sc].values\n",
    "    n = len(si)\n",
    "    lorenz = np.cumsum(np.sort(si)) / si.sum()\n",
    "    lorenz = np.append([0],lorenz) # La courbe de Lorenz commence à 0\n",
    "    xaxis = np.linspace(0-1/n,1+1/n,len(lorenz)) #Il y a un segment de taille n pour chaque individu, plus 1 segment supplémentaire d'ordonnée 0. Le premier segment commence à 0-1/n, et le dernier termine à 1+1/n.\n",
    "    plt.figure(figsize=(6,6))\n",
    "    sns.lineplot(y=lorenz, x=xaxis)\n",
    "    plt.plot([0,1], [0,1])\n",
    "    \n",
    "    # Les classements des pays étant ordonnés, je peux placer 2 lignes et le nom pour chaque pays du TOP5\n",
    "    for pt5 in position_top5:\n",
    "        plt.plot([1-(pt5-1)/n,1-(pt5-1)/n], [0,lorenz[n-pt5]], color='green')\n",
    "        plt.plot([0,1-(pt5-1)/n], [lorenz[n-pt5],lorenz[n-pt5]], color='green')\n",
    "        plt.text(0, lorenz[n-pt5]+0.003, classement[pt5], fontsize=9)\n",
    "        \n",
    "    # Calcul de l'indice de Gini\n",
    "    AUC = (lorenz.sum() -lorenz[-1]/2 -lorenz[0]/2)/n # Surface sous la courbe de Lorenz. Le premier segment (lorenz[0]) est à moitié en dessous de 0, on le coupe donc en 2, on fait de même pour le dernier segment lorenz[-1] qui est à moitié au dessus de 1.\n",
    "    S = 0.5 - AUC # surface entre la première bissectrice et le courbe de Lorenz\n",
    "    gini = round(2*S, 1)\n",
    "    plt.text(-0.04, -0.04, 'Indice de Gini : '+str(gini))\n",
    "    \n",
    "    plt.title('Positions du TOP 5 sur la courbe de Lorenz - '+sc)\n",
    "    plt.show()"
   ]
  },
  {
   "cell_type": "markdown",
   "metadata": {},
   "source": [
    "Tableau du TOP5"
   ]
  },
  {
   "cell_type": "code",
   "execution_count": 88,
   "metadata": {},
   "outputs": [
    {
     "data": {
      "text/html": [
       "<div>\n",
       "<style scoped>\n",
       "    .dataframe tbody tr th:only-of-type {\n",
       "        vertical-align: middle;\n",
       "    }\n",
       "\n",
       "    .dataframe tbody tr th {\n",
       "        vertical-align: top;\n",
       "    }\n",
       "\n",
       "    .dataframe thead th {\n",
       "        text-align: right;\n",
       "    }\n",
       "</style>\n",
       "<table border=\"1\" class=\"dataframe\">\n",
       "  <thead>\n",
       "    <tr style=\"text-align: right;\">\n",
       "      <th>Indicateur</th>\n",
       "      <th>Pays</th>\n",
       "      <th>Taux d'internautes</th>\n",
       "      <th>PIB/habitant</th>\n",
       "      <th>Cible</th>\n",
       "    </tr>\n",
       "  </thead>\n",
       "  <tbody>\n",
       "    <tr>\n",
       "      <th>227</th>\n",
       "      <td>United States</td>\n",
       "      <td>76.176737</td>\n",
       "      <td>53341.815958</td>\n",
       "      <td>34957269.0</td>\n",
       "    </tr>\n",
       "    <tr>\n",
       "      <th>37</th>\n",
       "      <td>China</td>\n",
       "      <td>53.200000</td>\n",
       "      <td>14399.447660</td>\n",
       "      <td>145088724.0</td>\n",
       "    </tr>\n",
       "    <tr>\n",
       "      <th>107</th>\n",
       "      <td>Japan</td>\n",
       "      <td>92.000000</td>\n",
       "      <td>38252.301138</td>\n",
       "      <td>9651073.0</td>\n",
       "    </tr>\n",
       "    <tr>\n",
       "      <th>51</th>\n",
       "      <td>Germany</td>\n",
       "      <td>89.647101</td>\n",
       "      <td>44260.359679</td>\n",
       "      <td>6783203.0</td>\n",
       "    </tr>\n",
       "    <tr>\n",
       "      <th>75</th>\n",
       "      <td>United Kingdom</td>\n",
       "      <td>94.775801</td>\n",
       "      <td>39229.848765</td>\n",
       "      <td>7078006.0</td>\n",
       "    </tr>\n",
       "  </tbody>\n",
       "</table>\n",
       "</div>"
      ],
      "text/plain": [
       "Indicateur            Pays  Taux d'internautes  PIB/habitant        Cible\n",
       "227          United States           76.176737  53341.815958   34957269.0\n",
       "37                   China           53.200000  14399.447660  145088724.0\n",
       "107                  Japan           92.000000  38252.301138    9651073.0\n",
       "51                 Germany           89.647101  44260.359679    6783203.0\n",
       "75          United Kingdom           94.775801  39229.848765    7078006.0"
      ]
     },
     "execution_count": 88,
     "metadata": {},
     "output_type": "execute_result"
    }
   ],
   "source": [
    "edStatsData.loc[edStatsData['Pays'].isin(top5)].sort_values('SCORE_SYNT', ascending=True)[[\"Pays\", \"Taux d'internautes\", \"PIB/habitant\", \"Cible\"]]"
   ]
  },
  {
   "cell_type": "markdown",
   "metadata": {},
   "source": [
    "**Perspectives**\n",
    "\n",
    "Il serait intéressant d'envisager l'évolution de ces classements à l'aulne de l'évolution démographique, toutes choses égales par ailleurs.\n",
    "Je regarde alors l'influence du taux de croissance démographique appliqué sur la cible.\n",
    "\n",
    "La construction du *SCORE_SYNT* fait qu'il est impacté directement et de façon inversement proportionnelle par ce taux d'où les perspectives marchés à 1, 2, 3 ou 5 ans."
   ]
  },
  {
   "cell_type": "code",
   "execution_count": 89,
   "metadata": {},
   "outputs": [
    {
     "data": {
      "text/html": [
       "<div>\n",
       "<style scoped>\n",
       "    .dataframe tbody tr th:only-of-type {\n",
       "        vertical-align: middle;\n",
       "    }\n",
       "\n",
       "    .dataframe tbody tr th {\n",
       "        vertical-align: top;\n",
       "    }\n",
       "\n",
       "    .dataframe thead th {\n",
       "        text-align: right;\n",
       "    }\n",
       "</style>\n",
       "<table border=\"1\" class=\"dataframe\">\n",
       "  <thead>\n",
       "    <tr style=\"text-align: right;\">\n",
       "      <th>Indicateur</th>\n",
       "      <th>Pays</th>\n",
       "      <th>Croissance démographique</th>\n",
       "      <th>SCORE_SYNT</th>\n",
       "      <th>Année_N+1</th>\n",
       "      <th>Année_N+2</th>\n",
       "      <th>Année_N+3</th>\n",
       "      <th>Année_N+5</th>\n",
       "    </tr>\n",
       "  </thead>\n",
       "  <tbody>\n",
       "    <tr>\n",
       "      <th>157</th>\n",
       "      <td>North America</td>\n",
       "      <td>0.747962</td>\n",
       "      <td>7.539405e+00</td>\n",
       "      <td>7.483432e+00</td>\n",
       "      <td>7.427874e+00</td>\n",
       "      <td>7.372729e+00</td>\n",
       "      <td>7.263664e+00</td>\n",
       "    </tr>\n",
       "    <tr>\n",
       "      <th>60</th>\n",
       "      <td>Europe &amp; Central Asia</td>\n",
       "      <td>0.503675</td>\n",
       "      <td>1.092468e+01</td>\n",
       "      <td>1.086993e+01</td>\n",
       "      <td>1.081546e+01</td>\n",
       "      <td>1.076125e+01</td>\n",
       "      <td>1.065366e+01</td>\n",
       "    </tr>\n",
       "    <tr>\n",
       "      <th>58</th>\n",
       "      <td>East Asia &amp; Pacific</td>\n",
       "      <td>0.683098</td>\n",
       "      <td>1.801541e+01</td>\n",
       "      <td>1.789318e+01</td>\n",
       "      <td>1.777178e+01</td>\n",
       "      <td>1.765121e+01</td>\n",
       "      <td>1.741250e+01</td>\n",
       "    </tr>\n",
       "    <tr>\n",
       "      <th>227</th>\n",
       "      <td>United States</td>\n",
       "      <td>0.692801</td>\n",
       "      <td>3.951877e+01</td>\n",
       "      <td>3.924687e+01</td>\n",
       "      <td>3.897684e+01</td>\n",
       "      <td>3.870866e+01</td>\n",
       "      <td>3.817784e+01</td>\n",
       "    </tr>\n",
       "    <tr>\n",
       "      <th>122</th>\n",
       "      <td>Latin America &amp; Caribbean</td>\n",
       "      <td>1.046807</td>\n",
       "      <td>6.288552e+01</td>\n",
       "      <td>6.223405e+01</td>\n",
       "      <td>6.158933e+01</td>\n",
       "      <td>6.095129e+01</td>\n",
       "      <td>5.969497e+01</td>\n",
       "    </tr>\n",
       "    <tr>\n",
       "      <th>...</th>\n",
       "      <td>...</td>\n",
       "      <td>...</td>\n",
       "      <td>...</td>\n",
       "      <td>...</td>\n",
       "      <td>...</td>\n",
       "      <td>...</td>\n",
       "      <td>...</td>\n",
       "    </tr>\n",
       "    <tr>\n",
       "      <th>137</th>\n",
       "      <td>Moldova</td>\n",
       "      <td>-0.059329</td>\n",
       "      <td>4.938612e+05</td>\n",
       "      <td>4.941544e+05</td>\n",
       "      <td>4.944478e+05</td>\n",
       "      <td>4.947413e+05</td>\n",
       "      <td>4.953289e+05</td>\n",
       "    </tr>\n",
       "    <tr>\n",
       "      <th>162</th>\n",
       "      <td>Nicaragua</td>\n",
       "      <td>1.110103</td>\n",
       "      <td>5.498202e+05</td>\n",
       "      <td>5.437837e+05</td>\n",
       "      <td>5.378134e+05</td>\n",
       "      <td>5.319086e+05</td>\n",
       "      <td>5.202930e+05</td>\n",
       "    </tr>\n",
       "    <tr>\n",
       "      <th>206</th>\n",
       "      <td>Swaziland</td>\n",
       "      <td>1.809667</td>\n",
       "      <td>8.391844e+05</td>\n",
       "      <td>8.242679e+05</td>\n",
       "      <td>8.096165e+05</td>\n",
       "      <td>7.952256e+05</td>\n",
       "      <td>7.672065e+05</td>\n",
       "    </tr>\n",
       "    <tr>\n",
       "      <th>175</th>\n",
       "      <td>Papua New Guinea</td>\n",
       "      <td>2.064027</td>\n",
       "      <td>1.518770e+06</td>\n",
       "      <td>1.488056e+06</td>\n",
       "      <td>1.457963e+06</td>\n",
       "      <td>1.428479e+06</td>\n",
       "      <td>1.371287e+06</td>\n",
       "    </tr>\n",
       "    <tr>\n",
       "      <th>41</th>\n",
       "      <td>Congo, Rep.</td>\n",
       "      <td>2.572357</td>\n",
       "      <td>1.969269e+06</td>\n",
       "      <td>1.919883e+06</td>\n",
       "      <td>1.871735e+06</td>\n",
       "      <td>1.824795e+06</td>\n",
       "      <td>1.734416e+06</td>\n",
       "    </tr>\n",
       "  </tbody>\n",
       "</table>\n",
       "<p>119 rows × 7 columns</p>\n",
       "</div>"
      ],
      "text/plain": [
       "Indicateur                       Pays  Croissance démographique    SCORE_SYNT  \\\n",
       "157                     North America                  0.747962  7.539405e+00   \n",
       "60              Europe & Central Asia                  0.503675  1.092468e+01   \n",
       "58                East Asia & Pacific                  0.683098  1.801541e+01   \n",
       "227                     United States                  0.692801  3.951877e+01   \n",
       "122         Latin America & Caribbean                  1.046807  6.288552e+01   \n",
       "..                                ...                       ...           ...   \n",
       "137                           Moldova                 -0.059329  4.938612e+05   \n",
       "162                         Nicaragua                  1.110103  5.498202e+05   \n",
       "206                         Swaziland                  1.809667  8.391844e+05   \n",
       "175                  Papua New Guinea                  2.064027  1.518770e+06   \n",
       "41                        Congo, Rep.                  2.572357  1.969269e+06   \n",
       "\n",
       "Indicateur     Année_N+1     Année_N+2     Année_N+3     Année_N+5  \n",
       "157         7.483432e+00  7.427874e+00  7.372729e+00  7.263664e+00  \n",
       "60          1.086993e+01  1.081546e+01  1.076125e+01  1.065366e+01  \n",
       "58          1.789318e+01  1.777178e+01  1.765121e+01  1.741250e+01  \n",
       "227         3.924687e+01  3.897684e+01  3.870866e+01  3.817784e+01  \n",
       "122         6.223405e+01  6.158933e+01  6.095129e+01  5.969497e+01  \n",
       "..                   ...           ...           ...           ...  \n",
       "137         4.941544e+05  4.944478e+05  4.947413e+05  4.953289e+05  \n",
       "162         5.437837e+05  5.378134e+05  5.319086e+05  5.202930e+05  \n",
       "206         8.242679e+05  8.096165e+05  7.952256e+05  7.672065e+05  \n",
       "175         1.488056e+06  1.457963e+06  1.428479e+06  1.371287e+06  \n",
       "41          1.919883e+06  1.871735e+06  1.824795e+06  1.734416e+06  \n",
       "\n",
       "[119 rows x 7 columns]"
      ]
     },
     "execution_count": 89,
     "metadata": {},
     "output_type": "execute_result"
    }
   ],
   "source": [
    "# Calcul du SCORE_SYNT dans les années futures\n",
    "annees_futures = [('Année_N+1', 1), ('Année_N+2', 2), ('Année_N+3', 3), ('Année_N+5', 5)]\n",
    "for (na, af) in annees_futures:\n",
    "    edStatsData[na] = edStatsData['SCORE_SYNT'] / (1 + edStatsData['Croissance démographique'] / 100)**af\n",
    "    \n",
    "\n",
    "edStatsData.sort_values('SCORE_SYNT', ascending=True)[['Pays', 'Croissance démographique', 'SCORE_SYNT', 'Année_N+1', 'Année_N+2', 'Année_N+3', 'Année_N+5']]"
   ]
  },
  {
   "cell_type": "code",
   "execution_count": 90,
   "metadata": {},
   "outputs": [
    {
     "data": {
      "text/html": [
       "<div>\n",
       "<style scoped>\n",
       "    .dataframe tbody tr th:only-of-type {\n",
       "        vertical-align: middle;\n",
       "    }\n",
       "\n",
       "    .dataframe tbody tr th {\n",
       "        vertical-align: top;\n",
       "    }\n",
       "\n",
       "    .dataframe thead th {\n",
       "        text-align: right;\n",
       "    }\n",
       "</style>\n",
       "<table border=\"1\" class=\"dataframe\">\n",
       "  <thead>\n",
       "    <tr style=\"text-align: right;\">\n",
       "      <th>Indicateur</th>\n",
       "      <th>index</th>\n",
       "      <th>Année_N</th>\n",
       "      <th>Année_N+1</th>\n",
       "      <th>Année_N+2</th>\n",
       "      <th>Année_N+3</th>\n",
       "      <th>Année_N+5</th>\n",
       "    </tr>\n",
       "  </thead>\n",
       "  <tbody>\n",
       "    <tr>\n",
       "      <th>0</th>\n",
       "      <td>157</td>\n",
       "      <td>North America</td>\n",
       "      <td>North America</td>\n",
       "      <td>North America</td>\n",
       "      <td>North America</td>\n",
       "      <td>North America</td>\n",
       "    </tr>\n",
       "    <tr>\n",
       "      <th>1</th>\n",
       "      <td>60</td>\n",
       "      <td>Europe &amp; Central Asia</td>\n",
       "      <td>Europe &amp; Central Asia</td>\n",
       "      <td>Europe &amp; Central Asia</td>\n",
       "      <td>Europe &amp; Central Asia</td>\n",
       "      <td>Europe &amp; Central Asia</td>\n",
       "    </tr>\n",
       "    <tr>\n",
       "      <th>2</th>\n",
       "      <td>58</td>\n",
       "      <td>East Asia &amp; Pacific</td>\n",
       "      <td>East Asia &amp; Pacific</td>\n",
       "      <td>East Asia &amp; Pacific</td>\n",
       "      <td>East Asia &amp; Pacific</td>\n",
       "      <td>East Asia &amp; Pacific</td>\n",
       "    </tr>\n",
       "    <tr>\n",
       "      <th>3</th>\n",
       "      <td>122</td>\n",
       "      <td>Latin America &amp; Caribbean</td>\n",
       "      <td>Latin America &amp; Caribbean</td>\n",
       "      <td>Latin America &amp; Caribbean</td>\n",
       "      <td>Latin America &amp; Caribbean</td>\n",
       "      <td>Latin America &amp; Caribbean</td>\n",
       "    </tr>\n",
       "    <tr>\n",
       "      <th>4</th>\n",
       "      <td>140</td>\n",
       "      <td>Middle East &amp; North Africa</td>\n",
       "      <td>Middle East &amp; North Africa</td>\n",
       "      <td>Middle East &amp; North Africa</td>\n",
       "      <td>Middle East &amp; North Africa</td>\n",
       "      <td>Middle East &amp; North Africa</td>\n",
       "    </tr>\n",
       "    <tr>\n",
       "      <th>5</th>\n",
       "      <td>187</td>\n",
       "      <td>South Asia</td>\n",
       "      <td>South Asia</td>\n",
       "      <td>South Asia</td>\n",
       "      <td>South Asia</td>\n",
       "      <td>South Asia</td>\n",
       "    </tr>\n",
       "    <tr>\n",
       "      <th>6</th>\n",
       "      <td>200</td>\n",
       "      <td>Sub-Saharan Africa</td>\n",
       "      <td>Sub-Saharan Africa</td>\n",
       "      <td>Sub-Saharan Africa</td>\n",
       "      <td>Sub-Saharan Africa</td>\n",
       "      <td>Sub-Saharan Africa</td>\n",
       "    </tr>\n",
       "  </tbody>\n",
       "</table>\n",
       "</div>"
      ],
      "text/plain": [
       "Indicateur  index                     Année_N                   Année_N+1  \\\n",
       "0             157               North America               North America   \n",
       "1              60       Europe & Central Asia       Europe & Central Asia   \n",
       "2              58         East Asia & Pacific         East Asia & Pacific   \n",
       "3             122   Latin America & Caribbean   Latin America & Caribbean   \n",
       "4             140  Middle East & North Africa  Middle East & North Africa   \n",
       "5             187                  South Asia                  South Asia   \n",
       "6             200          Sub-Saharan Africa          Sub-Saharan Africa   \n",
       "\n",
       "Indicateur                   Année_N+2                   Année_N+3  \\\n",
       "0                        North America               North America   \n",
       "1                Europe & Central Asia       Europe & Central Asia   \n",
       "2                  East Asia & Pacific         East Asia & Pacific   \n",
       "3            Latin America & Caribbean   Latin America & Caribbean   \n",
       "4           Middle East & North Africa  Middle East & North Africa   \n",
       "5                           South Asia                  South Asia   \n",
       "6                   Sub-Saharan Africa          Sub-Saharan Africa   \n",
       "\n",
       "Indicateur                   Année_N+5  \n",
       "0                        North America  \n",
       "1                Europe & Central Asia  \n",
       "2                  East Asia & Pacific  \n",
       "3            Latin America & Caribbean  \n",
       "4           Middle East & North Africa  \n",
       "5                           South Asia  \n",
       "6                   Sub-Saharan Africa  "
      ]
     },
     "execution_count": 90,
     "metadata": {},
     "output_type": "execute_result"
    }
   ],
   "source": [
    "# Evolution du classement des continents\n",
    "df_pespectives_continent = edStatsData.loc[edStatsData['Type'] == 'Continent'].sort_values('SCORE_SYNT', ascending=True)[['Pays']]\n",
    "df_pespectives_continent = df_pespectives_continent.rename(columns={'Pays': 'Année_N'})\n",
    "df_pespectives_continent = df_pespectives_continent.reset_index()\n",
    "\n",
    "for (na, af) in annees_futures:\n",
    "        df_pespectives_continent[na] = edStatsData.loc[edStatsData['Type'] == 'Continent'].sort_values(na, ascending=True, ignore_index=True)[['Pays']]\n",
    "\n",
    "df_pespectives_continent"
   ]
  },
  {
   "cell_type": "code",
   "execution_count": 91,
   "metadata": {},
   "outputs": [
    {
     "data": {
      "text/html": [
       "<div>\n",
       "<style scoped>\n",
       "    .dataframe tbody tr th:only-of-type {\n",
       "        vertical-align: middle;\n",
       "    }\n",
       "\n",
       "    .dataframe tbody tr th {\n",
       "        vertical-align: top;\n",
       "    }\n",
       "\n",
       "    .dataframe thead th {\n",
       "        text-align: right;\n",
       "    }\n",
       "</style>\n",
       "<table border=\"1\" class=\"dataframe\">\n",
       "  <thead>\n",
       "    <tr style=\"text-align: right;\">\n",
       "      <th>Indicateur</th>\n",
       "      <th>index</th>\n",
       "      <th>Année_N</th>\n",
       "      <th>Année_N+1</th>\n",
       "      <th>Année_N+2</th>\n",
       "      <th>Année_N+3</th>\n",
       "      <th>Année_N+5</th>\n",
       "    </tr>\n",
       "  </thead>\n",
       "  <tbody>\n",
       "    <tr>\n",
       "      <th>0</th>\n",
       "      <td>227</td>\n",
       "      <td>United States</td>\n",
       "      <td>United States</td>\n",
       "      <td>United States</td>\n",
       "      <td>United States</td>\n",
       "      <td>United States</td>\n",
       "    </tr>\n",
       "    <tr>\n",
       "      <th>1</th>\n",
       "      <td>37</td>\n",
       "      <td>China</td>\n",
       "      <td>China</td>\n",
       "      <td>China</td>\n",
       "      <td>China</td>\n",
       "      <td>China</td>\n",
       "    </tr>\n",
       "    <tr>\n",
       "      <th>2</th>\n",
       "      <td>107</td>\n",
       "      <td>Japan</td>\n",
       "      <td>Japan</td>\n",
       "      <td>Japan</td>\n",
       "      <td>Japan</td>\n",
       "      <td>Japan</td>\n",
       "    </tr>\n",
       "    <tr>\n",
       "      <th>3</th>\n",
       "      <td>51</td>\n",
       "      <td>Germany</td>\n",
       "      <td>Germany</td>\n",
       "      <td>Germany</td>\n",
       "      <td>Germany</td>\n",
       "      <td>Germany</td>\n",
       "    </tr>\n",
       "    <tr>\n",
       "      <th>4</th>\n",
       "      <td>75</td>\n",
       "      <td>United Kingdom</td>\n",
       "      <td>United Kingdom</td>\n",
       "      <td>United Kingdom</td>\n",
       "      <td>United Kingdom</td>\n",
       "      <td>United Kingdom</td>\n",
       "    </tr>\n",
       "    <tr>\n",
       "      <th>5</th>\n",
       "      <td>71</td>\n",
       "      <td>France</td>\n",
       "      <td>Saudi Arabia</td>\n",
       "      <td>Saudi Arabia</td>\n",
       "      <td>Saudi Arabia</td>\n",
       "      <td>Saudi Arabia</td>\n",
       "    </tr>\n",
       "    <tr>\n",
       "      <th>6</th>\n",
       "      <td>188</td>\n",
       "      <td>Saudi Arabia</td>\n",
       "      <td>France</td>\n",
       "      <td>France</td>\n",
       "      <td>France</td>\n",
       "      <td>France</td>\n",
       "    </tr>\n",
       "    <tr>\n",
       "      <th>7</th>\n",
       "      <td>114</td>\n",
       "      <td>Korea, Rep.</td>\n",
       "      <td>Korea, Rep.</td>\n",
       "      <td>Korea, Rep.</td>\n",
       "      <td>Canada</td>\n",
       "      <td>Canada</td>\n",
       "    </tr>\n",
       "    <tr>\n",
       "      <th>8</th>\n",
       "      <td>33</td>\n",
       "      <td>Canada</td>\n",
       "      <td>Canada</td>\n",
       "      <td>Canada</td>\n",
       "      <td>Korea, Rep.</td>\n",
       "      <td>Korea, Rep.</td>\n",
       "    </tr>\n",
       "    <tr>\n",
       "      <th>9</th>\n",
       "      <td>185</td>\n",
       "      <td>Russian Federation</td>\n",
       "      <td>Russian Federation</td>\n",
       "      <td>Russian Federation</td>\n",
       "      <td>Russian Federation</td>\n",
       "      <td>Russian Federation</td>\n",
       "    </tr>\n",
       "    <tr>\n",
       "      <th>10</th>\n",
       "      <td>104</td>\n",
       "      <td>Italy</td>\n",
       "      <td>Italy</td>\n",
       "      <td>Italy</td>\n",
       "      <td>Italy</td>\n",
       "      <td>Turkey</td>\n",
       "    </tr>\n",
       "    <tr>\n",
       "      <th>11</th>\n",
       "      <td>220</td>\n",
       "      <td>Turkey</td>\n",
       "      <td>Turkey</td>\n",
       "      <td>Turkey</td>\n",
       "      <td>Turkey</td>\n",
       "      <td>Italy</td>\n",
       "    </tr>\n",
       "    <tr>\n",
       "      <th>12</th>\n",
       "      <td>11</td>\n",
       "      <td>Australia</td>\n",
       "      <td>Australia</td>\n",
       "      <td>Australia</td>\n",
       "      <td>Australia</td>\n",
       "      <td>Australia</td>\n",
       "    </tr>\n",
       "    <tr>\n",
       "      <th>13</th>\n",
       "      <td>6</td>\n",
       "      <td>United Arab Emirates</td>\n",
       "      <td>United Arab Emirates</td>\n",
       "      <td>United Arab Emirates</td>\n",
       "      <td>United Arab Emirates</td>\n",
       "      <td>Qatar</td>\n",
       "    </tr>\n",
       "    <tr>\n",
       "      <th>14</th>\n",
       "      <td>163</td>\n",
       "      <td>Netherlands</td>\n",
       "      <td>Qatar</td>\n",
       "      <td>Qatar</td>\n",
       "      <td>Qatar</td>\n",
       "      <td>United Arab Emirates</td>\n",
       "    </tr>\n",
       "  </tbody>\n",
       "</table>\n",
       "</div>"
      ],
      "text/plain": [
       "Indicateur  index               Année_N             Année_N+1  \\\n",
       "0             227         United States         United States   \n",
       "1              37                 China                 China   \n",
       "2             107                 Japan                 Japan   \n",
       "3              51               Germany               Germany   \n",
       "4              75        United Kingdom        United Kingdom   \n",
       "5              71                France          Saudi Arabia   \n",
       "6             188          Saudi Arabia                France   \n",
       "7             114           Korea, Rep.           Korea, Rep.   \n",
       "8              33                Canada                Canada   \n",
       "9             185    Russian Federation    Russian Federation   \n",
       "10            104                 Italy                 Italy   \n",
       "11            220                Turkey                Turkey   \n",
       "12             11             Australia             Australia   \n",
       "13              6  United Arab Emirates  United Arab Emirates   \n",
       "14            163           Netherlands                 Qatar   \n",
       "\n",
       "Indicateur             Année_N+2             Année_N+3             Année_N+5  \n",
       "0                  United States         United States         United States  \n",
       "1                          China                 China                 China  \n",
       "2                          Japan                 Japan                 Japan  \n",
       "3                        Germany               Germany               Germany  \n",
       "4                 United Kingdom        United Kingdom        United Kingdom  \n",
       "5                   Saudi Arabia          Saudi Arabia          Saudi Arabia  \n",
       "6                         France                France                France  \n",
       "7                    Korea, Rep.                Canada                Canada  \n",
       "8                         Canada           Korea, Rep.           Korea, Rep.  \n",
       "9             Russian Federation    Russian Federation    Russian Federation  \n",
       "10                         Italy                 Italy                Turkey  \n",
       "11                        Turkey                Turkey                 Italy  \n",
       "12                     Australia             Australia             Australia  \n",
       "13          United Arab Emirates  United Arab Emirates                 Qatar  \n",
       "14                         Qatar                 Qatar  United Arab Emirates  "
      ]
     },
     "execution_count": 91,
     "metadata": {},
     "output_type": "execute_result"
    }
   ],
   "source": [
    "# Evolution du classement des pays\n",
    "df_pespectives_pays = edStatsData.loc[edStatsData['Type'] == 'Pays'].sort_values('SCORE_SYNT', ascending=True)[['Pays']].iloc[:15]\n",
    "df_pespectives_pays = df_pespectives_pays.rename(columns={'Pays': 'Année_N'})\n",
    "df_pespectives_pays = df_pespectives_pays.reset_index()\n",
    "\n",
    "for (na, af) in annees_futures:\n",
    "        df_pespectives_pays[na] = edStatsData.loc[edStatsData['Type'] == 'Pays'].sort_values(na, ascending=True, ignore_index=True)[['Pays']].iloc[:15]\n",
    "\n",
    "df_pespectives_pays"
   ]
  },
  {
   "cell_type": "markdown",
   "metadata": {},
   "source": [
    "**Conclusion sur les perspectives d'évolution**\n",
    "\n",
    "Il n'y a aucune évolution parmi les continents, dans les 5 années à venir.\n",
    "\n",
    "Au niveau des pays, de petites évolutions sont à relever :\n",
    "- dès l'année N+1, la France se fait doubler par l'Arabie Saoudite, tandis que le Quatar entre dans ce Top 15 au détriment des Pays-Bas\n",
    "- plus tard, en année N+3, le Canada dépasse la Corée\n",
    "- pour finir, en année N+5, le Quatar poursuit sa progression en dépassant les Emirats Arabes Unis.\n",
    "\n",
    "**Aujourd'hui, le choix de se développer parmi les 5 premiers pays - Etats-Unis, Chine, Japon, Allemagne et Royaume-Uni - resterait toujours judicieux, 5 ans après.**"
   ]
  }
 ],
 "metadata": {
  "colab": {
   "authorship_tag": "ABX9TyPAPX2MFe8n25PW8JjRecbo",
   "provenance": []
  },
  "kernelspec": {
   "display_name": "Python 3 (ipykernel)",
   "language": "python",
   "name": "python3"
  },
  "language_info": {
   "codemirror_mode": {
    "name": "ipython",
    "version": 3
   },
   "file_extension": ".py",
   "mimetype": "text/x-python",
   "name": "python",
   "nbconvert_exporter": "python",
   "pygments_lexer": "ipython3",
   "version": "3.9.13"
  }
 },
 "nbformat": 4,
 "nbformat_minor": 1
}
